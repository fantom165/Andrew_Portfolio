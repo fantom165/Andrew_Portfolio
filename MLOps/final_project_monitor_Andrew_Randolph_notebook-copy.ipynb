{
  "cells": [
    {
      "cell_type": "markdown",
      "metadata": {
        "nteract": {
          "transient": {
            "deleting": false
          }
        }
      },
      "source": [
        "# Example Project: Model Monitoring - Azure"
      ]
    },
    {
      "cell_type": "markdown",
      "metadata": {
        "nteract": {
          "transient": {
            "deleting": false
          }
        }
      },
      "source": [
        "**Problem Statement:** \n",
        "\n",
        "The objective is to analyze the relationship between advertising expenditures across different media sources, including TV, Radio, and Newspaper, and their impact on sales performance. The goal is to determine the optimal allocation of advertising budgets across these channels to maximize sales revenue. By examining the correlation between advertising expenditures and sales, the company aims to identify the most effective advertising strategies and make data-driven decisions to improve its marketing efforts. The insights gained from this analysis will enable the company to optimize resource allocation and develop a robust advertising strategy that aligns with its sales objectives.\n",
        "\n",
        "Additionally, the business recognizes the need for ongoing model monitoring to ensure the effectiveness and accuracy of the advertising expenditure-to-sales relationship. By implementing a comprehensive model monitoring system, the company aims to continuously evaluate the performance of the advertising strategy and identify any potential deviations or shifts in the relationship. This will enable timely adjustments and optimizations to maintain the desired level of sales revenue."
      ]
    },
    {
      "cell_type": "markdown",
      "metadata": {
        "nteract": {
          "transient": {
            "deleting": false
          }
        }
      },
      "source": [
        "### Create a compute cluster for jobs"
      ]
    },
    {
      "cell_type": "code",
      "execution_count": 3,
      "metadata": {
        "collapsed": false,
        "gather": {
          "logged": 1688828771595
        },
        "jupyter": {
          "outputs_hidden": false,
          "source_hidden": false
        },
        "nteract": {
          "transient": {
            "deleting": false
          }
        }
      },
      "outputs": [],
      "source": [
        "#pip install azure.ai.ml\n",
        "import azure.ai.ml"
      ]
    },
    {
      "cell_type": "code",
      "execution_count": 4,
      "metadata": {
        "collapsed": false,
        "gather": {
          "logged": 1688828774275
        },
        "jupyter": {
          "outputs_hidden": false,
          "source_hidden": false
        },
        "nteract": {
          "transient": {
            "deleting": false
          }
        }
      },
      "outputs": [],
      "source": [
        "# Handle to the workspace\n",
        "from azure.ai.ml import MLClient\n",
        "\n",
        "# Authentication package\n",
        "from azure.identity import DefaultAzureCredential\n",
        "\n",
        "credential = DefaultAzureCredential()"
      ]
    },
    {
      "cell_type": "code",
      "execution_count": 5,
      "metadata": {
        "collapsed": false,
        "gather": {
          "logged": 1688828776567
        },
        "jupyter": {
          "outputs_hidden": false,
          "source_hidden": false
        },
        "nteract": {
          "transient": {
            "deleting": false
          }
        }
      },
      "outputs": [],
      "source": [
        "# Get a handle to the workspace\n",
        "ml_client = MLClient(\n",
        "    credential=credential,\n",
        "    subscription_id=\"8c0836c0-f63c-4878-aac9-0566796a0de8\",\n",
        "    resource_group_name=\"test-resource\",\n",
        "    workspace_name=\"demo_azureML\",\n",
        ")"
      ]
    },
    {
      "cell_type": "code",
      "execution_count": 6,
      "metadata": {
        "collapsed": false,
        "gather": {
          "logged": 1688828778884
        },
        "jupyter": {
          "outputs_hidden": false,
          "source_hidden": false
        },
        "nteract": {
          "transient": {
            "deleting": false
          }
        }
      },
      "outputs": [
        {
          "name": "stdout",
          "output_type": "stream",
          "text": [
            "Ready to work with demo_azureML\n"
          ]
        }
      ],
      "source": [
        "# Get the workspace\n",
        "from azureml.core import Workspace\n",
        "\n",
        "ws = Workspace(subscription_id=\"8c0836c0-f63c-4878-aac9-0566796a0de8\",\n",
        "                resource_group=\"test-resource\",\n",
        "                workspace_name=\"demo_azureML\")\n",
        "print('Ready to work with', ws.name)"
      ]
    },
    {
      "cell_type": "code",
      "execution_count": 16,
      "metadata": {
        "collapsed": false,
        "gather": {
          "logged": 1686181421855
        },
        "jupyter": {
          "outputs_hidden": false,
          "source_hidden": false
        },
        "nteract": {
          "transient": {
            "deleting": false
          }
        }
      },
      "outputs": [
        {
          "name": "stdout",
          "output_type": "stream",
          "text": [
            "You already have a cluster named cpu-cluster-preprocessing, we'll reuse it as is.\n"
          ]
        }
      ],
      "source": [
        "from azure.ai.ml.entities import AmlCompute\n",
        "\n",
        "# Name assigned to the compute cluster\n",
        "cpu_compute_target = \"cpu-cluster-preprocessing\"\n",
        "\n",
        "try:\n",
        "    # let's see if the compute target already exists\n",
        "    cpu_cluster = ml_client.compute.get(cpu_compute_target)\n",
        "    print(\n",
        "        f\"You already have a cluster named {cpu_compute_target}, we'll reuse it as is.\"\n",
        "    )\n",
        "\n",
        "except Exception:\n",
        "    print(\"Creating a new cpu compute target...\")\n",
        "\n",
        "    # Let's create the Azure ML compute object with the intended parameters\n",
        "    cpu_cluster = AmlCompute(\n",
        "        name=cpu_compute_target,\n",
        "        # Azure ML Compute is the on-demand VM service\n",
        "        type=\"amlcompute\",\n",
        "        # VM Family\n",
        "        size=\"Standard_D2_v3\",\n",
        "        # Minimum running nodes when there is no job running\n",
        "        min_instances=0,\n",
        "        # Nodes in cluster\n",
        "        max_instances=1,\n",
        "        # How many seconds will the node running after the job termination\n",
        "        idle_time_before_scale_down=180,\n",
        "        # Dedicated or LowPriority. The latter is cheaper but there is a chance of job termination\n",
        "        tier=\"Dedicated\",\n",
        "    )\n",
        "    print(\n",
        "        f\"AMLCompute with name {cpu_cluster.name} will be created, with compute size {cpu_cluster.size}\"\n",
        "    )\n",
        "    # Now, we pass the object to MLClient's create_or_update method\n",
        "    cpu_cluster = ml_client.compute.begin_create_or_update(cpu_cluster)"
      ]
    },
    {
      "cell_type": "markdown",
      "metadata": {
        "nteract": {
          "transient": {
            "deleting": false
          }
        }
      },
      "source": [
        "### Define and create an environment "
      ]
    },
    {
      "cell_type": "code",
      "execution_count": 7,
      "metadata": {
        "collapsed": false,
        "gather": {
          "logged": 1688828790913
        },
        "jupyter": {
          "outputs_hidden": false,
          "source_hidden": false
        },
        "nteract": {
          "transient": {
            "deleting": false
          }
        }
      },
      "outputs": [],
      "source": [
        "import os\n",
        "\n",
        "## Set the name of the directory we want to create\n",
        "dependencies_dir = \"./env\"\n",
        "\n",
        "# # The os.makedirs() function creates a directory\n",
        "# exist_ok=True means that the function will not raise an exception if the directory already exists\n",
        "os.makedirs(dependencies_dir, exist_ok=True)"
      ]
    },
    {
      "cell_type": "code",
      "execution_count": 7,
      "metadata": {
        "collapsed": false,
        "gather": {
          "logged": 1686183049066
        },
        "jupyter": {
          "outputs_hidden": false,
          "source_hidden": false
        },
        "nteract": {
          "transient": {
            "deleting": false
          }
        }
      },
      "outputs": [
        {
          "name": "stdout",
          "output_type": "stream",
          "text": [
            "Overwriting ./env/conda.yaml\n"
          ]
        }
      ],
      "source": [
        "%%writefile {dependencies_dir}/conda.yaml\n",
        "name: sklearn-env\n",
        "channels:\n",
        "  - conda-forge\n",
        "dependencies:\n",
        "  - python=3.8\n",
        "  - pip=21.2.4\n",
        "  - scikit-learn=0.24.2\n",
        "  - scipy=1.7.1\n",
        "  - pip:  \n",
        "    - mlflow== 2.4.1\n",
        "    - azureml-mlflow==1.42.0\n",
        "    - azureml-inference-server-http"
      ]
    },
    {
      "cell_type": "code",
      "execution_count": 9,
      "metadata": {
        "gather": {
          "logged": 1688825717241
        }
      },
      "outputs": [
        {
          "name": "stdout",
          "output_type": "stream",
          "text": [
            "Environment with name visa_preprocessing_env is registered to workspace, the environment version is 5\n"
          ]
        }
      ],
      "source": [
        "# Import the Environment class from the azure.ai.ml.entities module\n",
        "from azure.ai.ml.entities import Environment\n",
        "\n",
        "# Set the name of the custom environment we want to create\n",
        "custom_env_name = \"visa_preprocessing_env\"\n",
        "\n",
        "# Create an Environment object with the specified properties\n",
        "job_env = Environment(\n",
        "    name=custom_env_name,\n",
        "    description=\"Custom environment for mid-term project\",\n",
        "    conda_file=os.path.join(dependencies_dir, \"conda.yaml\"),\n",
        "    image=\"mcr.microsoft.com/azureml/openmpi4.1.0-ubuntu20.04:latest\",\n",
        ")\n",
        "job_env = ml_client.environments.create_or_update(job_env)\n",
        "\n",
        "# Print out some information about the registered environment\n",
        "print(\n",
        "    f\"Environment with name {job_env.name} is registered to workspace, the environment version is {job_env.version}\"\n",
        ")"
      ]
    },
    {
      "cell_type": "code",
      "execution_count": 8,
      "metadata": {
        "gather": {
          "logged": 1688828801846
        }
      },
      "outputs": [],
      "source": [
        "# Getting the environment if it already exists\n",
        "job_env = ml_client.environments.get(name=\"visa_preprocessing_env\", label=\"latest\")"
      ]
    },
    {
      "cell_type": "markdown",
      "metadata": {
        "nteract": {
          "transient": {
            "deleting": false
          }
        }
      },
      "source": [
        "### Create a processing script to perform the data preprocessing job"
      ]
    },
    {
      "cell_type": "code",
      "execution_count": 9,
      "metadata": {
        "gather": {
          "logged": 1688828806342
        }
      },
      "outputs": [],
      "source": [
        "import os\n",
        "\n",
        "src_dir = \"./src\"\n",
        "os.makedirs(src_dir, exist_ok=True)"
      ]
    },
    {
      "cell_type": "code",
      "execution_count": 15,
      "metadata": {},
      "outputs": [],
      "source": [
        "#pip install sklearn"
      ]
    },
    {
      "cell_type": "code",
      "execution_count": 26,
      "metadata": {},
      "outputs": [],
      "source": [
        "#import mlflow"
      ]
    },
    {
      "cell_type": "code",
      "execution_count": 4,
      "metadata": {},
      "outputs": [],
      "source": [
        "#import azureml"
      ]
    },
    {
      "cell_type": "code",
      "execution_count": 12,
      "metadata": {
        "gather": {
          "logged": 1688825751890
        }
      },
      "outputs": [],
      "source": [
        "from sklearn import datasets"
      ]
    },
    {
      "cell_type": "code",
      "execution_count": 5,
      "metadata": {},
      "outputs": [
        {
          "name": "stdout",
          "output_type": "stream",
          "text": [
            "1.51.0\n"
          ]
        }
      ],
      "source": [
        "#print(azureml.core.VERSION)\n"
      ]
    },
    {
      "cell_type": "code",
      "execution_count": 9,
      "metadata": {},
      "outputs": [],
      "source": [
        "#pip install --upgrade azureml-sdk"
      ]
    },
    {
      "cell_type": "code",
      "execution_count": 10,
      "metadata": {},
      "outputs": [],
      "source": [
        "#pip install azureml-core"
      ]
    },
    {
      "cell_type": "code",
      "execution_count": null,
      "metadata": {
        "jupyter": {
          "outputs_hidden": false,
          "source_hidden": false
        },
        "nteract": {
          "transient": {
            "deleting": false
          }
        }
      },
      "outputs": [],
      "source": [
        "# To use the training script, first create a directory where you will store the file.\n",
        "# import os\n",
        "\n",
        "# src_dir = \"./src\"\n",
        "# os.makedirs(src_dir, exist_ok=True)"
      ]
    },
    {
      "cell_type": "code",
      "execution_count": 13,
      "metadata": {
        "collapsed": false,
        "jupyter": {
          "outputs_hidden": false
        },
        "nteract": {
          "transient": {
            "deleting": false
          }
        }
      },
      "outputs": [
        {
          "name": "stdout",
          "output_type": "stream",
          "text": [
            "Overwriting ./src/main.py\n"
          ]
        }
      ],
      "source": [
        "%%writefile {src_dir}/main.py\n",
        "\n",
        "# importing necessary libraries\n",
        "import argparse\n",
        "import pandas as pd\n",
        "import azureml.core\n",
        "import numpy as np\n",
        "import mlflow\n",
        "import mlflow.sklearn\n",
        "import os\n",
        "from sklearn.preprocessing import LabelEncoder, StandardScaler\n",
        "from sklearn import datasets\n",
        "from sklearn.metrics import confusion_matrix\n",
        "from sklearn.pipeline import make_pipeline\n",
        "from sklearn.compose import make_column_transformer\n",
        "\n",
        "from sklearn.model_selection import train_test_split\n",
        "\n",
        "from sklearn.ensemble import GradientBoostingRegressor\n",
        "\n",
        "def main():\n",
        "\n",
        "    mlflow.start_run() # Start an MLflow run\n",
        "\n",
        "    parser = argparse.ArgumentParser() # Create an argument parser\n",
        "    parser.add_argument(\"--data\", type=str)  # Add an argument for the data file path\n",
        "    parser.add_argument(\"--learning-rate\", required=False, default=0.1, type=float)\n",
        "    parser.add_argument(\"--max-depth\", required=False, default=4, type=float)\n",
        "    parser.add_argument(\"--n-estimators\", required=False, default=100, type=int)\n",
        "    args = parser.parse_args()\n",
        "\n",
        "    advertising = pd.read_csv(args.data)\n",
        "\n",
        "    from sklearn.model_selection import train_test_split\n",
        "    X = advertising.drop(columns=[\"Sales\"])\n",
        "    X = pd.get_dummies(X,drop_first=True)\n",
        "\n",
        "    y = advertising[\"Sales\"]\n",
        "\n",
        "    X_train, X_test, y_train, y_test = train_test_split(\n",
        "            X, y, test_size=0.2, random_state=42\n",
        "    )\n",
        "    # Create a Gradient Boosting Regressor model with the specified hyperparameters\n",
        "    model_gbr = GradientBoostingRegressor(\n",
        "        n_estimators=args.n_estimators,\n",
        "        learning_rate=args.learning_rate,\n",
        "        max_depth=args.max_depth\n",
        "    )\n",
        "\n",
        "\n",
        "    model_gbr.fit(X_train, y_train)\n",
        "\n",
        "    rmse = model_gbr.score(X_test, y_test)\n",
        "    mse = model_gbr.score(X_test, y_test)\n",
        "\n",
        "    mlflow.log_metric(\"RMSE\", float(rmse))\n",
        "    mlflow.log_metric(\"MSE\", float(mse))\n",
        "\n",
        "    # set the name for the registered model\n",
        "    registered_model_name=\"advertising_decisiontree_model\"\n",
        "\n",
        "    print(\"Registering model pipeline\")\n",
        "     # Log the trained model to MLflow\n",
        "    mlflow.sklearn.log_model(\n",
        "        sk_model=model_gbr,\n",
        "        registered_model_name=registered_model_name,\n",
        "        artifact_path=registered_model_name\n",
        "    )\n",
        "\n",
        "    # # Saving the model to a file\n",
        "    print(\"Saving the model via MLFlow\")\n",
        "    mlflow.sklearn.save_model(\n",
        "        sk_model=model_gbr,\n",
        "        path=os.path.join(registered_model_name, \"trained_advertising_model\"),\n",
        "    )\n",
        "    # End the MLflow run\n",
        "\n",
        "    mlflow.end_run()\n",
        "\n",
        "\n",
        "if __name__ == '__main__':\n",
        "    main()\n",
        "\n"
      ]
    },
    {
      "cell_type": "markdown",
      "metadata": {
        "nteract": {
          "transient": {
            "deleting": false
          }
        }
      },
      "source": [
        "### Configure the processing job"
      ]
    },
    {
      "cell_type": "code",
      "execution_count": 14,
      "metadata": {
        "collapsed": false,
        "gather": {
          "logged": 1688825790899
        },
        "jupyter": {
          "outputs_hidden": false
        },
        "nteract": {
          "transient": {
            "deleting": false
          }
        }
      },
      "outputs": [],
      "source": [
        "# Import the necessary modules\n",
        "from azure.ai.ml import command\n",
        "from azure.ai.ml import Input\n",
        "\n",
        "# Define a new AML job using the `command` function\n",
        "job = command(\n",
        "    inputs=dict(\n",
        "        data=Input(\n",
        "            type=\"uri_file\",\n",
        "            #path=\"azureml:advertising_sales:1\", # The path to the input data file from data asset\n",
        "            path=\"./Data/Advertising_Sales.csv\",\n",
        "            #path=\"UI/2023-07-07_191924_UTC/Advertising_Sales.csv\",\n",
        "        )),\n",
        "    # Specify the directory containing the code to be run in the job\n",
        "    code=\"./src/\",\n",
        "    # Specify the command to be run in the job, including the input data and parameters as command line arguments\n",
        "    command=\"python main.py --data ${{inputs.data}}\",\n",
        "    # Specify the environment to be used for the job\n",
        "    environment=\"visa_preprocessing_env@latest\",\n",
        "    # Specify the compute target to be used for the job\n",
        "    compute=\"cpu-cluster-preprocessing\",\n",
        "    # Specify the name of the experiment for the job\n",
        "    experiment_name=\"train_advertising_sales\",\n",
        "     # Specify the display name for the job\n",
        "    display_name=\"gbr_advertising_sales_prediction\",\n",
        ")"
      ]
    },
    {
      "cell_type": "markdown",
      "metadata": {
        "nteract": {
          "transient": {
            "deleting": false
          }
        }
      },
      "source": [
        "### Run the processing job"
      ]
    },
    {
      "cell_type": "code",
      "execution_count": 15,
      "metadata": {
        "collapsed": false,
        "gather": {
          "logged": 1688825820610
        },
        "jupyter": {
          "outputs_hidden": false
        },
        "nteract": {
          "transient": {
            "deleting": false
          }
        }
      },
      "outputs": [
        {
          "name": "stderr",
          "output_type": "stream",
          "text": [
            "\r\u001b[32mUploading src (0.01 MBs):   0%|          | 0/7708 [00:00<?, ?it/s]\r\u001b[32mUploading src (0.01 MBs): 100%|██████████| 7708/7708 [00:00<00:00, 177809.59it/s]\n",
            "\u001b[39m\n",
            "\n"
          ]
        },
        {
          "data": {
            "text/html": [
              "<table style=\"width:100%\"><tr><th>Experiment</th><th>Name</th><th>Type</th><th>Status</th><th>Details Page</th></tr><tr><td>train_advertising_sales</td><td>affable_bear_wqsdnnl9c6</td><td>command</td><td>Starting</td><td><a href=\"https://ml.azure.com/runs/affable_bear_wqsdnnl9c6?wsid=/subscriptions/8c0836c0-f63c-4878-aac9-0566796a0de8/resourcegroups/test-resource/workspaces/demo_azureML&amp;tid=49c1c86d-6641-4027-9423-1d1b41453eda\" target=\"_blank\" rel=\"noopener\">Link to Azure Machine Learning studio</a></td></tr></table>"
            ],
            "text/plain": [
              "Command({'parameters': {}, 'init': False, 'type': 'command', 'status': 'Starting', 'log_files': None, 'name': 'affable_bear_wqsdnnl9c6', 'description': None, 'tags': {}, 'properties': {'_azureml.ComputeTargetType': 'amlctrain', 'ContentSnapshotId': 'f17e45c3-2314-4cc0-a955-ec7ed9277d3d'}, 'print_as_yaml': True, 'id': '/subscriptions/8c0836c0-f63c-4878-aac9-0566796a0de8/resourceGroups/test-resource/providers/Microsoft.MachineLearningServices/workspaces/demo_azureML/jobs/affable_bear_wqsdnnl9c6', 'Resource__source_path': None, 'base_path': '/mnt/batch/tasks/shared/LS_root/mounts/clusters/arandolph112661/code/Users/arandolph11266/mid-term-project/src/notebooks', 'creation_context': <azure.ai.ml.entities._system_data.SystemData object at 0x7f3cf04fbb50>, 'serialize': <msrest.serialization.Serializer object at 0x7f3cf052f760>, 'allowed_keys': {}, 'key_restriction': False, 'logger': <Logger attr_dict (WARNING)>, 'display_name': 'gbr_advertising_sales_prediction', 'experiment_name': 'train_advertising_sales', 'compute': 'cpu-cluster-preprocessing', 'services': {'Tracking': <azure.ai.ml.entities._job.job_service.JobService object at 0x7f3d335e5c60>, 'Studio': <azure.ai.ml.entities._job.job_service.JobService object at 0x7f3cf0cce9b0>}, 'comment': None, 'job_inputs': {'data': {'type': 'uri_file', 'path': 'azureml://datastores/workspaceblobstore/paths/LocalUpload/d76b5403a3179fcd4ea0e1d4ebd5e602/Advertising_Sales.csv', 'mode': 'ro_mount'}}, 'job_outputs': {'default': {'type': 'uri_folder', 'path': 'azureml://datastores/workspaceartifactstore/ExperimentRun/dcid.affable_bear_wqsdnnl9c6', 'mode': 'rw_mount'}}, 'inputs': {'data': <azure.ai.ml.entities._job.pipeline._io.base.NodeInput object at 0x7f3cf052e830>}, 'outputs': {'default': <azure.ai.ml.entities._job.pipeline._io.base.NodeOutput object at 0x7f3cf052ea10>}, 'component': CommandComponent({'auto_increment_version': True, 'source': 'REMOTE.WORKSPACE.JOB', 'is_anonymous': False, 'name': 'affable_bear_wqsdnnl9c6', 'description': None, 'tags': {}, 'properties': {}, 'print_as_yaml': True, 'id': None, 'Resource__source_path': None, 'base_path': PosixPath('.'), 'creation_context': <azure.ai.ml.entities._system_data.SystemData object at 0x7f3cf04fbb50>, 'serialize': <msrest.serialization.Serializer object at 0x7f3cf04fb0d0>, 'command': 'python main.py --data ${{inputs.data}}', 'code': '/subscriptions/8c0836c0-f63c-4878-aac9-0566796a0de8/resourceGroups/test-resource/providers/Microsoft.MachineLearningServices/workspaces/demo_azureML/codes/e19fa3ea-2418-4bae-8fb8-93e5bf5771aa/versions/1', 'environment_variables': {}, 'environment': '/subscriptions/8c0836c0-f63c-4878-aac9-0566796a0de8/resourceGroups/test-resource/providers/Microsoft.MachineLearningServices/workspaces/demo_azureML/environments/visa_preprocessing_env/versions/5', 'distribution': None, 'resources': None, 'queue_settings': None, 'version': None, 'latest_version': None, 'schema': None, 'type': 'command', 'display_name': 'gbr_advertising_sales_prediction', 'is_deterministic': True, 'inputs': {'data': {'type': 'uri_file', 'path': 'azureml://datastores/workspaceblobstore/paths/LocalUpload/d76b5403a3179fcd4ea0e1d4ebd5e602/Advertising_Sales.csv', 'mode': 'ro_mount'}}, 'outputs': {'default': {'type': 'uri_folder', 'path': 'azureml://datastores/workspaceartifactstore/ExperimentRun/dcid.affable_bear_wqsdnnl9c6', 'mode': 'rw_mount'}}, 'yaml_str': None, 'other_parameter': {'status': 'Starting', 'parameters': {}}}), 'referenced_control_flow_node_instance_id': None, 'kwargs': {'services': {'Tracking': <azure.ai.ml.entities._job.job_service.JobService object at 0x7f3d335e5c60>, 'Studio': <azure.ai.ml.entities._job.job_service.JobService object at 0x7f3cf0cce9b0>}, 'status': 'Starting', 'creation_context': <azure.ai.ml.entities._system_data.SystemData object at 0x7f3cf04fbb50>}, 'instance_id': '0bc7a328-7384-4c46-a3e1-3cc5daceb840', 'source': 'BUILDER', 'validate_required_input_not_provided': True, 'limits': None, 'identity': None, 'distribution': None, 'environment_variables': {}, 'environment': 'visa_preprocessing_env:5', 'resources': {'instance_count': 1, 'shm_size': '2g'}, 'queue_settings': None, 'swept': False})"
            ]
          },
          "execution_count": 15,
          "metadata": {},
          "output_type": "execute_result"
        },
        {
          "name": "stderr",
          "output_type": "stream",
          "text": [
            "Bad pipe message: %s [b'O\\xf8w\\x91\\xaf\\x9f]:9\\x84\\xc8R\\xd8\\x8a\\x94Nb\\xf5 8_6\\xd0h|\\xfcV\\x95\\x06\\xd2M\\xa7\\xc3=\\xac7\\x12\\x06\\x80\\x9c\\xc1\\xc0\\xe4\\x1d7\\xe0\\xbaU\\x93\\xb5\\xee\\x00\\x08\\x13\\x02\\x13\\x03\\x13\\x01\\x00\\xff\\x01\\x00\\x00\\x8f\\x00\\x00\\x00\\x0e\\x00\\x0c\\x00\\x00\\t127.0.0.1\\x00\\x0b\\x00\\x04\\x03\\x00\\x01\\x02\\x00\\n\\x00\\x0c\\x00\\n\\x00']\n",
            "Bad pipe message: %s [b'\\x17\\x00\\x1e\\x00\\x19\\x00\\x18\\x00#\\x00\\x00\\x00\\x16\\x00\\x00\\x00\\x17\\x00\\x00\\x00\\r\\x00\\x1e\\x00\\x1c\\x04\\x03\\x05']\n",
            "Bad pipe message: %s [b'\\x03\\x08']\n",
            "Bad pipe message: %s [b'\\x08\\x08\\t\\x08\\n\\x08']\n",
            "Bad pipe message: %s [b'\\x04\\x08\\x05\\x08\\x06\\x04\\x01\\x05\\x01\\x06']\n",
            "Bad pipe message: %s [b'']\n",
            "Bad pipe message: %s [b'\\x03\\x02\\x03\\x04\\x00-\\x00\\x02\\x01\\x01\\x003\\x00&\\x00$\\x00\\x1d\\x00 \\xae\\xa1`B\\x84X\\xa8\\xeck\\xa8\\xf4{\\xa3B\\x0e\\x80Y\\xac\\x1d3\\x01\\xa6']\n",
            "Bad pipe message: %s [b'\\xcc\\x7f\\x85K\\x94\\xf8\\xb4\\xe9\\x83\\xf9\"#\\xd8\\x8c<m\\xf6\\x0b ?\\xc7\\xbe3_\\xd5/\\x1d\\xe4e\\\\\\xc4']\n",
            "Bad pipe message: %s [b\"_\\x93\\xd4\\xd2G\\xb8\\x92\\xd7\\xc9y2\\xb0\\x9d\\x8eo\\xbb\\xd2\\x9f\\x00\\x00|\\xc0,\\xc00\\x00\\xa3\\x00\\x9f\\xcc\\xa9\\xcc\\xa8\\xcc\\xaa\\xc0\\xaf\\xc0\\xad\\xc0\\xa3\\xc0\\x9f\\xc0]\\xc0a\\xc0W\\xc0S\\xc0+\\xc0/\\x00\\xa2\\x00\\x9e\\xc0\\xae\\xc0\\xac\\xc0\\xa2\\xc0\\x9e\\xc0\\\\\\xc0`\\xc0V\\xc0R\\xc0$\\xc0(\\x00k\\x00j\\xc0#\\xc0'\\x00g\\x00@\\xc0\\n\\xc0\\x14\\x009\\x008\\xc0\\t\\xc0\\x13\\x003\\x002\\x00\\x9d\\xc0\\xa1\\xc0\\x9d\\xc0Q\\x00\\x9c\\xc0\\xa0\\xc0\\x9c\\xc0P\\x00=\\x00<\\x005\\x00/\\x00\\x9a\\x00\\x99\\xc0\\x07\\xc0\\x11\"]\n",
            "Bad pipe message: %s [b'\\xea\\x10\\xf2']\n",
            "Bad pipe message: %s [b',\\xdc\\x8c\\x8b\\xd7r\\x89W\"\\xa9\\x9b/\\x07\\x00\\x00>\\xc0\\x14\\xc0\\n\\x009\\x008\\x007\\x006\\xc0\\x0f\\xc0\\x05\\x005\\xc0\\x13\\xc0\\t\\x003\\x002\\x001\\x000\\xc0\\x0e\\xc0\\x04\\x00/\\x00\\x9a\\x00\\x99\\x00\\x98\\x00\\x97\\x00\\x96\\x00\\x07\\xc0\\x11\\xc0\\x07\\xc0\\x0c\\xc0\\x02\\x00\\x05\\x00\\x04\\x00\\xff\\x02\\x01\\x00\\x00C\\x00\\x00\\x00\\x0e\\x00\\x0c\\x00\\x00\\t127.0.0.1\\x00\\x0b\\x00\\x04\\x03\\x00\\x01\\x02\\x00\\n\\x00\\x1c\\x00\\x1a\\x00\\x17\\x00\\x19\\x00\\x1c\\x00\\x1b\\x00\\x18']\n",
            "Bad pipe message: %s [b'v$\\xed\\xc1\\x12\\xb1\\xd3\\x83t\\xb8\\x0c\\xe7\\xc5\\x98\\xd3\\x91J.\\x00\\x00\\xa2\\xc0\\x14\\xc0\\n\\x009\\x008\\x007\\x006\\x00\\x88\\x00\\x87\\x00\\x86\\x00\\x85\\xc0\\x19\\x00:\\x00\\x89\\xc0\\x0f\\xc0\\x05\\x005\\x00\\x84\\xc0\\x13\\xc0\\t\\x003\\x002\\x001\\x000\\x00\\x9a\\x00\\x99\\x00\\x98\\x00\\x97\\x00E\\x00D\\x00C\\x00B\\xc0\\x18\\x004\\x00\\x9b\\x00F\\xc0\\x0e\\xc0\\x04\\x00/\\x00\\x96\\x00A\\x00\\x07\\xc0\\x11\\xc0\\x07\\xc0\\x16\\x00\\x18\\xc0\\x0c\\xc0\\x02\\x00\\x05\\x00\\x04\\xc0\\x12\\xc0\\x08\\x00\\x16\\x00']\n",
            "Bad pipe message: %s [b'\\x10\\x00\\r\\xc0\\x17\\x00\\x1b\\xc0\\r\\xc0\\x03\\x00\\n\\x00\\x15\\x00\\x12\\x00']\n",
            "Bad pipe message: %s [b'\\x0c\\x00\\x1a\\x00\\t\\x00\\x14\\x00\\x11\\x00\\x19\\x00\\x08\\x00']\n",
            "Bad pipe message: %s [b'\\x17\\x00\\x03\\xc0\\x10']\n",
            "Bad pipe message: %s [b'\\xe3I\\xecQ\\x0fe\\x98\\x89\\x02*\\xa6=\\xde\\xb0W:\\x81P\\x00\\x00>\\xc0\\x14\\xc0\\n\\x009\\x008\\x007\\x006\\xc0\\x0f\\xc0\\x05\\x005\\xc0\\x13\\xc0\\t\\x00']\n",
            "Bad pipe message: %s [b'2\\x001\\x000\\xc0\\x0e\\xc0\\x04\\x00/\\x00\\x9a\\x00\\x99\\x00\\x98\\x00\\x97\\x00\\x96\\x00\\x07\\xc0\\x11\\xc0\\x07\\xc0\\x0c\\xc0\\x02\\x00\\x05\\x00\\x04\\x00\\xff\\x02\\x01\\x00\\x00C\\x00\\x00\\x00\\x0e\\x00\\x0c\\x00\\x00']\n",
            "Bad pipe message: %s [b'\\xfd\\xaeBx]\\xa5w\\xef\"\\x19\\xc7-_\\x13\\xdb\\xd3g\\xb0\\x00\\x00\\xa2\\xc0\\x14\\xc0\\n\\x009\\x008\\x007\\x006\\x00\\x88\\x00\\x87\\x00\\x86\\x00\\x85\\xc0\\x19\\x00:\\x00\\x89\\xc0\\x0f\\xc0\\x05\\x005\\x00\\x84\\xc0\\x13\\xc0\\t\\x003\\x002\\x001\\x000\\x00\\x9a\\x00\\x99\\x00\\x98\\x00\\x97\\x00E\\x00D\\x00C\\x00B\\xc0\\x18\\x004\\x00\\x9b\\x00F\\xc0\\x0e\\xc0\\x04\\x00/\\x00\\x96\\x00A\\x00\\x07\\xc0\\x11\\xc0\\x07\\xc0\\x16\\x00\\x18\\xc0\\x0c\\xc0\\x02\\x00\\x05\\x00\\x04\\xc0\\x12\\xc0\\x08\\x00\\x16\\x00\\x13\\x00\\x10\\x00\\r\\xc0\\x17\\x00\\x1b\\xc0\\r\\xc0\\x03\\x00\\n\\x00\\x15\\x00\\x12\\x00\\x0f\\x00\\x0c\\x00\\x1a\\x00\\t\\x00\\x14\\x00\\x11\\x00\\x19\\x00\\x08\\x00\\x06\\x00\\x17\\x00\\x03\\xc0\\x10\\xc0\\x06\\xc0\\x15\\xc0\\x0b\\xc0\\x01\\x00\\x02\\x00\\x01\\x00\\xff\\x02\\x01\\x00\\x00C\\x00\\x00\\x00\\x0e\\x00\\x0c\\x00\\x00\\t127.0.0.1\\x00\\x0b\\x00\\x04\\x03\\x00\\x01\\x02\\x00\\n\\x00\\x1c\\x00\\x1a\\x00\\x17\\x00\\x19\\x00\\x1c\\x00\\x1b\\x00\\x18\\x00\\x1a\\x00\\x16\\x00\\x0e\\x00\\r\\x00\\x0b\\x00\\x0c\\x00']\n",
            "Bad pipe message: %s [b'\\n\\x00#\\x00\\x00\\x00\\x0f\\x00']\n"
          ]
        }
      ],
      "source": [
        "# ml_client.create_or_update will create a new job if it does not exist or update the existing job if it does\n",
        "ml_client.create_or_update(job)"
      ]
    },
    {
      "cell_type": "markdown",
      "metadata": {
        "nteract": {
          "transient": {
            "deleting": false
          }
        }
      },
      "source": [
        "**OBSERVATION**:  \n",
        "* The gradient boosting model yielded a RMSE of only 0.982. This indicates high performance. The model is not only fitting the data, but generalizing over the test data very well.  "
      ]
    },
    {
      "cell_type": "markdown",
      "metadata": {
        "nteract": {
          "transient": {
            "deleting": false
          }
        }
      },
      "source": [
        "![model_metrics](./Data/model_metrics.png)"
      ]
    },
    {
      "cell_type": "markdown",
      "metadata": {
        "nteract": {
          "transient": {
            "deleting": false
          }
        }
      },
      "source": [
        "## Find and register the model"
      ]
    },
    {
      "cell_type": "code",
      "execution_count": 1,
      "metadata": {
        "collapsed": false,
        "gather": {
          "logged": 1688828420866
        },
        "jupyter": {
          "outputs_hidden": false
        },
        "nteract": {
          "transient": {
            "deleting": false
          }
        }
      },
      "outputs": [],
      "source": [
        "from azure.ai.ml.entities import Model\n",
        "from azure.ai.ml.constants import AssetTypes, InputOutputModes\n",
        "\n",
        "model_name = \"advertising_decisiontree_model_v2\"\n",
        "\n",
        "model = Model(\n",
        "    name=model_name,\n",
        "    #The name of the MLflow model.\n",
        "    path=\"advertising_best_model\", # download model artifacts from azure, then upload to local\n",
        "    #Path to the root directory of the model.\n",
        "    type=AssetTypes.MLFLOW_MODEL,\n",
        "    #The type of the model asset(MLflow model).\n",
        "    description=\"MLflow model for the advertising regression problem\",\n",
        "    #The purpose of the model.\n",
        ")\n"
      ]
    },
    {
      "cell_type": "code",
      "execution_count": 10,
      "metadata": {
        "gather": {
          "logged": 1688828849048
        },
        "jupyter": {
          "outputs_hidden": false,
          "source_hidden": false
        },
        "nteract": {
          "transient": {
            "deleting": false
          }
        }
      },
      "outputs": [
        {
          "name": "stderr",
          "output_type": "stream",
          "text": [
            "\r\u001b[32mUploading advertising_best_model (0.2 MBs):   0%|          | 0/203527 [00:00<?, ?it/s]\r\u001b[32mUploading advertising_best_model (0.2 MBs): 100%|██████████| 203527/203527 [00:00<00:00, 4098451.22it/s]\n",
            "\u001b[39m\n",
            "\n"
          ]
        }
      ],
      "source": [
        "# Register the model\n",
        "registered_model = ml_client.models.create_or_update(model=model)"
      ]
    },
    {
      "cell_type": "markdown",
      "metadata": {
        "nteract": {
          "transient": {
            "deleting": false
          }
        }
      },
      "source": [
        "## Create Online Endpoint"
      ]
    },
    {
      "cell_type": "markdown",
      "metadata": {
        "nteract": {
          "transient": {
            "deleting": false
          }
        }
      },
      "source": [
        "#### Import the required libraries"
      ]
    },
    {
      "cell_type": "code",
      "execution_count": 11,
      "metadata": {
        "gather": {
          "logged": 1688828945075
        },
        "jupyter": {
          "outputs_hidden": false,
          "source_hidden": false
        },
        "nteract": {
          "transient": {
            "deleting": false
          }
        }
      },
      "outputs": [],
      "source": [
        "# import required libraries\n",
        "from azure.ai.ml.entities import (\n",
        "    ManagedOnlineEndpoint,\n",
        "    ManagedOnlineDeployment,\n",
        "    Model,\n",
        "    Environment,\n",
        "    CodeConfiguration,\n",
        ")\n",
        "from azure.ai.ml.constants import AssetTypes"
      ]
    },
    {
      "cell_type": "markdown",
      "metadata": {
        "nteract": {
          "transient": {
            "deleting": false
          }
        }
      },
      "source": [
        "#### Configure the endpoint:"
      ]
    },
    {
      "cell_type": "markdown",
      "metadata": {
        "nteract": {
          "transient": {
            "deleting": false
          }
        }
      },
      "source": [
        "Online endpoints are endpoints that are used for online (real-time) inferencing. Online endpoints contain deployments that are ready to receive data from clients and can send responses back in real time."
      ]
    },
    {
      "cell_type": "code",
      "execution_count": 12,
      "metadata": {
        "collapsed": false,
        "gather": {
          "logged": 1688829037947
        },
        "jupyter": {
          "outputs_hidden": false
        },
        "nteract": {
          "transient": {
            "deleting": false
          }
        }
      },
      "outputs": [],
      "source": [
        "# Importing the required modules\n",
        "import random\n",
        "import string\n",
        "\n",
        "# Creating a unique endpoint name by including a random suffix\n",
        "\n",
        "# Defining a list of allowed characters for the endpoint suffix\n",
        "allowed_chars = string.ascii_lowercase + string.digits\n",
        "\n",
        "# Generating a random 5-character suffix for the endpoint name by choosing\n",
        "# characters randomly from the list of allowed characters\n",
        "endpoint_suffix = \"\".join(random.choice(allowed_chars) for x in range(5))\n",
        "\n",
        "# Creating the final endpoint name by concatenating a prefix string\n",
        "# with the generated suffix string\n",
        "endpoint_name = \"advertising-endpoint-\" + endpoint_suffix"
      ]
    },
    {
      "cell_type": "code",
      "execution_count": 13,
      "metadata": {
        "gather": {
          "logged": 1688829063975
        },
        "jupyter": {
          "outputs_hidden": false,
          "source_hidden": false
        },
        "nteract": {
          "transient": {
            "deleting": false
          }
        }
      },
      "outputs": [
        {
          "name": "stdout",
          "output_type": "stream",
          "text": [
            "Endpoint name: advertising-endpoint-pf8v9\n"
          ]
        }
      ],
      "source": [
        "print(f\"Endpoint name: {endpoint_name}\")"
      ]
    },
    {
      "cell_type": "markdown",
      "metadata": {
        "nteract": {
          "transient": {
            "deleting": false
          }
        }
      },
      "source": [
        "#### Create the endpoint:"
      ]
    },
    {
      "cell_type": "code",
      "execution_count": 14,
      "metadata": {
        "gather": {
          "logged": 1688829130625
        },
        "jupyter": {
          "outputs_hidden": false,
          "source_hidden": false
        },
        "nteract": {
          "transient": {
            "deleting": false
          }
        }
      },
      "outputs": [],
      "source": [
        "endpoint = ManagedOnlineEndpoint(\n",
        "    name=endpoint_name,  \n",
        "    # Name of the endpoint, should be unique within your deployment\n",
        "    description=\"An online endpoint serving an MLflow model for the advertising prediction task\",\n",
        "    # A string describing the purpose of the endpoint\n",
        "    auth_mode=\"key\",\n",
        "    # Authentication mode to use for the endpoint (in this case, using an API key)\n",
        "    tags={\"foo\": \"bar\"},\n",
        "    # A dictionary of key-value pairs that can be used to tag the endpoint\n",
        ")"
      ]
    },
    {
      "cell_type": "markdown",
      "metadata": {
        "nteract": {
          "transient": {
            "deleting": false
          }
        }
      },
      "source": [
        "Using the `MLClient` created earlier, we will now create the Endpoint in the workspace. This command will start the endpoint creation and return a confirmation response while the endpoint creation continues."
      ]
    },
    {
      "cell_type": "code",
      "execution_count": 15,
      "metadata": {
        "gather": {
          "logged": 1688829307427
        },
        "jupyter": {
          "outputs_hidden": false,
          "source_hidden": false
        },
        "nteract": {
          "transient": {
            "deleting": false
          }
        }
      },
      "outputs": [
        {
          "data": {
            "text/plain": [
              "ManagedOnlineEndpoint({'public_network_access': 'Enabled', 'provisioning_state': 'Succeeded', 'scoring_uri': 'https://advertising-endpoint-pf8v9.eastus.inference.ml.azure.com/score', 'openapi_uri': 'https://advertising-endpoint-pf8v9.eastus.inference.ml.azure.com/swagger.json', 'name': 'advertising-endpoint-pf8v9', 'description': 'An online endpoint serving an MLflow model for the advertising prediction task', 'tags': {'foo': 'bar'}, 'properties': {'azureml.onlineendpointid': '/subscriptions/8c0836c0-f63c-4878-aac9-0566796a0de8/resourcegroups/test-resource/providers/microsoft.machinelearningservices/workspaces/demo_azureml/onlineendpoints/advertising-endpoint-pf8v9', 'AzureAsyncOperationUri': 'https://management.azure.com/subscriptions/8c0836c0-f63c-4878-aac9-0566796a0de8/providers/Microsoft.MachineLearningServices/locations/eastus/mfeOperationsStatus/oe:f50718ab-5901-4955-a8f2-f84baeb40e5b:63b6f2b6-427a-4edd-8a39-379b86aae6fe?api-version=2022-02-01-preview'}, 'print_as_yaml': True, 'id': '/subscriptions/8c0836c0-f63c-4878-aac9-0566796a0de8/resourceGroups/test-resource/providers/Microsoft.MachineLearningServices/workspaces/demo_azureML/onlineEndpoints/advertising-endpoint-pf8v9', 'Resource__source_path': None, 'base_path': '/mnt/batch/tasks/shared/LS_root/mounts/clusters/arandolph112661/code/Users/arandolph11266/mid-term-project/src/notebooks', 'creation_context': None, 'serialize': <msrest.serialization.Serializer object at 0x7ff6481c1540>, 'auth_mode': 'key', 'location': 'eastus', 'identity': <azure.ai.ml.entities._credentials.IdentityConfiguration object at 0x7ff6481c0e50>, 'traffic': {}, 'mirror_traffic': {}, 'kind': 'Managed'})"
            ]
          },
          "execution_count": 15,
          "metadata": {},
          "output_type": "execute_result"
        }
      ],
      "source": [
        "ml_client.online_endpoints.begin_create_or_update(endpoint).result()"
      ]
    },
    {
      "cell_type": "markdown",
      "metadata": {
        "nteract": {
          "transient": {
            "deleting": false
          }
        }
      },
      "source": [
        "## Create a blue deployment  \n",
        "A deployment is a set of resources required for hosting the model that does the actual inferencing. We will create a deployment for our endpoint using the `ManagedOnlineDeployment` class.  This class allows user to configure key aspects."
      ]
    },
    {
      "cell_type": "markdown",
      "metadata": {
        "nteract": {
          "transient": {
            "deleting": false
          }
        }
      },
      "source": [
        "#### Curating the deployment script:"
      ]
    },
    {
      "cell_type": "code",
      "execution_count": 16,
      "metadata": {
        "jupyter": {
          "outputs_hidden": false,
          "source_hidden": false
        },
        "nteract": {
          "transient": {
            "deleting": false
          }
        }
      },
      "outputs": [
        {
          "name": "stdout",
          "output_type": "stream",
          "text": [
            "Overwriting ./src/score.py\n"
          ]
        }
      ],
      "source": [
        "%%writefile {src_dir}/score.py\n",
        "\n",
        "# Import necessary libraries and modules\n",
        "import logging\n",
        "import os\n",
        "import json\n",
        "import mlflow\n",
        "from io import StringIO\n",
        "from mlflow.pyfunc.scoring_server import infer_and_parse_json_input, predictions_to_json\n",
        "\n",
        "######################LOGGER#####################\n",
        "# Set up Azure logging\n",
        "import logging\n",
        "from logging import Logger\n",
        "from opencensus.ext.azure.log_exporter import AzureLogHandler\n",
        "\n",
        "# Connect to Application Insights and set logging level to INFO\n",
        "application_insights_connection_string= 'InstrumentationKey=5a3f9219-312f-46a1-a725-0e45f9321610;IngestionEndpoint=https://eastus-8.in.applicationinsights.azure.com/;LiveEndpoint=https://eastus.livediagnostics.monitor.azure.com/'\n",
        "handler = AzureLogHandler(\n",
        "connection_string=application_insights_connection_string)\n",
        "logger = logging.getLogger()\n",
        "logger.addHandler(handler)\n",
        "logger.setLevel(logging.INFO)\n",
        "\n",
        "####################################################\n",
        "\n",
        "# Define the init() function to load the MLflow model\n",
        "def init():\n",
        "    global model\n",
        "    global input_schema\n",
        "    # \"model\" is the path of the mlflow artifacts when the model was registered. For automl\n",
        "    # models, this is generally \"mlflow-model\".\n",
        "    model_path = os.path.join(os.getenv(\"AZUREML_MODEL_DIR\"), \"advertising_best_model\")\n",
        "    model = mlflow.pyfunc.load_model(model_path)\n",
        "    input_schema = model.metadata.get_input_schema()\n",
        "\n",
        "# Define the run() function to make predictions using the loaded model\n",
        "def run(raw_data):\n",
        "    # Parse input data\n",
        "    json_data = json.loads(raw_data)\n",
        "    if \"input_data\" not in json_data.keys():\n",
        "        raise Exception(\"Request must contain a top level key named 'input_data'\")\n",
        "    serving_input = json.dumps(json_data[\"input_data\"])\n",
        "    data = infer_and_parse_json_input(serving_input, input_schema)\n",
        "\n",
        "    # Make predictions\n",
        "    predictions = model.predict(data)\n",
        "\n",
        "    # Log the input data and predictions to Azure\n",
        "    logger.info(\"Data:{0},Predictions:{1}\".format(str(data),str(predictions)))\n",
        "\n",
        "    # Convert predictions to JSON format and return\n",
        "    result = StringIO()\n",
        "    predictions_to_json(predictions, result)\n",
        "    return result.getvalue()"
      ]
    },
    {
      "cell_type": "markdown",
      "metadata": {
        "nteract": {
          "transient": {
            "deleting": false
          }
        }
      },
      "source": [
        "#### Configure the deployment:"
      ]
    },
    {
      "cell_type": "code",
      "execution_count": 17,
      "metadata": {
        "gather": {
          "logged": 1688831030187
        },
        "jupyter": {
          "outputs_hidden": false,
          "source_hidden": false
        },
        "nteract": {
          "transient": {
            "deleting": false
          }
        }
      },
      "outputs": [],
      "source": [
        "# Create a new deployment with name \"blue\"\n",
        "blue_deployment = ManagedOnlineDeployment(\n",
        "    name=\"blue\",\n",
        "    # Use the previously generated endpoint name\n",
        "    endpoint_name=endpoint_name,\n",
        "    # Use the registered model\n",
        "    model=registered_model,\n",
        "    # Use the latest environment named \"machine_learning_E2E\"\n",
        "    environment=\"visa_preprocessing_env@latest\",\n",
        "    # Use the code in the \"./src\" directory and the \"score.py\" script\n",
        "    code_configuration=CodeConfiguration(\n",
        "        code=\"./src\", scoring_script=\"score.py\"\n",
        "    ),\n",
        "    # Use a single instance of type \"Standard_E2s_v3\"\n",
        "    instance_type=\"Standard_E2s_v3\",\n",
        "    instance_count=1,\n",
        "    # Enable Application Insights for the deployment\n",
        "    app_insights_enabled=True,\n",
        ")"
      ]
    },
    {
      "cell_type": "markdown",
      "metadata": {
        "nteract": {
          "transient": {
            "deleting": false
          }
        }
      },
      "source": [
        "#### Create the deployment:"
      ]
    },
    {
      "cell_type": "markdown",
      "metadata": {
        "nteract": {
          "transient": {
            "deleting": false
          }
        }
      },
      "source": [
        "Using the `MLClient` created earlier, we will now create the deployment in the workspace. This command will start the deployment creation and return a confirmation response while the deployment creation continues."
      ]
    },
    {
      "cell_type": "code",
      "execution_count": 18,
      "metadata": {
        "gather": {
          "logged": 1688831750441
        },
        "jupyter": {
          "outputs_hidden": false,
          "source_hidden": false
        },
        "nteract": {
          "transient": {
            "deleting": false
          }
        }
      },
      "outputs": [
        {
          "name": "stderr",
          "output_type": "stream",
          "text": [
            "Check: endpoint advertising-endpoint-pf8v9 exists\n",
            "\u001b[32mUploading src (0.01 MBs): 100%|██████████| 7628/7628 [00:00<00:00, 168075.35it/s]\n",
            "\u001b[39m\n",
            "\n",
            "data_collector is not a known attribute of class <class 'azure.ai.ml._restclient.v2022_02_01_preview.models._models_py3.ManagedOnlineDeployment'> and will be ignored\n"
          ]
        },
        {
          "name": "stdout",
          "output_type": "stream",
          "text": [
            "............................................................................................"
          ]
        },
        {
          "data": {
            "text/plain": [
              "ManagedOnlineDeployment({'private_network_connection': False, 'provisioning_state': 'Succeeded', 'data_collector': None, 'endpoint_name': 'advertising-endpoint-pf8v9', 'type': 'Managed', 'name': 'blue', 'description': None, 'tags': {}, 'properties': {'AzureAsyncOperationUri': 'https://management.azure.com/subscriptions/8c0836c0-f63c-4878-aac9-0566796a0de8/providers/Microsoft.MachineLearningServices/locations/eastus/mfeOperationsStatus/od:f50718ab-5901-4955-a8f2-f84baeb40e5b:19196c98-32b9-49a7-90cd-ccdde5e2f527?api-version=2022-02-01-preview'}, 'print_as_yaml': True, 'id': '/subscriptions/8c0836c0-f63c-4878-aac9-0566796a0de8/resourceGroups/test-resource/providers/Microsoft.MachineLearningServices/workspaces/demo_azureML/onlineEndpoints/advertising-endpoint-pf8v9/deployments/blue', 'Resource__source_path': None, 'base_path': '/mnt/batch/tasks/shared/LS_root/mounts/clusters/arandolph112661/code/Users/arandolph11266/mid-term-project/src/notebooks', 'creation_context': None, 'serialize': <msrest.serialization.Serializer object at 0x7ff6404134f0>, 'model': '/subscriptions/8c0836c0-f63c-4878-aac9-0566796a0de8/resourceGroups/test-resource/providers/Microsoft.MachineLearningServices/workspaces/demo_azureML/models/advertising_decisiontree_model_v2/versions/1', 'code_configuration': {'code': '/subscriptions/8c0836c0-f63c-4878-aac9-0566796a0de8/resourceGroups/test-resource/providers/Microsoft.MachineLearningServices/workspaces/demo_azureML/codes/05c230ae-7c4c-4307-8f23-74a52b8a4421/versions/1'}, 'environment': '/subscriptions/8c0836c0-f63c-4878-aac9-0566796a0de8/resourceGroups/test-resource/providers/Microsoft.MachineLearningServices/workspaces/demo_azureML/environments/visa_preprocessing_env/versions/5', 'environment_variables': {}, 'app_insights_enabled': True, 'scale_settings': <azure.ai.ml.entities._deployment.scale_settings.DefaultScaleSettings object at 0x7ff640411a20>, 'request_settings': <azure.ai.ml.entities._deployment.deployment_settings.OnlineRequestSettings object at 0x7ff6404121d0>, 'liveness_probe': <azure.ai.ml.entities._deployment.deployment_settings.ProbeSettings object at 0x7ff640412410>, 'readiness_probe': <azure.ai.ml.entities._deployment.deployment_settings.ProbeSettings object at 0x7ff640411510>, 'instance_count': 1, 'arm_type': 'online_deployment', 'model_mount_path': None, 'instance_type': 'Standard_E2s_v3', 'egress_public_network_access': 'Enabled'})"
            ]
          },
          "execution_count": 18,
          "metadata": {},
          "output_type": "execute_result"
        }
      ],
      "source": [
        "ml_client.online_deployments.begin_create_or_update(blue_deployment).result()"
      ]
    },
    {
      "cell_type": "markdown",
      "metadata": {
        "nteract": {
          "transient": {
            "deleting": false
          }
        }
      },
      "source": [
        "## Test the deployment (using a \"sample_data.json\"file)"
      ]
    },
    {
      "cell_type": "markdown",
      "metadata": {
        "nteract": {
          "transient": {
            "deleting": false
          }
        }
      },
      "source": [
        "Using the `MLClient` created earlier, we will get a handle to the endpoint. The endpoint can be invoked using the invoke command.  \n",
        "  \n",
        "We will send a sample request using a \"sample_data.json\"file."
      ]
    },
    {
      "cell_type": "code",
      "execution_count": 19,
      "metadata": {
        "gather": {
          "logged": 1688831905934
        },
        "jupyter": {
          "outputs_hidden": false,
          "source_hidden": false
        },
        "nteract": {
          "transient": {
            "deleting": false
          }
        }
      },
      "outputs": [],
      "source": [
        "model_predictions_azure = ml_client.online_endpoints.invoke(\n",
        "        endpoint_name=endpoint_name,# Specify the name of the endpoint to invoke\n",
        "        deployment_name=\"blue\",\n",
        "        request_file=\"./Data/sample-request-sklearn.json\"  # Provide the file containing the sample data for making predictions\n",
        ")"
      ]
    },
    {
      "cell_type": "code",
      "execution_count": 43,
      "metadata": {
        "gather": {
          "logged": 1688835598349
        },
        "jupyter": {
          "outputs_hidden": false,
          "source_hidden": false
        },
        "nteract": {
          "transient": {
            "deleting": false
          }
        }
      },
      "outputs": [
        {
          "data": {
            "text/plain": [
              "'\"{\\\\\"predictions\\\\\": [22.248152393448706, 26.8968639301961, 22.248152393448706, 15.627089657691531, 16.767141131411734, 21.80791237254597, 26.847856510798234, 21.80791237254597, 15.728465035299328, 16.697504895506444, 22.201181401004696, 26.932760525897223, 22.33242823223803, 15.615003123354105, 16.686102378719912, 23.692626977314887, 26.932760525897223, 24.679497819344046, 15.728465035299328]}\"'"
            ]
          },
          "execution_count": 43,
          "metadata": {},
          "output_type": "execute_result"
        }
      ],
      "source": [
        "model_predictions_azure"
      ]
    },
    {
      "cell_type": "code",
      "execution_count": 46,
      "metadata": {
        "gather": {
          "logged": 1688835943526
        },
        "jupyter": {
          "outputs_hidden": false,
          "source_hidden": false
        },
        "nteract": {
          "transient": {
            "deleting": false
          }
        }
      },
      "outputs": [],
      "source": [
        "# Convert the string representation of predictions to a Python data structure\n",
        "import ast\n",
        "model_predictions_azure_list = ast.literal_eval(model_predictions_azure)"
      ]
    },
    {
      "cell_type": "code",
      "execution_count": 47,
      "metadata": {
        "gather": {
          "logged": 1688835947825
        },
        "jupyter": {
          "outputs_hidden": false,
          "source_hidden": false
        },
        "nteract": {
          "transient": {
            "deleting": false
          }
        }
      },
      "outputs": [
        {
          "data": {
            "text/plain": [
              "392"
            ]
          },
          "execution_count": 47,
          "metadata": {},
          "output_type": "execute_result"
        }
      ],
      "source": [
        "len(model_predictions_azure_list)"
      ]
    },
    {
      "cell_type": "code",
      "execution_count": 37,
      "metadata": {
        "gather": {
          "logged": 1688833968050
        },
        "jupyter": {
          "outputs_hidden": false,
          "source_hidden": false
        },
        "nteract": {
          "transient": {
            "deleting": false
          }
        }
      },
      "outputs": [
        {
          "data": {
            "text/plain": [
              "'{\"predictions\": [22.248152393448706, 26.8968639301961, 22.248152393448706, 15.627089657691531, 16.767141131411734, 21.80791237254597, 26.847856510798234, 21.80791237254597, 15.728465035299328, 16.697504895506444, 22.201181401004696, 26.932760525897223, 22.33242823223803, 15.615003123354105, 16.686102378719912, 23.692626977314887, 26.932760525897223, 24.679497819344046, 15.728465035299328]}'"
            ]
          },
          "execution_count": 37,
          "metadata": {},
          "output_type": "execute_result"
        }
      ],
      "source": [
        "model_predictions_azure_list"
      ]
    },
    {
      "cell_type": "code",
      "execution_count": 21,
      "metadata": {
        "gather": {
          "logged": 1688831975952
        },
        "jupyter": {
          "outputs_hidden": false,
          "source_hidden": false
        },
        "nteract": {
          "transient": {
            "deleting": false
          }
        }
      },
      "outputs": [
        {
          "data": {
            "text/plain": [
              "{'predictions': [22.248152393448706,\n",
              "  26.8968639301961,\n",
              "  22.248152393448706,\n",
              "  15.627089657691531,\n",
              "  16.767141131411734,\n",
              "  21.80791237254597,\n",
              "  26.847856510798234,\n",
              "  21.80791237254597,\n",
              "  15.728465035299328,\n",
              "  16.697504895506444,\n",
              "  22.201181401004696,\n",
              "  26.932760525897223,\n",
              "  22.33242823223803,\n",
              "  15.615003123354105,\n",
              "  16.686102378719912,\n",
              "  23.692626977314887,\n",
              "  26.932760525897223,\n",
              "  24.679497819344046,\n",
              "  15.728465035299328]}"
            ]
          },
          "execution_count": 21,
          "metadata": {},
          "output_type": "execute_result"
        }
      ],
      "source": [
        "# Access the converted Python data structure\n",
        "model_predictions_azure_list_2 = ast.literal_eval(model_predictions_azure_list)\n",
        "model_predictions_azure_list_2"
      ]
    },
    {
      "cell_type": "code",
      "execution_count": 61,
      "metadata": {
        "gather": {
          "logged": 1688836806390
        },
        "jupyter": {
          "outputs_hidden": false,
          "source_hidden": false
        },
        "nteract": {
          "transient": {
            "deleting": false
          }
        }
      },
      "outputs": [],
      "source": [
        "\n",
        "model_predictions_azure_list_3 = list(model_predictions_azure_list_2.values())"
      ]
    },
    {
      "cell_type": "code",
      "execution_count": 77,
      "metadata": {
        "gather": {
          "logged": 1688837904723
        },
        "jupyter": {
          "outputs_hidden": false,
          "source_hidden": false
        },
        "nteract": {
          "transient": {
            "deleting": false
          }
        }
      },
      "outputs": [
        {
          "data": {
            "text/plain": [
              "[22.248152393448706,\n",
              " 26.8968639301961,\n",
              " 22.248152393448706,\n",
              " 15.627089657691531,\n",
              " 16.767141131411734,\n",
              " 21.80791237254597,\n",
              " 26.847856510798234,\n",
              " 21.80791237254597,\n",
              " 15.728465035299328,\n",
              " 16.697504895506444,\n",
              " 22.201181401004696,\n",
              " 26.932760525897223,\n",
              " 22.33242823223803,\n",
              " 15.615003123354105,\n",
              " 16.686102378719912,\n",
              " 23.692626977314887,\n",
              " 26.932760525897223,\n",
              " 24.679497819344046,\n",
              " 15.728465035299328]"
            ]
          },
          "execution_count": 77,
          "metadata": {},
          "output_type": "execute_result"
        }
      ],
      "source": [
        "model_predictions_azure_list_3[0]"
      ]
    },
    {
      "cell_type": "markdown",
      "metadata": {
        "nteract": {
          "transient": {
            "deleting": false
          }
        }
      },
      "source": [
        "## Target Check"
      ]
    },
    {
      "cell_type": "markdown",
      "metadata": {
        "nteract": {
          "transient": {
            "deleting": false
          }
        }
      },
      "source": [
        "This is a very critical check especially when the ground truth is delayed. By comparing the distribution of the predictions with the target present in the training data, we can flag deviations beyond expected amount of variation."
      ]
    },
    {
      "cell_type": "code",
      "execution_count": 22,
      "metadata": {
        "gather": {
          "logged": 1688832285233
        },
        "jupyter": {
          "outputs_hidden": false,
          "source_hidden": false
        },
        "nteract": {
          "transient": {
            "deleting": false
          }
        }
      },
      "outputs": [],
      "source": [
        "#Access the training data\n",
        "import pandas as pd\n",
        "training_data = pd.read_csv(\"./Data/Advertising_Sales.csv\")"
      ]
    },
    {
      "cell_type": "code",
      "execution_count": 42,
      "metadata": {
        "gather": {
          "logged": 1688835428582
        },
        "jupyter": {
          "outputs_hidden": false,
          "source_hidden": false
        },
        "nteract": {
          "transient": {
            "deleting": false
          }
        }
      },
      "outputs": [
        {
          "data": {
            "text/html": [
              "<div>\n",
              "<style scoped>\n",
              "    .dataframe tbody tr th:only-of-type {\n",
              "        vertical-align: middle;\n",
              "    }\n",
              "\n",
              "    .dataframe tbody tr th {\n",
              "        vertical-align: top;\n",
              "    }\n",
              "\n",
              "    .dataframe thead th {\n",
              "        text-align: right;\n",
              "    }\n",
              "</style>\n",
              "<table border=\"1\" class=\"dataframe\">\n",
              "  <thead>\n",
              "    <tr style=\"text-align: right;\">\n",
              "      <th></th>\n",
              "      <th>TV</th>\n",
              "      <th>Radio</th>\n",
              "      <th>Newspaper</th>\n",
              "      <th>Sales</th>\n",
              "    </tr>\n",
              "  </thead>\n",
              "  <tbody>\n",
              "    <tr>\n",
              "      <th>0</th>\n",
              "      <td>230.1</td>\n",
              "      <td>37.8</td>\n",
              "      <td>69.2</td>\n",
              "      <td>22.1</td>\n",
              "    </tr>\n",
              "    <tr>\n",
              "      <th>1</th>\n",
              "      <td>44.5</td>\n",
              "      <td>39.3</td>\n",
              "      <td>45.1</td>\n",
              "      <td>10.4</td>\n",
              "    </tr>\n",
              "    <tr>\n",
              "      <th>2</th>\n",
              "      <td>17.2</td>\n",
              "      <td>45.9</td>\n",
              "      <td>69.3</td>\n",
              "      <td>9.3</td>\n",
              "    </tr>\n",
              "    <tr>\n",
              "      <th>3</th>\n",
              "      <td>151.5</td>\n",
              "      <td>41.3</td>\n",
              "      <td>58.5</td>\n",
              "      <td>18.5</td>\n",
              "    </tr>\n",
              "    <tr>\n",
              "      <th>4</th>\n",
              "      <td>180.8</td>\n",
              "      <td>10.8</td>\n",
              "      <td>58.4</td>\n",
              "      <td>12.9</td>\n",
              "    </tr>\n",
              "  </tbody>\n",
              "</table>\n",
              "</div>"
            ],
            "text/plain": [
              "      TV  Radio  Newspaper  Sales\n",
              "0  230.1   37.8       69.2   22.1\n",
              "1   44.5   39.3       45.1   10.4\n",
              "2   17.2   45.9       69.3    9.3\n",
              "3  151.5   41.3       58.5   18.5\n",
              "4  180.8   10.8       58.4   12.9"
            ]
          },
          "execution_count": 42,
          "metadata": {},
          "output_type": "execute_result"
        }
      ],
      "source": [
        "training_data.head()"
      ]
    },
    {
      "cell_type": "code",
      "execution_count": 54,
      "metadata": {
        "gather": {
          "logged": 1688836385095
        },
        "jupyter": {
          "outputs_hidden": false,
          "source_hidden": false
        },
        "nteract": {
          "transient": {
            "deleting": false
          }
        }
      },
      "outputs": [
        {
          "data": {
            "text/plain": [
              "(200, 4)"
            ]
          },
          "execution_count": 54,
          "metadata": {},
          "output_type": "execute_result"
        }
      ],
      "source": [
        "training_data.shape"
      ]
    },
    {
      "cell_type": "markdown",
      "metadata": {
        "nteract": {
          "transient": {
            "deleting": false
          }
        }
      },
      "source": [
        "#### Compare the distribution of predictions from the endpoint with the distribution of the target in the training data (Advertising.csv)"
      ]
    },
    {
      "cell_type": "code",
      "execution_count": 25,
      "metadata": {
        "gather": {
          "logged": 1688832380298
        },
        "jupyter": {
          "outputs_hidden": false,
          "source_hidden": false
        },
        "nteract": {
          "transient": {
            "deleting": false
          }
        }
      },
      "outputs": [],
      "source": [
        "#pip install seaborn"
      ]
    },
    {
      "cell_type": "code",
      "execution_count": 48,
      "metadata": {
        "gather": {
          "logged": 1688835970749
        },
        "jupyter": {
          "outputs_hidden": false,
          "source_hidden": false
        },
        "nteract": {
          "transient": {
            "deleting": false
          }
        }
      },
      "outputs": [],
      "source": [
        "#General imports required for testing\n",
        "import json\n",
        "import ast\n",
        "\n",
        "import logging\n",
        "\n",
        "import pandas as pd\n",
        "import matplotlib.pyplot as plt\n",
        "import seaborn as sns\n",
        "\n",
        "from scipy.stats import ks_2samp, chi2_contingency, ttest_rel"
      ]
    },
    {
      "cell_type": "markdown",
      "metadata": {
        "nteract": {
          "transient": {
            "deleting": false
          }
        }
      },
      "source": [
        "Note: Using plots state difference between the predictions coming from the endpoint and the distribution of targets in the training data. (Conclusion)"
      ]
    },
    {
      "cell_type": "markdown",
      "metadata": {
        "nteract": {
          "transient": {
            "deleting": false
          }
        }
      },
      "source": [
        "In the plots below, we compare the distribution of predictions from the endpoint logs with the distribution of the target in the training data."
      ]
    },
    {
      "cell_type": "code",
      "execution_count": 78,
      "metadata": {
        "gather": {
          "logged": 1688837965401
        },
        "jupyter": {
          "outputs_hidden": false,
          "source_hidden": false
        },
        "nteract": {
          "transient": {
            "deleting": false
          }
        }
      },
      "outputs": [
        {
          "data": {
            "image/png": "[encoded data removed]",
            "text/plain": [
              "<Figure size 900x400 with 2 Axes>"
            ]
          },
          "metadata": {},
          "output_type": "display_data"
        }
      ],
      "source": [
        "plt.figure(figsize=(9, 4))\n",
        "plt.subplot(211)\n",
        "sns.boxplot(x='Sales', data=training_data)\n",
        "plt.title(\"Distribution of price in training data\")\n",
        "plt.subplot(212)\n",
        "sns.boxplot(x=model_predictions_azure_list_3[0])\n",
        "plt.title(\"Distribution of predicted price from the deployed model\")\n",
        "plt.tight_layout()"
      ]
    },
    {
      "cell_type": "code",
      "execution_count": 79,
      "metadata": {
        "gather": {
          "logged": 1688837994318
        },
        "jupyter": {
          "outputs_hidden": false,
          "source_hidden": false
        },
        "nteract": {
          "transient": {
            "deleting": false
          }
        }
      },
      "outputs": [
        {
          "data": {
            "image/png": "[encoded data removed]",
            "text/plain": [
              "<Figure size 900x600 with 1 Axes>"
            ]
          },
          "metadata": {},
          "output_type": "display_data"
        }
      ],
      "source": [
        "plt.figure(figsize=(9, 6))\n",
        "sns.kdeplot(x='Sales', data=training_data, label='training targets')\n",
        "sns.kdeplot(x=model_predictions_azure_list_3[0], label='live predictions', alpha=.4)\n",
        "plt.legend()\n",
        "plt.title('Comparing data distributions')\n",
        "plt.tight_layout()"
      ]
    },
    {
      "cell_type": "markdown",
      "metadata": {
        "nteract": {
          "transient": {
            "deleting": false
          }
        }
      },
      "source": [
        "**OBSERVATION**:  \n",
        "* Hmm. Looks like there has been a difference possibly the data between training and this live run.  \n",
        "* The distributions are off a fair amount. \n",
        "* The box plots show this as well. Maybe there are a couple of outliers in the live targets."
      ]
    },
    {
      "cell_type": "markdown",
      "metadata": {
        "nteract": {
          "transient": {
            "deleting": false
          }
        }
      },
      "source": [
        "#### Kolmogorov-Smirnov test:"
      ]
    },
    {
      "cell_type": "markdown",
      "metadata": {
        "nteract": {
          "transient": {
            "deleting": false
          }
        }
      },
      "source": [
        "To confirm the absence of target drift, we use the Kolmogorov-Smirnov (K-S) test. K-S test is a statistical method used to compare two probability distributions and determine if they significantly differ from each other. In the context of testing the difference between the distributions of model predictions and the distribution of targets in training data, the K-S test can help assess if there is any deviation or drift."
      ]
    },
    {
      "cell_type": "markdown",
      "metadata": {
        "nteract": {
          "transient": {
            "deleting": false
          }
        }
      },
      "source": [
        "Plot here:"
      ]
    },
    {
      "cell_type": "code",
      "execution_count": 80,
      "metadata": {
        "gather": {
          "logged": 1688838013659
        },
        "jupyter": {
          "outputs_hidden": false,
          "source_hidden": false
        },
        "nteract": {
          "transient": {
            "deleting": false
          }
        }
      },
      "outputs": [
        {
          "data": {
            "image/png": "[encoded data removed]",
            "text/plain": [
              "<Figure size 900x600 with 1 Axes>"
            ]
          },
          "metadata": {},
          "output_type": "display_data"
        }
      ],
      "source": [
        "plt.figure(figsize=(9, 6))\n",
        "sns.ecdfplot(x='Sales', data=training_data, label='training targets')\n",
        "sns.ecdfplot(x=model_predictions_azure_list_3[0], label='live predictions', alpha=.4)\n",
        "plt.legend()\n",
        "plt.title('Comparing cumulative data distributions')\n",
        "plt.tight_layout()"
      ]
    },
    {
      "cell_type": "markdown",
      "metadata": {
        "nteract": {
          "transient": {
            "deleting": false
          }
        }
      },
      "source": [
        "K-S Test:"
      ]
    },
    {
      "cell_type": "code",
      "execution_count": 81,
      "metadata": {
        "gather": {
          "logged": 1688838026920
        },
        "jupyter": {
          "outputs_hidden": false,
          "source_hidden": false
        },
        "nteract": {
          "transient": {
            "deleting": false
          }
        }
      },
      "outputs": [],
      "source": [
        "statistic, p_value = ks_2samp(\n",
        "            training_data[\"Sales\"].values, \n",
        "            model_predictions_azure_list_3[0]\n",
        ")"
      ]
    },
    {
      "cell_type": "code",
      "execution_count": null,
      "metadata": {
        "jupyter": {
          "outputs_hidden": false,
          "source_hidden": false
        },
        "nteract": {
          "transient": {
            "deleting": false
          }
        }
      },
      "outputs": [],
      "source": []
    },
    {
      "cell_type": "markdown",
      "metadata": {
        "nteract": {
          "transient": {
            "deleting": false
          }
        }
      },
      "source": [
        "Note: Using p-value outcome, state difference between the model predictions and the target distribution in the training data"
      ]
    },
    {
      "cell_type": "markdown",
      "metadata": {
        "nteract": {
          "transient": {
            "deleting": false
          }
        }
      },
      "source": [
        "**OBSERVATION**:  \n",
        "* With a p-value > 0.05, this suggests that there is **NO** significant difference between the model predictions and the target distribution in the training data.  \n",
        "* There is no need to do any further analysis, but we will do it just for fun!\n"
      ]
    },
    {
      "cell_type": "markdown",
      "metadata": {
        "nteract": {
          "transient": {
            "deleting": false
          }
        }
      },
      "source": [
        "## Data Drift"
      ]
    },
    {
      "cell_type": "markdown",
      "metadata": {
        "nteract": {
          "transient": {
            "deleting": false
          }
        }
      },
      "source": [
        "We define data drift as the phenomenon of deviation or changes occurring between the distribution or characteristics of the training features and the corresponding live features used for real-time predictions or analysis. It indicates a shift in the underlying data generating process and can have significant implications for the performance and reliability of machine learning models or data-driven systems.  \n",
        "\n",
        "Note: Use \"advertising_synthetic.csv\" to check for data drift"
      ]
    },
    {
      "cell_type": "code",
      "execution_count": 83,
      "metadata": {
        "gather": {
          "logged": 1688838606804
        },
        "jupyter": {
          "outputs_hidden": false,
          "source_hidden": false
        },
        "nteract": {
          "transient": {
            "deleting": false
          }
        }
      },
      "outputs": [],
      "source": [
        "sample = pd.read_csv(\"./Data/advertising_synthetic.csv\")"
      ]
    },
    {
      "cell_type": "code",
      "execution_count": 84,
      "metadata": {
        "gather": {
          "logged": 1688838647719
        },
        "jupyter": {
          "outputs_hidden": false,
          "source_hidden": false
        },
        "nteract": {
          "transient": {
            "deleting": false
          }
        }
      },
      "outputs": [
        {
          "data": {
            "text/plain": [
              "(49, 4)"
            ]
          },
          "execution_count": 84,
          "metadata": {},
          "output_type": "execute_result"
        }
      ],
      "source": [
        "sample.shape"
      ]
    },
    {
      "cell_type": "code",
      "execution_count": 85,
      "metadata": {
        "gather": {
          "logged": 1688838660895
        },
        "jupyter": {
          "outputs_hidden": false,
          "source_hidden": false
        },
        "nteract": {
          "transient": {
            "deleting": false
          }
        }
      },
      "outputs": [
        {
          "data": {
            "text/html": [
              "<div>\n",
              "<style scoped>\n",
              "    .dataframe tbody tr th:only-of-type {\n",
              "        vertical-align: middle;\n",
              "    }\n",
              "\n",
              "    .dataframe tbody tr th {\n",
              "        vertical-align: top;\n",
              "    }\n",
              "\n",
              "    .dataframe thead th {\n",
              "        text-align: right;\n",
              "    }\n",
              "</style>\n",
              "<table border=\"1\" class=\"dataframe\">\n",
              "  <thead>\n",
              "    <tr style=\"text-align: right;\">\n",
              "      <th></th>\n",
              "      <th>TV</th>\n",
              "      <th>Radio</th>\n",
              "      <th>Newspaper</th>\n",
              "      <th>Sales</th>\n",
              "    </tr>\n",
              "  </thead>\n",
              "  <tbody>\n",
              "    <tr>\n",
              "      <th>0</th>\n",
              "      <td>230.1</td>\n",
              "      <td>37.8</td>\n",
              "      <td>69.2</td>\n",
              "      <td>22.1</td>\n",
              "    </tr>\n",
              "    <tr>\n",
              "      <th>1</th>\n",
              "      <td>44.5</td>\n",
              "      <td>39.3</td>\n",
              "      <td>45.1</td>\n",
              "      <td>10.4</td>\n",
              "    </tr>\n",
              "    <tr>\n",
              "      <th>2</th>\n",
              "      <td>17.2</td>\n",
              "      <td>45.9</td>\n",
              "      <td>69.3</td>\n",
              "      <td>9.3</td>\n",
              "    </tr>\n",
              "    <tr>\n",
              "      <th>3</th>\n",
              "      <td>151.5</td>\n",
              "      <td>41.3</td>\n",
              "      <td>58.5</td>\n",
              "      <td>18.5</td>\n",
              "    </tr>\n",
              "    <tr>\n",
              "      <th>4</th>\n",
              "      <td>180.8</td>\n",
              "      <td>10.8</td>\n",
              "      <td>58.4</td>\n",
              "      <td>12.9</td>\n",
              "    </tr>\n",
              "  </tbody>\n",
              "</table>\n",
              "</div>"
            ],
            "text/plain": [
              "      TV  Radio  Newspaper  Sales\n",
              "0  230.1   37.8       69.2   22.1\n",
              "1   44.5   39.3       45.1   10.4\n",
              "2   17.2   45.9       69.3    9.3\n",
              "3  151.5   41.3       58.5   18.5\n",
              "4  180.8   10.8       58.4   12.9"
            ]
          },
          "execution_count": 85,
          "metadata": {},
          "output_type": "execute_result"
        }
      ],
      "source": [
        "sample.head()"
      ]
    },
    {
      "cell_type": "code",
      "execution_count": 86,
      "metadata": {
        "gather": {
          "logged": 1688838665145
        },
        "jupyter": {
          "outputs_hidden": false,
          "source_hidden": false
        },
        "nteract": {
          "transient": {
            "deleting": false
          }
        }
      },
      "outputs": [
        {
          "name": "stdout",
          "output_type": "stream",
          "text": [
            "<class 'pandas.core.frame.DataFrame'>\n",
            "RangeIndex: 49 entries, 0 to 48\n",
            "Data columns (total 4 columns):\n",
            " #   Column     Non-Null Count  Dtype  \n",
            "---  ------     --------------  -----  \n",
            " 0   TV         49 non-null     float64\n",
            " 1   Radio      49 non-null     float64\n",
            " 2   Newspaper  49 non-null     float64\n",
            " 3   Sales      49 non-null     float64\n",
            "dtypes: float64(4)\n",
            "memory usage: 1.7 KB\n"
          ]
        }
      ],
      "source": [
        "sample.info()"
      ]
    },
    {
      "cell_type": "code",
      "execution_count": 87,
      "metadata": {
        "gather": {
          "logged": 1688838853710
        },
        "jupyter": {
          "outputs_hidden": false,
          "source_hidden": false
        },
        "nteract": {
          "transient": {
            "deleting": false
          }
        }
      },
      "outputs": [],
      "source": [
        "threshold = 0.05\n",
        "features_with_data_drift = []"
      ]
    },
    {
      "cell_type": "code",
      "execution_count": 88,
      "metadata": {
        "gather": {
          "logged": 1688838949857
        },
        "jupyter": {
          "outputs_hidden": false,
          "source_hidden": false
        },
        "nteract": {
          "transient": {
            "deleting": false
          }
        }
      },
      "outputs": [],
      "source": [
        "target = \"Sales\"\n",
        "numeric_features = ['TV', 'Radio', 'Newspaper']"
      ]
    },
    {
      "cell_type": "code",
      "execution_count": 89,
      "metadata": {
        "gather": {
          "logged": 1688839034675
        },
        "jupyter": {
          "outputs_hidden": false,
          "source_hidden": false
        },
        "nteract": {
          "transient": {
            "deleting": false
          }
        }
      },
      "outputs": [],
      "source": [
        "for k, feature in enumerate(sample.columns):\n",
        "    # Check if the feature is of numeric type\n",
        "    # Perform the Kolmogorov-Smirnov test between the corresponding feature in the training and sample data\n",
        "    if feature in numeric_features:\n",
        "        statistic, p_value = ks_2samp(\n",
        "            training_data[feature].values, \n",
        "            sample[feature].values\n",
        "        )\n",
        "        \n",
        "        if p_value < threshold:\n",
        "            features_with_data_drift.append(feature)"
      ]
    },
    {
      "cell_type": "code",
      "execution_count": 90,
      "metadata": {
        "gather": {
          "logged": 1688839057213
        },
        "jupyter": {
          "outputs_hidden": false,
          "source_hidden": false
        },
        "nteract": {
          "transient": {
            "deleting": false
          }
        }
      },
      "outputs": [
        {
          "data": {
            "text/plain": [
              "[]"
            ]
          },
          "execution_count": 90,
          "metadata": {},
          "output_type": "execute_result"
        }
      ],
      "source": [
        "features_with_data_drift"
      ]
    },
    {
      "cell_type": "markdown",
      "metadata": {
        "nteract": {
          "transient": {
            "deleting": false
          }
        }
      },
      "source": [
        "**OBSERVATION**:  \n",
        "Note: Sate if data drift has been observed in a feature or not  \n",
        "**There seems to be no data drift**\n"
      ]
    },
    {
      "cell_type": "markdown",
      "metadata": {
        "nteract": {
          "transient": {
            "deleting": false
          }
        }
      },
      "source": [
        "## Model Drift  \n",
        "\n",
        "To confirm model drift, we compare the ground truth of live data with the predictions from the deployed model. This involves extracting samples where the predictions and ground truth are compared, followed by conducting a statistical test to determine if there is a significant difference between the model predictions and the ground truth.\n",
        "\n",
        "For regression problems where the ground truth is readily available, we can compare the model's performance on a random sample with the ground truth observed in that sample. This comparison utilizes a paired two-sample t-test since the exact same sample is presented to both the deployed model and the ground truth. If the ground truth is not immediately available, we can estimate it manually and then compare the model's performance on the random sample with the manually estimated ground truth, again employing a paired two-sample t-test. In cases where manual estimation is not possible, we combine the ground truth (when available) with the predictions on the sample and perform a paired two-sample t-test for comparison."
      ]
    },
    {
      "cell_type": "markdown",
      "metadata": {
        "nteract": {
          "transient": {
            "deleting": false
          }
        }
      },
      "source": [
        "Note: Use \"advertising_ground_truth.csv\" to check for Model drift"
      ]
    },
    {
      "cell_type": "code",
      "execution_count": 91,
      "metadata": {
        "gather": {
          "logged": 1688839309664
        },
        "jupyter": {
          "outputs_hidden": false,
          "source_hidden": false
        },
        "nteract": {
          "transient": {
            "deleting": false
          }
        }
      },
      "outputs": [],
      "source": [
        "ground_truth_prices = pd.read_csv('./Data/advertising_ground_truth.csv')"
      ]
    },
    {
      "cell_type": "code",
      "execution_count": 92,
      "metadata": {
        "gather": {
          "logged": 1688839327647
        },
        "jupyter": {
          "outputs_hidden": false,
          "source_hidden": false
        },
        "nteract": {
          "transient": {
            "deleting": false
          }
        }
      },
      "outputs": [
        {
          "data": {
            "text/plain": [
              "19"
            ]
          },
          "execution_count": 92,
          "metadata": {},
          "output_type": "execute_result"
        }
      ],
      "source": [
        "len(ground_truth_prices)"
      ]
    },
    {
      "cell_type": "code",
      "execution_count": 96,
      "metadata": {
        "gather": {
          "logged": 1688839378410
        },
        "jupyter": {
          "outputs_hidden": false,
          "source_hidden": false
        },
        "nteract": {
          "transient": {
            "deleting": false
          }
        }
      },
      "outputs": [
        {
          "data": {
            "text/html": [
              "<div>\n",
              "<style scoped>\n",
              "    .dataframe tbody tr th:only-of-type {\n",
              "        vertical-align: middle;\n",
              "    }\n",
              "\n",
              "    .dataframe tbody tr th {\n",
              "        vertical-align: top;\n",
              "    }\n",
              "\n",
              "    .dataframe thead th {\n",
              "        text-align: right;\n",
              "    }\n",
              "</style>\n",
              "<table border=\"1\" class=\"dataframe\">\n",
              "  <thead>\n",
              "    <tr style=\"text-align: right;\">\n",
              "      <th></th>\n",
              "      <th>Sales</th>\n",
              "    </tr>\n",
              "  </thead>\n",
              "  <tbody>\n",
              "    <tr>\n",
              "      <th>0</th>\n",
              "      <td>22.1</td>\n",
              "    </tr>\n",
              "    <tr>\n",
              "      <th>1</th>\n",
              "      <td>10.4</td>\n",
              "    </tr>\n",
              "    <tr>\n",
              "      <th>2</th>\n",
              "      <td>9.3</td>\n",
              "    </tr>\n",
              "    <tr>\n",
              "      <th>3</th>\n",
              "      <td>18.5</td>\n",
              "    </tr>\n",
              "    <tr>\n",
              "      <th>4</th>\n",
              "      <td>12.9</td>\n",
              "    </tr>\n",
              "    <tr>\n",
              "      <th>5</th>\n",
              "      <td>7.2</td>\n",
              "    </tr>\n",
              "    <tr>\n",
              "      <th>6</th>\n",
              "      <td>11.8</td>\n",
              "    </tr>\n",
              "    <tr>\n",
              "      <th>7</th>\n",
              "      <td>13.2</td>\n",
              "    </tr>\n",
              "    <tr>\n",
              "      <th>8</th>\n",
              "      <td>4.8</td>\n",
              "    </tr>\n",
              "    <tr>\n",
              "      <th>9</th>\n",
              "      <td>10.6</td>\n",
              "    </tr>\n",
              "    <tr>\n",
              "      <th>10</th>\n",
              "      <td>8.6</td>\n",
              "    </tr>\n",
              "    <tr>\n",
              "      <th>11</th>\n",
              "      <td>17.4</td>\n",
              "    </tr>\n",
              "    <tr>\n",
              "      <th>12</th>\n",
              "      <td>9.2</td>\n",
              "    </tr>\n",
              "    <tr>\n",
              "      <th>13</th>\n",
              "      <td>9.7</td>\n",
              "    </tr>\n",
              "    <tr>\n",
              "      <th>14</th>\n",
              "      <td>19.0</td>\n",
              "    </tr>\n",
              "    <tr>\n",
              "      <th>15</th>\n",
              "      <td>22.4</td>\n",
              "    </tr>\n",
              "    <tr>\n",
              "      <th>16</th>\n",
              "      <td>12.5</td>\n",
              "    </tr>\n",
              "    <tr>\n",
              "      <th>17</th>\n",
              "      <td>24.4</td>\n",
              "    </tr>\n",
              "    <tr>\n",
              "      <th>18</th>\n",
              "      <td>11.3</td>\n",
              "    </tr>\n",
              "  </tbody>\n",
              "</table>\n",
              "</div>"
            ],
            "text/plain": [
              "    Sales\n",
              "0    22.1\n",
              "1    10.4\n",
              "2     9.3\n",
              "3    18.5\n",
              "4    12.9\n",
              "5     7.2\n",
              "6    11.8\n",
              "7    13.2\n",
              "8     4.8\n",
              "9    10.6\n",
              "10    8.6\n",
              "11   17.4\n",
              "12    9.2\n",
              "13    9.7\n",
              "14   19.0\n",
              "15   22.4\n",
              "16   12.5\n",
              "17   24.4\n",
              "18   11.3"
            ]
          },
          "execution_count": 96,
          "metadata": {},
          "output_type": "execute_result"
        }
      ],
      "source": [
        "ground_truth_prices"
      ]
    },
    {
      "cell_type": "code",
      "execution_count": 99,
      "metadata": {
        "gather": {
          "logged": 1688839497793
        },
        "jupyter": {
          "outputs_hidden": false,
          "source_hidden": false
        },
        "nteract": {
          "transient": {
            "deleting": false
          }
        }
      },
      "outputs": [
        {
          "data": {
            "text/plain": [
              "5.130255725567591e-05"
            ]
          },
          "execution_count": 99,
          "metadata": {},
          "output_type": "execute_result"
        }
      ],
      "source": [
        "# Perform a paired two-sample t-test\n",
        "two_sample_ttest = ttest_rel(model_predictions_azure_list_3[0], ground_truth_prices['Sales'])\n",
        "two_sample_ttest.pvalue"
      ]
    },
    {
      "cell_type": "markdown",
      "metadata": {
        "nteract": {
          "transient": {
            "deleting": false
          }
        }
      },
      "source": [
        "Note: on the basis of p-value outcome state if there is significance difference between the model predictions and ground truth."
      ]
    },
    {
      "cell_type": "markdown",
      "metadata": {
        "nteract": {
          "transient": {
            "deleting": false
          }
        }
      },
      "source": [
        "**OBSERVATION**:  \n",
        "* Since p-value is much less than 0.05, we conclude that there **IS** evidence to suggest a difference between the model's predictions and ground truth.\n"
      ]
    },
    {
      "cell_type": "markdown",
      "metadata": {
        "nteract": {
          "transient": {
            "deleting": false
          }
        }
      },
      "source": [
        "### Delete the Endpoint\n",
        "\n",
        "**Important!** An Endpoint is a LIVE node which is always running, ready to process & predict to give you output. So unless you are making real-time predictions on streaming data, delete your endpoints after use"
      ]
    },
    {
      "cell_type": "code",
      "execution_count": 46,
      "metadata": {
        "collapsed": false,
        "jupyter": {
          "outputs_hidden": false
        },
        "nteract": {
          "transient": {
            "deleting": false
          }
        }
      },
      "outputs": [
        {
          "data": {
            "text/plain": [
              "<azure.core.polling._poller.LROPoller at 0x7f886c697d60>"
            ]
          },
          "execution_count": 46,
          "metadata": {},
          "output_type": "execute_result"
        },
        {
          "name": "stdout",
          "output_type": "stream",
          "text": [
            "..."
          ]
        }
      ],
      "source": [
        "ml_client.online_endpoints.begin_delete(name=endpoint_name)"
      ]
    },
    {
      "cell_type": "markdown",
      "metadata": {
        "nteract": {
          "transient": {
            "deleting": false
          }
        }
      },
      "source": [
        "### **SUMMARY**\n",
        "This exercise showed how to create, train, and deploy a model's endpoint for serving. We then applied several monitoring techniques to confirm/deny data and/or model drift.  \n",
        "Although there was no evidence of significant difference between the model predictions and the target distribution in the training data, we did find significant difference between the model's predictions and ground truth data.  \n",
        "* This suggests that it may be time to re-train the model on the latest training data.  \n",
        "* However, we will need to do a cost-benefit analysis to see if re-training will add business value."
      ]
    },
    {
      "cell_type": "markdown",
      "metadata": {
        "nteract": {
          "transient": {
            "deleting": false
          }
        }
      },
      "source": [
        "### "
      ]
    }
  ],
  "metadata": {
    "kernel_info": {
      "name": "python310-sdkv2"
    },
    "kernelspec": {
      "display_name": "Python 3.10 - SDK v2",
      "language": "python",
      "name": "python310-sdkv2"
    },
    "language_info": {
      "codemirror_mode": {
        "name": "ipython",
        "version": 3
      },
      "file_extension": ".py",
      "mimetype": "text/x-python",
      "name": "python",
      "nbconvert_exporter": "python",
      "pygments_lexer": "ipython3",
      "version": "3.10.10"
    },
    "microsoft": {
      "host": {
        "AzureML": {
          "notebookHasBeenCompleted": true
        }
      },
      "ms_spell_check": {
        "ms_spell_check_language": "en"
      }
    },
    "nteract": {
      "version": "nteract-front-end@1.0.0"
    }
  },
  "nbformat": 4,
  "nbformat_minor": 4
}
