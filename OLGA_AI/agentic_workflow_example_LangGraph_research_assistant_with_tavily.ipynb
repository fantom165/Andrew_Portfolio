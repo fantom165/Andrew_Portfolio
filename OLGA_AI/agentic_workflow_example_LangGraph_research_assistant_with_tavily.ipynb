{
 "cells": [
  {
   "cell_type": "code",
   "execution_count": 1,
   "id": "1e9558db",
   "metadata": {},
   "outputs": [],
   "source": [
    "from langgraph.graph import StateGraph, MessagesState, START, END\n",
    "from langchain_openai import ChatOpenAI\n",
    "from langgraph.prebuilt import ToolNode\n",
    "from langchain_community.tools import TavilySearchResults\n",
    "from IPython.display import Image"
   ]
  },
  {
   "cell_type": "code",
   "execution_count": 14,
   "id": "ba186489",
   "metadata": {},
   "outputs": [],
   "source": [
    "#pip install langchain_tavily"
   ]
  },
  {
   "cell_type": "code",
   "execution_count": null,
   "id": "1d2c7ad2",
   "metadata": {},
   "outputs": [],
   "source": [
    "import os\n",
    "os.environ['TAVILY_API_KEY'] = ''"
   ]
  },
  {
   "cell_type": "code",
   "execution_count": 4,
   "id": "f7c42836",
   "metadata": {},
   "outputs": [],
   "source": [
    "from langgraph.checkpoint.memory import MemorySaver\n",
    "\n",
    "memory = MemorySaver()"
   ]
  },
  {
   "cell_type": "markdown",
   "id": "ee3d75f1",
   "metadata": {},
   "source": [
    "Notice we're using an in-memory checkpointer. This is convenient for our tutorial (it saves it all in-memory). In a production application, you would likely change this to use SqliteSaver or PostgresSaver and connect to your own DB."
   ]
  },
  {
   "cell_type": "code",
   "execution_count": 5,
   "id": "307071c4",
   "metadata": {},
   "outputs": [],
   "source": [
    "from typing import Annotated\n",
    "\n",
    "from typing_extensions import TypedDict\n",
    "\n",
    "from langgraph.graph import StateGraph, START, END\n",
    "from langgraph.graph.message import add_messages\n",
    "\n",
    "from langgraph.prebuilt import ToolNode, tools_condition\n",
    "from langchain_tavily import TavilySearch\n",
    "\n",
    "class State(TypedDict):\n",
    "    messages: Annotated[list, add_messages]\n",
    "\n",
    "\n",
    "graph_builder = StateGraph(State)\n",
    "\n",
    "\n",
    "tool = TavilySearch(max_results=2)\n",
    "tools = [tool]\n",
    "\n",
    "# class State(TypedDict):\n",
    "#     # Messages have the type \"list\". The `add_messages` function\n",
    "#     # in the annotation defines how this state key should be updated\n",
    "#     # (in this case, it appends messages to the list, rather than overwriting them)\n",
    "#     messages: Annotated[list, add_messages]\n",
    "\n",
    "\n",
    "graph_builder = StateGraph(State)"
   ]
  },
  {
   "cell_type": "code",
   "execution_count": null,
   "id": "194c5daf",
   "metadata": {},
   "outputs": [],
   "source": [
    "import os\n",
    "\n",
    "os.environ['OPENAI_API_KEY'] = ''\n"
   ]
  },
  {
   "cell_type": "markdown",
   "id": "296ad468",
   "metadata": {},
   "source": [
    "Next, add a \"chatbot\" node. Nodes represent units of work. They are typically regular python functions."
   ]
  },
  {
   "cell_type": "code",
   "execution_count": 7,
   "id": "b7a9e66d",
   "metadata": {},
   "outputs": [],
   "source": [
    "#llm = ChatOpenAI(model='gpt-4.1', temperature=0)\n",
    "llm = ChatOpenAI(model='gpt-4o-mini', temperature=0)"
   ]
  },
  {
   "cell_type": "code",
   "execution_count": 8,
   "id": "32ef9e21",
   "metadata": {},
   "outputs": [],
   "source": [
    "#from langchain.chat_models import init_chat_model\n",
    "\n",
    "# Modification: tell the LLM which tools it can call\n",
    "llm_with_tools = llm.bind_tools(tools)\n",
    "\n",
    "def chatbot(state: State):\n",
    "    return {\"messages\": [llm_with_tools.invoke(state[\"messages\"])]}\n",
    "\n",
    "\n",
    "graph_builder.add_node(\"chatbot\", chatbot)\n",
    "\n",
    "tool_node = ToolNode(tools=[tool])\n",
    "graph_builder.add_node(\"tools\", tool_node)\n",
    "\n",
    "graph_builder.add_conditional_edges(\n",
    "    \"chatbot\",\n",
    "    tools_condition,\n",
    ")\n",
    "# Any time a tool is called, we return to the chatbot to decide the next step\n",
    "graph_builder.add_edge(\"tools\", \"chatbot\")\n",
    "graph_builder.set_entry_point(\"chatbot\")\n",
    "\n",
    "#Finally, compile the graph with the provided checkpointer.\n",
    "graph = graph_builder.compile(checkpointer=memory)\n",
    "\n",
    "\n",
    "# def chatbot(state: State):\n",
    "#     return {\"messages\": [llm.invoke(state[\"messages\"])]}\n",
    "\n",
    "\n",
    "# # The first argument is the unique node name\n",
    "# # The second argument is the function or object that will be called whenever\n",
    "# # the node is used.\n",
    "# graph_builder.add_node(\"chatbot\", chatbot)"
   ]
  },
  {
   "cell_type": "markdown",
   "id": "71880db3",
   "metadata": {},
   "source": [
    "Next, add an entry point. This tells our graph where to start its work each time we run it."
   ]
  },
  {
   "cell_type": "code",
   "execution_count": 6,
   "id": "f51da323",
   "metadata": {},
   "outputs": [
    {
     "data": {
      "text/plain": [
       "<langgraph.graph.state.StateGraph at 0x1eea44bf970>"
      ]
     },
     "execution_count": 6,
     "metadata": {},
     "output_type": "execute_result"
    }
   ],
   "source": [
    "#graph_builder.add_edge(START, \"chatbot\")"
   ]
  },
  {
   "cell_type": "markdown",
   "id": "2069f2e7",
   "metadata": {},
   "source": [
    "Similarly, set a finish point. This instructs the graph \"any time this node is run, you can exit.\""
   ]
  },
  {
   "cell_type": "code",
   "execution_count": 7,
   "id": "0a4b169f",
   "metadata": {},
   "outputs": [
    {
     "data": {
      "text/plain": [
       "<langgraph.graph.state.StateGraph at 0x1eea44bf970>"
      ]
     },
     "execution_count": 7,
     "metadata": {},
     "output_type": "execute_result"
    }
   ],
   "source": [
    "#graph_builder.add_edge(\"chatbot\", END)"
   ]
  },
  {
   "cell_type": "markdown",
   "id": "a59b1369",
   "metadata": {},
   "source": [
    "Finally, we'll want to be able to run our graph. To do so, call \"compile()\" on the graph builder. This creates a \"CompiledGraph\" we can use invoke on our state."
   ]
  },
  {
   "cell_type": "code",
   "execution_count": 8,
   "id": "b5c5039f",
   "metadata": {},
   "outputs": [],
   "source": [
    "#graph = graph_builder.compile()"
   ]
  },
  {
   "cell_type": "markdown",
   "id": "306c10fe",
   "metadata": {},
   "source": [
    "You can visualize the graph using the get_graph method and one of the \"draw\" methods, like draw_ascii or draw_png. The draw methods each require additional dependencies."
   ]
  },
  {
   "cell_type": "code",
   "execution_count": 20,
   "id": "87262100",
   "metadata": {},
   "outputs": [
    {
     "data": {
      "image/png": "[encoded data removed]",
      "text/plain": [
       "<IPython.core.display.Image object>"
      ]
     },
     "metadata": {},
     "output_type": "display_data"
    }
   ],
   "source": [
    "from IPython.display import Image, display\n",
    "\n",
    "try:\n",
    "    display(Image(graph.get_graph().draw_mermaid_png()))\n",
    "except Exception:\n",
    "    # This requires some extra dependencies and is optional\n",
    "    pass"
   ]
  },
  {
   "cell_type": "code",
   "execution_count": null,
   "id": "7660918c",
   "metadata": {},
   "outputs": [],
   "source": []
  },
  {
   "cell_type": "markdown",
   "id": "5c811eb1",
   "metadata": {},
   "source": [
    "Now let's run the chatbot!\n",
    "\n",
    "Tip: You can exit the chat loop at any time by typing \"quit\", \"exit\", or \"q\"."
   ]
  },
  {
   "cell_type": "markdown",
   "id": "f2db08ed",
   "metadata": {},
   "source": [
    "Now you can interact with your bot! First, pick a thread to use as the key for this conversation."
   ]
  },
  {
   "cell_type": "code",
   "execution_count": 9,
   "id": "d3ecc324",
   "metadata": {},
   "outputs": [],
   "source": [
    "config = {\"configurable\": {\"thread_id\": \"1\"}}"
   ]
  },
  {
   "cell_type": "code",
   "execution_count": 10,
   "id": "c51624a1",
   "metadata": {},
   "outputs": [
    {
     "name": "stdout",
     "output_type": "stream",
     "text": [
      "================================\u001b[1m Human Message \u001b[0m=================================\n",
      "\n",
      "Hi there! My name is Andrew.\n",
      "==================================\u001b[1m Ai Message \u001b[0m==================================\n",
      "\n",
      "Hello Andrew! How can I assist you today?\n"
     ]
    }
   ],
   "source": [
    "#Next, call your chat bot.\n",
    "user_input = \"Hi there! My name is Andrew.\"\n",
    "\n",
    "# The config is the **second positional argument** to stream() or invoke()!\n",
    "events = graph.stream(\n",
    "    {\"messages\": [{\"role\": \"user\", \"content\": user_input}]},\n",
    "    config,\n",
    "    stream_mode=\"values\",\n",
    ")\n",
    "for event in events:\n",
    "    event[\"messages\"][-1].pretty_print()"
   ]
  },
  {
   "cell_type": "markdown",
   "id": "ff378517",
   "metadata": {},
   "source": [
    "**Note**: The config was provided as the **second positional argument** when calling our graph. It importantly is not nested within the graph inputs ({'messages': []}).  \n",
    "\n",
    "Let's ask a followup: see if it remembers your name."
   ]
  },
  {
   "cell_type": "code",
   "execution_count": 11,
   "id": "12aa7fd3",
   "metadata": {},
   "outputs": [
    {
     "name": "stdout",
     "output_type": "stream",
     "text": [
      "================================\u001b[1m Human Message \u001b[0m=================================\n",
      "\n",
      "Remember my name?\n",
      "==================================\u001b[1m Ai Message \u001b[0m==================================\n",
      "\n",
      "Yes, I remember your name is Andrew! How can I help you today?\n"
     ]
    }
   ],
   "source": [
    "user_input = \"Remember my name?\"\n",
    "\n",
    "# The config is the **second positional argument** to stream() or invoke()!\n",
    "events = graph.stream(\n",
    "    {\"messages\": [{\"role\": \"user\", \"content\": user_input}]},\n",
    "    config,\n",
    "    stream_mode=\"values\",\n",
    ")\n",
    "for event in events:\n",
    "    event[\"messages\"][-1].pretty_print()"
   ]
  },
  {
   "cell_type": "code",
   "execution_count": 17,
   "id": "20284589",
   "metadata": {},
   "outputs": [
    {
     "name": "stdout",
     "output_type": "stream",
     "text": [
      "User: who won the 2025 superbowl?\n",
      "================================\u001b[1m Human Message \u001b[0m=================================\n",
      "\n",
      "who won the 2025 superbowl?\n",
      "==================================\u001b[1m Ai Message \u001b[0m==================================\n",
      "\n",
      "The Philadelphia Eagles won the 2025 Super Bowl (Super Bowl LIX) by defeating the Kansas City Chiefs with a score of 40-22. Jalen Hurts was named the MVP of the game. If you have any more questions, feel free to ask!\n",
      "User: who won it in 2024?\n",
      "================================\u001b[1m Human Message \u001b[0m=================================\n",
      "\n",
      "who won it in 2024?\n",
      "==================================\u001b[1m Ai Message \u001b[0m==================================\n",
      "Tool Calls:\n",
      "  tavily_search (call_NaNxHdGRwmTHMWC46AFAcBMQ)\n",
      " Call ID: call_NaNxHdGRwmTHMWC46AFAcBMQ\n",
      "  Args:\n",
      "    query: 2024 Super Bowl winner\n",
      "    search_depth: basic\n",
      "=================================\u001b[1m Tool Message \u001b[0m=================================\n",
      "Name: tavily_search\n",
      "\n",
      "{\"query\": \"2024 Super Bowl winner\", \"follow_up_questions\": null, \"answer\": null, \"images\": [], \"results\": [{\"title\": \"Super Bowl 2024 Updates: The Kansas City Chiefs win the Super Bowl - NPR\", \"url\": \"https://www.npr.org/2024/02/10/1230621176/super-bowl-58\", \"content\": \"Kansas City Chiefs' tight end #87 Travis Kelce and Kansas City Chiefs' quarterback #15 Patrick Mahomes hug after winning Super Bowl LVIII against the San Francisco 49ers at Allegiant Stadium in Las Vegas, Nevada, February 11, 2024. Kansas City Chiefs' tight end #87 Travis Kelce and Kansas City Chiefs' quarterback #15 Patrick Mahomes hug after winning Super Bowl LVIII against the San Francisco 49ers at Allegiant Stadium in Las Vegas, Nevada, February 11, 2024. Singer Andra Day performs prior to Super Bowl LVIII between the San Francisco 49ers and Kansas City Chiefs at Allegiant Stadium on February 11, 2024 in Las Vegas, Nevada. Singer Andra Day performs prior to Super Bowl LVIII between the San Francisco 49ers and Kansas City Chiefs at Allegiant Stadium on February 11, 2024 in Las Vegas, Nevada.\", \"score\": 0.86928266, \"raw_content\": null}, {\"title\": \"Who won Super Bowl 2024? - Sporting News\", \"url\": \"https://www.sportingnews.com/us/nfl/news/super-bowl-2024-live-score-49ers-chiefs-results-highlights/0c440aa7145b809ed174d8ff\", \"content\": \"10:47 p.m. TOUCHDOWN — Mecole Hardman scores the touchdown the Chiefs are back-to-back Super Bowl champions! — Jauan Jennings just might be Super Bowl MVP if the 49ers win. 9:54 p.m. FIELD GOAL — For the second consecutive year, we are TIED in the fourth quarter of the Super Bowl. — The 49ers get the Chiefs to 3rd & 10, but they somehow let Kelce get wide open for another first down. 9:23 p.m. FUMBLE — The 49ers are again putting on a masterclass at how to blow a lead in the Super Bowl. — And now the Chiefs have been introduced as they get ready to try and become the first team in 19 years to win back-to-back Super Bowls.\", \"score\": 0.8055255, \"raw_content\": null}], \"response_time\": 1.87}\n",
      "==================================\u001b[1m Ai Message \u001b[0m==================================\n",
      "\n",
      "The Kansas City Chiefs won the 2024 Super Bowl (Super Bowl LVIII) by defeating the San Francisco 49ers. The game took place on February 11, 2024, at Allegiant Stadium in Las Vegas, Nevada. If you want to read more about it, you can check out the details [here](https://www.npr.org/2024/02/10/1230621176/super-bowl-58).\n",
      "User: Do you remember my name?\n",
      "================================\u001b[1m Human Message \u001b[0m=================================\n",
      "\n",
      "Do you remember my name?\n",
      "==================================\u001b[1m Ai Message \u001b[0m==================================\n",
      "\n",
      "Yes, your name is Andrew! How can I assist you today?\n",
      "User: quit\n",
      "Goodbye!\n"
     ]
    }
   ],
   "source": [
    "def stream_graph_updates(user_input: str):\n",
    "    # graph.stream yields one event dict at a time\n",
    "    for event in graph.stream(\n",
    "        {\"messages\": [{\"role\": \"user\", \"content\": user_input}]},\n",
    "        config,\n",
    "        stream_mode=\"values\",\n",
    "    ):\n",
    "        # each event has a \"messages\" list; take the last one\n",
    "        latest = event[\"messages\"][-1]\n",
    "        latest.pretty_print()\n",
    "\n",
    "\n",
    "if __name__ == \"__main__\":\n",
    "    while True:\n",
    "        user_input = input(\"User: \")\n",
    "        if user_input.lower() in {\"quit\", \"exit\", \"q\"}:\n",
    "            print(\"Goodbye!\")\n",
    "            break\n",
    "        try:\n",
    "            stream_graph_updates(user_input)\n",
    "        except Exception as e:\n",
    "            print(f\"[streaming failed: {e!r}]\")\n",
    "            break\n",
    "\n",
    "# def stream_graph_updates(user_input: str):\n",
    "#     for event in graph.stream(\n",
    "#     {\"messages\": [{\"role\": \"user\", \"content\": user_input}]},\n",
    "#     config,\n",
    "#     stream_mode=\"values\"):\n",
    "#         for value in event.values():\n",
    "#             print(\"Assistant:\", value[\"messages\"][-1].content)\n",
    "\n",
    "# def stream_graph_updates(user_input: str):\n",
    "#     for event in graph.stream({\"messages\": [{\"role\": \"user\", \"content\": user_input}]},\n",
    "#     config, stream_mode=\"values\"):\n",
    "#         for event in events:\n",
    "#             event[\"messages\"][-1].pretty_print()\n",
    "\n",
    "# while True:\n",
    "#     try:\n",
    "#         user_input = input(\"User: \")\n",
    "#         if user_input.lower() in [\"quit\", \"exit\", \"q\"]:\n",
    "#             print(\"Goodbye!\")\n",
    "#             break\n",
    "#         stream_graph_updates(user_input)\n",
    "#     except:\n",
    "#         # fallback if input() is not available\n",
    "#         user_input = \"What do you know about LangGraph?\"\n",
    "#         print(\"User: \" + user_input)\n",
    "#         stream_graph_updates(user_input)\n",
    "#         break"
   ]
  },
  {
   "cell_type": "code",
   "execution_count": null,
   "id": "2d51345d",
   "metadata": {},
   "outputs": [],
   "source": []
  },
  {
   "cell_type": "code",
   "execution_count": null,
   "id": "587c9f95",
   "metadata": {},
   "outputs": [],
   "source": []
  }
 ],
 "metadata": {
  "kernelspec": {
   "display_name": "Python 3 (ipykernel)",
   "language": "python",
   "name": "python3"
  },
  "language_info": {
   "codemirror_mode": {
    "name": "ipython",
    "version": 3
   },
   "file_extension": ".py",
   "mimetype": "text/x-python",
   "name": "python",
   "nbconvert_exporter": "python",
   "pygments_lexer": "ipython3",
   "version": "3.9.13"
  }
 },
 "nbformat": 4,
 "nbformat_minor": 5
}
