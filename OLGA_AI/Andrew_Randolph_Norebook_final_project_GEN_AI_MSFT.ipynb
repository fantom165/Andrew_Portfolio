{
  "cells": [
    {
      "cell_type": "markdown",
      "metadata": {
        "id": "A-kfSgIGzgGL"
      },
      "source": [
        "# **Project : A Case Study of ExpressWay Logistics**"
      ]
    },
    {
      "cell_type": "markdown",
      "metadata": {
        "id": "O8Z-Vp4pzgGN"
      },
      "source": [
        "**Business Overview:**\n",
        "\n",
        "ExpressWay Logistics is a dynamic logistics service provider, committed to delivering efficient, reliable and cost-effective courier transportation and warehousing solutions. With a focus on speed, precision and customer satisfaction, we aim to be the go-to partner for our customers seeking seamless courier services. Our core service involves ensuring operational efficiency throughout our delivery and courier services, including inventory management, durable packaging and swift dispatch of couriers, real time tracking of shipments and on-time delivery of couriers as promised. We are committed to enhance our logistics and courier services and improve seamless connectivity for our customers."
      ]
    },
    {
      "cell_type": "markdown",
      "metadata": {
        "id": "46XFRcFTzgGN"
      },
      "source": [
        "**Current Challenge:**\n",
        "\n",
        "ExpressWay Logistics faces numerous challenges in ensuring seamless deliveries and customer satisfaction. These challenges include managing various customer demands simultaneously, addressing delays in deliveries and ensuring products arrive intact and safe. Additionally, the company struggles with complexity of efficiently storing and handling a large volume of packages and ultimately meeting customer expectations. Moreover, maintaining a skilled workforce capable of handling various aspects of logistics operations presents its own set of challenges. Overcoming these obstacles requires a comprehensive approach that integrates innovative technology, strategic planning, and continuous improvement initiatives to ensure smooth operations and exceptional service delivery."
      ]
    },
    {
      "cell_type": "markdown",
      "metadata": {
        "id": "maC1EgUJzgGO"
      },
      "source": [
        "**Objective:**\n",
        "\n",
        "Our primary objective is to conduct a sentiment analysis of user-generated reviews across various digital channels and platforms. By paying attention to their feedback, we want to find ways to make our services better - like handling different customer demands simultaneously, dealing with late deliveries, and keeping packages secured and intact. Through the application of prompt engineering methodologies and sentiment analysis, we'll figure out if sentiments expressed by users for our courier services are Positive or Negative. This will help us understand where we need to improve in order to meet customer expectations and keep them happy. With a focus on getting better all the time, we'll overcome the challenges at ExpressWay Logistics and make our services the best."
      ]
    },
    {
      "cell_type": "markdown",
      "metadata": {
        "id": "flUHF3xczgGO"
      },
      "source": [
        "**Data Description:**\n",
        "\n",
        "The dataset titled \"courier-service_reviews.csv\" is structured to facilitate sentiment analysis for courier service reviews. Here's a brief description of the data columns:\n",
        "\n",
        "1. id: This column contains unique identifiers for each review entry. It helps in distinguishing and referencing individual reviews.\n",
        "2. review: This column includes the actual text of the courier service reviews. The reviews are likely composed of customer opinions and experiences regarding different aspects of the services provided by ExpressWay Logistics.\n",
        "3. sentiment: This column provides an additional layer of classification (positive and negative) for the mentioned reviews."
      ]
    },
    {
      "cell_type": "markdown",
      "metadata": {
        "id": "0zTC8qPRPahk"
      },
      "source": [
        "##**Step 1. Setup (2 Marks)**\n",
        "\n",
        "(A) Writing/Creating the config.json file  (2 Marks)"
      ]
    },
    {
      "cell_type": "markdown",
      "metadata": {
        "id": "ykLYC3zzSr8z"
      },
      "source": [
        "### Installation"
      ]
    },
    {
      "cell_type": "code",
      "execution_count": 1,
      "metadata": {
        "colab": {
          "base_uri": "https://localhost:8080/"
        },
        "id": "keb94_PFzgGO",
        "outputId": "a36aab03-a90f-4b04-a7e3-7cb72a8b2cea"
      },
      "outputs": [],
      "source": [
        "#This linehas to be run in the terminal\n",
        "#!pip install openai==1.55.3 tiktoken datasets session-info --quiet"
      ]
    },
    {
      "cell_type": "markdown",
      "metadata": {
        "id": "YFZj9kr8Pahl"
      },
      "source": [
        "### Imports"
      ]
    },
    {
      "cell_type": "code",
      "execution_count": 2,
      "metadata": {
        "id": "Q3gwxSqQPahl"
      },
      "outputs": [
        {
          "name": "stderr",
          "output_type": "stream",
          "text": [
            "c:\\Users\\arand\\anaconda3\\lib\\site-packages\\scipy\\__init__.py:146: UserWarning: A NumPy version >=1.17.3 and <1.25.0 is required for this version of SciPy (detected version 1.26.4\n",
            "  warnings.warn(f\"A NumPy version >={np_minversion} and <{np_maxversion}\"\n"
          ]
        }
      ],
      "source": [
        "# Import all Python packages required to access the Azure Open AI API.\n",
        "# Import additional packages required to access datasets and create examples.\n",
        "\n",
        "from openai import AzureOpenAI\n",
        "import json\n",
        "import random\n",
        "import tiktoken\n",
        "import session_info\n",
        "\n",
        "import pandas as pd\n",
        "import numpy as np\n",
        "\n",
        "from collections import Counter\n",
        "from tqdm import tqdm\n",
        "from sklearn.model_selection import train_test_split\n",
        "from sklearn.metrics import f1_score\n",
        "from tabulate import tabulate"
      ]
    },
    {
      "cell_type": "code",
      "execution_count": 3,
      "metadata": {
        "colab": {
          "base_uri": "https://localhost:8080/",
          "height": 34
        },
        "id": "6mmXtfmrS7Ml",
        "outputId": "28ea8c01-d636-4049-da75-c62d6a9a0fdc"
      },
      "outputs": [
        {
          "data": {
            "text/html": [
              "<details>\n",
              "<summary>Click to view session information</summary>\n",
              "<pre>\n",
              "-----\n",
              "numpy               1.26.4\n",
              "openai              1.55.3\n",
              "pandas              2.0.3\n",
              "session_info        1.0.0\n",
              "sklearn             1.0.2\n",
              "tabulate            0.8.10\n",
              "tiktoken            NA\n",
              "tqdm                4.64.1\n",
              "-----\n",
              "</pre>\n",
              "<details>\n",
              "<summary>Click to view modules imported as dependencies</summary>\n",
              "<pre>\n",
              "Cython                      0.29.32\n",
              "annotated_types             0.7.0\n",
              "anyio                       NA\n",
              "attr                        24.2.0\n",
              "backcall                    0.2.0\n",
              "beta_ufunc                  NA\n",
              "binom_ufunc                 NA\n",
              "bottleneck                  1.3.5\n",
              "brotli                      NA\n",
              "certifi                     2022.09.14\n",
              "click                       8.0.4\n",
              "cloudpickle                 2.0.0\n",
              "colorama                    0.4.5\n",
              "cython                      0.29.32\n",
              "cython_runtime              NA\n",
              "dateutil                    2.8.2\n",
              "debugpy                     1.5.1\n",
              "decorator                   5.1.1\n",
              "distro                      1.9.0\n",
              "entrypoints                 0.4\n",
              "google                      NA\n",
              "h11                         0.14.0\n",
              "httpcore                    1.0.5\n",
              "httpx                       0.27.0\n",
              "hypergeom_ufunc             NA\n",
              "idna                        3.3\n",
              "ipykernel                   6.15.2\n",
              "ipython_genutils            0.2.0\n",
              "ipywidgets                  7.6.5\n",
              "jedi                        0.18.1\n",
              "jiter                       0.8.2\n",
              "joblib                      1.3.1\n",
              "jupyter_server              1.18.1\n",
              "lz4                         3.1.3\n",
              "mpl_toolkits                NA\n",
              "nbinom_ufunc                NA\n",
              "nt                          NA\n",
              "ntsecuritycon               NA\n",
              "numexpr                     2.8.3\n",
              "packaging                   23.2\n",
              "parso                       0.8.3\n",
              "pickleshare                 0.7.5\n",
              "pkg_resources               NA\n",
              "prompt_toolkit              3.0.20\n",
              "psutil                      5.9.0\n",
              "pyarrow                     12.0.1\n",
              "pydantic                    2.8.2\n",
              "pydantic_core               2.20.1\n",
              "pydev_ipython               NA\n",
              "pydevconsole                NA\n",
              "pydevd                      2.6.0\n",
              "pydevd_concurrency_analyser NA\n",
              "pydevd_file_utils           NA\n",
              "pydevd_plugins              NA\n",
              "pydevd_tracing              NA\n",
              "pygments                    2.16.1\n",
              "pythoncom                   NA\n",
              "pytz                        2022.1\n",
              "pywintypes                  NA\n",
              "regex                       2.5.116\n",
              "rich                        NA\n",
              "ruamel                      NA\n",
              "scipy                       1.8.1\n",
              "six                         1.16.0\n",
              "sniffio                     1.2.0\n",
              "sphinxcontrib               NA\n",
              "storemagic                  NA\n",
              "threadpoolctl               2.2.0\n",
              "tiktoken_ext                NA\n",
              "tornado                     6.1\n",
              "traitlets                   5.1.1\n",
              "typing_extensions           NA\n",
              "vscode                      NA\n",
              "wcwidth                     0.2.5\n",
              "win32api                    NA\n",
              "win32com                    NA\n",
              "win32security               NA\n",
              "zmq                         23.2.0\n",
              "zoneinfo                    NA\n",
              "zope                        NA\n",
              "</pre>\n",
              "</details> <!-- seems like this ends pre, so might as well be explicit -->\n",
              "<pre>\n",
              "-----\n",
              "IPython             7.31.1\n",
              "jupyter_client      7.3.4\n",
              "jupyter_core        4.11.1\n",
              "jupyterlab          3.4.4\n",
              "notebook            6.4.12\n",
              "-----\n",
              "Python 3.9.13 (main, Aug 25 2022, 23:51:50) [MSC v.1916 64 bit (AMD64)]\n",
              "Windows-10-10.0.22631-SP0\n",
              "-----\n",
              "Session information updated at 2024-12-16 15:15\n",
              "</pre>\n",
              "</details>"
            ],
            "text/plain": [
              "<IPython.core.display.HTML object>"
            ]
          },
          "execution_count": 3,
          "metadata": {},
          "output_type": "execute_result"
        }
      ],
      "source": [
        "session_info.show()"
      ]
    },
    {
      "cell_type": "markdown",
      "metadata": {
        "id": "SN0wIDUjPahn"
      },
      "source": [
        "### Authentication"
      ]
    },
    {
      "cell_type": "markdown",
      "metadata": {
        "id": "FvDZdCMhzgGQ"
      },
      "source": [
        "**(A) Writing/Creating the config.json file (2 Marks)**"
      ]
    },
    {
      "cell_type": "code",
      "execution_count": 68,
      "metadata": {
        "id": "2tdRk05EzgGQ"
      },
      "outputs": [],
      "source": [
        "# Define your configuration information\n",
        "config_data = {\n",
        "    \"AZURE_OPENAI_KEY\": \"d328fb9df91448a3a088ed980f8ada9c\",            #Replace it with your credentials\n",
        "    \"AZURE_OPENAI_ENDPOINT\": \"https://aiforbusiness2024.openai.azure.com/\",      #Replace it with your credentials\n",
        "    \"AZURE_OPENAI_APIVERSION\": \"2024-02-15-preview\", #Replace it with your credentials\n",
        "    \"CHATGPT_MODEL\": \"gpt-4o-mini\"             #Replace it with your credentials\n",
        "}"
      ]
    },
    {
      "cell_type": "code",
      "execution_count": 69,
      "metadata": {
        "colab": {
          "base_uri": "https://localhost:8080/"
        },
        "id": "cO4TwVYHzgGQ",
        "outputId": "2da350dc-ea6e-4d62-8ca6-b8a8b595a502"
      },
      "outputs": [
        {
          "name": "stdout",
          "output_type": "stream",
          "text": [
            "Config file created successfully!\n"
          ]
        }
      ],
      "source": [
        "# Write the configuration information into the config.json file\n",
        "with open('config.json', 'w') as config_file:\n",
        "    json.dump(config_data, config_file, indent=4)\n",
        "\n",
        "print(\"Config file created successfully!\")"
      ]
    },
    {
      "cell_type": "code",
      "execution_count": 70,
      "metadata": {
        "id": "cxLhZIviPahn"
      },
      "outputs": [],
      "source": [
        "with open('config.json', 'r') as az_creds:\n",
        "    data = az_creds.read()"
      ]
    },
    {
      "cell_type": "code",
      "execution_count": 71,
      "metadata": {
        "id": "nL9GpBEVPahn"
      },
      "outputs": [],
      "source": [
        "creds = json.loads(data)"
      ]
    },
    {
      "cell_type": "code",
      "execution_count": 72,
      "metadata": {
        "id": "Ud7bPDquPahp"
      },
      "outputs": [],
      "source": [
        "client = AzureOpenAI(\n",
        "    azure_endpoint=creds[\"AZURE_OPENAI_ENDPOINT\"],\n",
        "    api_key=creds[\"AZURE_OPENAI_KEY\"],\n",
        "    api_version=creds[\"AZURE_OPENAI_APIVERSION\"]\n",
        ")"
      ]
    },
    {
      "cell_type": "code",
      "execution_count": 73,
      "metadata": {
        "id": "Atf3l2mNPahp"
      },
      "outputs": [],
      "source": [
        "chat_model_id = creds[\"CHATGPT_MODEL\"]"
      ]
    },
    {
      "cell_type": "code",
      "execution_count": 74,
      "metadata": {},
      "outputs": [
        {
          "data": {
            "text/plain": [
              "'gpt-4o-mini'"
            ]
          },
          "execution_count": 74,
          "metadata": {},
          "output_type": "execute_result"
        }
      ],
      "source": [
        "chat_model_id"
      ]
    },
    {
      "cell_type": "markdown",
      "metadata": {
        "id": "HQpkd5elTMhd"
      },
      "source": [
        "### Utilities"
      ]
    },
    {
      "cell_type": "code",
      "execution_count": 22,
      "metadata": {
        "id": "V5Gp-_CxPahp"
      },
      "outputs": [],
      "source": [
        "def num_tokens_from_messages(messages):\n",
        "\n",
        "    \"\"\"\n",
        "    Return the number of tokens used by a list of messages.\n",
        "    Adapted from the Open AI cookbook token counter\n",
        "    \"\"\"\n",
        "\n",
        "    encoding = tiktoken.encoding_for_model(\"gpt-3.5-turbo\") # changed from gpt-3.5-turbo\n",
        "\n",
        "    # Each message is sandwiched with <|start|>role and <|end|>\n",
        "    # Hence, messages look like: <|start|>system or user or assistant{message}<|end|>\n",
        "\n",
        "    tokens_per_message = 3 # token1:<|start|>, token2:system(or user or assistant), token3:<|end|>\n",
        "\n",
        "    num_tokens = 0\n",
        "\n",
        "    for message in messages:\n",
        "        num_tokens += tokens_per_message\n",
        "        for key, value in message.items():\n",
        "            num_tokens += len(encoding.encode(value))\n",
        "\n",
        "    num_tokens += 3  # every reply is primed with <|start|>assistant<|message|>\n",
        "\n",
        "    return num_tokens"
      ]
    },
    {
      "cell_type": "markdown",
      "metadata": {
        "id": "3sP7s5TDPahq"
      },
      "source": [
        "## Task : Sentiment Analysis"
      ]
    },
    {
      "cell_type": "markdown",
      "metadata": {
        "id": "WhctrBwFPahq"
      },
      "source": [
        "##**Step 2: Assemble Data (5 Marks)**\n",
        "\n",
        "(A) Upload and Read csv File (2 Marks)\n",
        "\n",
        "(B) Count Positive and Negative Sentiment Reviews (1 Marks)\n",
        "\n",
        "(C) Split the Dataset (2 Marks)"
      ]
    },
    {
      "cell_type": "markdown",
      "metadata": {
        "id": "bLK-296WzgGS"
      },
      "source": [
        "**(A) Upload and read csv file (2 Marks)**"
      ]
    },
    {
      "cell_type": "code",
      "execution_count": 10,
      "metadata": {
        "id": "SA5Cyqgk5kgB"
      },
      "outputs": [],
      "source": [
        "cs_reviews_df = pd.read_csv(\"courier-service_reviews.csv\")\n",
        "# Read CSV File Here"
      ]
    },
    {
      "cell_type": "code",
      "execution_count": 11,
      "metadata": {
        "colab": {
          "base_uri": "https://localhost:8080/"
        },
        "id": "a-NSh5_p7V5E",
        "outputId": "215b303e-8535-488c-cdfb-cdcb8016eff4"
      },
      "outputs": [
        {
          "name": "stdout",
          "output_type": "stream",
          "text": [
            "<class 'pandas.core.frame.DataFrame'>\n",
            "RangeIndex: 131 entries, 0 to 130\n",
            "Data columns (total 3 columns):\n",
            " #   Column     Non-Null Count  Dtype \n",
            "---  ------     --------------  ----- \n",
            " 0   id         131 non-null    int64 \n",
            " 1   review     131 non-null    object\n",
            " 2   sentiment  131 non-null    object\n",
            "dtypes: int64(1), object(2)\n",
            "memory usage: 3.2+ KB\n"
          ]
        }
      ],
      "source": [
        "cs_reviews_df.info()"
      ]
    },
    {
      "cell_type": "code",
      "execution_count": 9,
      "metadata": {
        "colab": {
          "base_uri": "https://localhost:8080/",
          "height": 206
        },
        "id": "UJmr1iJ5_tNm",
        "outputId": "b1bbd4b7-4286-43bf-f730-fbccc969ec1a"
      },
      "outputs": [
        {
          "data": {
            "text/html": [
              "<div>\n",
              "<style scoped>\n",
              "    .dataframe tbody tr th:only-of-type {\n",
              "        vertical-align: middle;\n",
              "    }\n",
              "\n",
              "    .dataframe tbody tr th {\n",
              "        vertical-align: top;\n",
              "    }\n",
              "\n",
              "    .dataframe thead th {\n",
              "        text-align: right;\n",
              "    }\n",
              "</style>\n",
              "<table border=\"1\" class=\"dataframe\">\n",
              "  <thead>\n",
              "    <tr style=\"text-align: right;\">\n",
              "      <th></th>\n",
              "      <th>id</th>\n",
              "      <th>review</th>\n",
              "      <th>sentiment</th>\n",
              "    </tr>\n",
              "  </thead>\n",
              "  <tbody>\n",
              "    <tr>\n",
              "      <th>96</th>\n",
              "      <td>97</td>\n",
              "      <td>When it comes to packaging materials, ExpressW...</td>\n",
              "      <td>Positive</td>\n",
              "    </tr>\n",
              "    <tr>\n",
              "      <th>127</th>\n",
              "      <td>128</td>\n",
              "      <td>While ExpressWay Logistics' pricing is competi...</td>\n",
              "      <td>Negative</td>\n",
              "    </tr>\n",
              "    <tr>\n",
              "      <th>20</th>\n",
              "      <td>21</td>\n",
              "      <td>ExpressWay Logistics consistently delivers exc...</td>\n",
              "      <td>Positive</td>\n",
              "    </tr>\n",
              "    <tr>\n",
              "      <th>90</th>\n",
              "      <td>91</td>\n",
              "      <td>ExpressWay Logistics' proactive approach to pr...</td>\n",
              "      <td>Positive</td>\n",
              "    </tr>\n",
              "    <tr>\n",
              "      <th>76</th>\n",
              "      <td>77</td>\n",
              "      <td>I had a terrible experience with ExpressWay Lo...</td>\n",
              "      <td>Negative</td>\n",
              "    </tr>\n",
              "  </tbody>\n",
              "</table>\n",
              "</div>"
            ],
            "text/plain": [
              "      id                                             review sentiment\n",
              "96    97  When it comes to packaging materials, ExpressW...  Positive\n",
              "127  128  While ExpressWay Logistics' pricing is competi...  Negative\n",
              "20    21  ExpressWay Logistics consistently delivers exc...  Positive\n",
              "90    91  ExpressWay Logistics' proactive approach to pr...  Positive\n",
              "76    77  I had a terrible experience with ExpressWay Lo...  Negative"
            ]
          },
          "execution_count": 9,
          "metadata": {},
          "output_type": "execute_result"
        }
      ],
      "source": [
        "cs_reviews_df.sample(5)\n",
        "#cs_reviews_df.head()"
      ]
    },
    {
      "cell_type": "markdown",
      "metadata": {
        "id": "CKUDLCbC0bfB"
      },
      "source": [
        "**(B) Count Positive and Negative Sentiment Reviews (1 Marks)**"
      ]
    },
    {
      "cell_type": "code",
      "execution_count": 6,
      "metadata": {
        "colab": {
          "base_uri": "https://localhost:8080/"
        },
        "id": "O5AbhvRV9o-e",
        "outputId": "459a435b-f0a9-43ba-c758-eb4758206f4c"
      },
      "outputs": [
        {
          "data": {
            "text/plain": [
              "sentiment\n",
              "Positive    68\n",
              "Negative    63\n",
              "Name: count, dtype: int64"
            ]
          },
          "execution_count": 6,
          "metadata": {},
          "output_type": "execute_result"
        }
      ],
      "source": [
        "#Counting the values of positive and negative reviews\"___________\"\n",
        "cs_reviews_df[\"sentiment\"].value_counts()"
      ]
    },
    {
      "cell_type": "code",
      "execution_count": 7,
      "metadata": {
        "colab": {
          "base_uri": "https://localhost:8080/"
        },
        "id": "l3Z0q0b6zgGT",
        "outputId": "c9045d8d-27c3-4d8e-8778-de5aa6afcb0e"
      },
      "outputs": [
        {
          "data": {
            "text/plain": [
              "(131, 3)"
            ]
          },
          "execution_count": 7,
          "metadata": {},
          "output_type": "execute_result"
        }
      ],
      "source": [
        "cs_reviews_df.shape"
      ]
    },
    {
      "cell_type": "markdown",
      "metadata": {
        "id": "MiXuxmchzgGT"
      },
      "source": [
        "**(C) Split the Dataset (2 Marks)**"
      ]
    },
    {
      "cell_type": "code",
      "execution_count": 12,
      "metadata": {
        "id": "dkXtXbc9N5rC"
      },
      "outputs": [],
      "source": [
        "cs_examples_df, cs_gold_examples_df = train_test_split(\n",
        "    cs_reviews_df, #<- the full dataset\n",
        "    test_size=0.2, #<- 20% random sample selected for gold examples\n",
        "    random_state=42,#<- ensures that the splits are the same for every session\n",
        "    stratify=cs_reviews_df['sentiment'] #<- ensures equal distribution of labels for good measure\n",
        ")"
      ]
    },
    {
      "cell_type": "code",
      "execution_count": 13,
      "metadata": {},
      "outputs": [
        {
          "data": {
            "text/plain": [
              "((104, 3), (27, 3))"
            ]
          },
          "execution_count": 13,
          "metadata": {},
          "output_type": "execute_result"
        }
      ],
      "source": [
        "(cs_examples_df.shape, cs_gold_examples_df.shape)"
      ]
    },
    {
      "cell_type": "markdown",
      "metadata": {
        "id": "2ExVGFPl4tdx"
      },
      "source": [
        "To select gold examples for this session, we sample randomly from the test data using a `random_state=42`. This ensures that the examples from multiple runs of the sampling are the same (i.e., they are randomly selected but do not change between different runs of the notebook). Note that we are doing this only to keep execution times low for illustration. In practise, large number of gold examples facilitate robust estimates of model accuracy."
      ]
    },
    {
      "cell_type": "code",
      "execution_count": 14,
      "metadata": {
        "id": "YLj4LVu_Ozc_"
      },
      "outputs": [],
      "source": [
        "columns_to_select = ['review','sentiment']"
      ]
    },
    {
      "cell_type": "code",
      "execution_count": 15,
      "metadata": {
        "id": "nDIZm2RdMsDt"
      },
      "outputs": [],
      "source": [
        "gold_examples = (\n",
        "        cs_gold_examples_df.loc[:, columns_to_select]\n",
        "                                     .sample(21, random_state=42) #<- ensures that gold examples are the same for every session\n",
        "                                     .to_json(orient='records')\n",
        ")"
      ]
    },
    {
      "cell_type": "code",
      "execution_count": 16,
      "metadata": {
        "colab": {
          "base_uri": "https://localhost:8080/",
          "height": 122
        },
        "id": "5AcH3eqgzgGV",
        "outputId": "55a9ded3-0bf3-43a1-b103-7d5ef3e85339"
      },
      "outputs": [
        {
          "data": {
            "text/plain": [
              "'[{\"review\":\"I was impressed by the speed of delivery offered by ExpressWay Logistics, as my package arrived sooner than expected. The prompt service exceeded my expectations and demonstrated their commitment to timely deliveries.However, upon receiving the package, I discovered that an item was missing from the shipment. Despite contacting customer service to address the issue, I encountered difficulty in obtaining a resolution, leaving me dissatisfied with the overall experience.\",\"sentiment\":\"Negative\"},{\"review\":\"I was promised to be updated with courier partner\\'s contact details.Nothing happened as said and I faced difficulty finding the contact details and keep a track of my goods.I was scared if I was scammed and thought of raising a support ticket but ended up with a frustrating experience as there was no platform to do so.\",\"sentiment\":\"Negative\"},{\"review\":\"ExpressWay Logistics\\' proactive approach to problem-solving sets them apart from other logistics providers. They anticipate potential issues and take proactive steps to mitigate them, ensuring that our shipments arrive on time and in perfect condition. With ExpressWay Logistics, we have a partner we can rely on, no matter what challenges arise.\",\"sentiment\":\"Positive\"},{\"review\":\"What I love most about ExpressWay Logistics is their seamless communication. Whether it\\'s providing updates on the status of my shipment or addressing any concerns I may have, they always keep me informed every step of the way.\",\"sentiment\":\"Positive\"},{\"review\":\"ExpressWay Logistics\\' lack of attention to detail is concerning. Simple requests like fragile handling instructions are frequently ignored, resulting in damaged goods upon arrival. It\\'s unacceptable.\",\"sentiment\":\"Negative\"},{\"review\":\"I had a last-minute change to my shipping address, and I was worried it would cause delays. However, ExpressWay Logistics quickly updated the information and ensured that my package arrived at the new location on time.\",\"sentiment\":\"Positive\"},{\"review\":\"The customer support team at ExpressWay Logistics was unprofessional and unhelpful when I contacted them regarding a missing parcel. I was left feeling frustrated and disappointed.\",\"sentiment\":\"Negative\"},{\"review\":\"ExpressWay Logistics is unreliable and untrustworthy. They failed to deliver my parcel on time, and the customer support team was unapologetic and unwilling to assist me in resolving the issue.\",\"sentiment\":\"Negative\"},{\"review\":\"When it comes to packaging materials, ExpressWay Logistics prioritizes quality and durability. I was impressed by the sturdy packaging used to protect my items during transit. Their attention to detail in selecting the right materials for each package ensured that my goods arrived in perfect condition. With ExpressWay Logistics, I can trust that my shipments will be handled with care and arrive safely at their destination.\",\"sentiment\":\"Positive\"},{\"review\":\"I appreciate the attention to detail that ExpressWay Logistics puts into every aspect of their service, from packaging to delivery to customer support and the promised door to door deliveries.Overall a satisfied service!\",\"sentiment\":\"Positive\"},{\"review\":\"ExpressWay Logistics\\' delivery drivers seem to have no regard for punctuality. Despite paying for expedited shipping, my packages are consistently delayed, causing major inconvenience. It\\'s time for them to step up their game.\",\"sentiment\":\"Negative\"},{\"review\":\"The customer support team at ExpressWay Logistics was unprofessional and unhelpful when I contacted them regarding a missing parcel. I was left feeling frustrated and disappointed as the support team communicated with me that all the items were delivered to me and blamed me for claiming for missing items.\",\"sentiment\":\"Negative\"},{\"review\":\"I am extremely disappointed with the service provided by ExpressWay Logistics. My parcel was delivered late, and the packaging was damaged, resulting in the loss of valuable items.\",\"sentiment\":\"Negative\"},{\"review\":\"As a frequent traveler, I often use ExpressWay Logistics to ship luggage and personal belongings ahead of time. Their door-to-door service and reliable tracking make traveling a breeze.\",\"sentiment\":\"Positive\"},{\"review\":\"I\\'ve been using ExpressWay Logistics for years, but lately, their service quality has declined significantly. Late deliveries and poor communication have become the norm, making me reconsider my loyalty to this company.I am dissatisfied by this level of service provided.Cannot trust again..Overall a disappointed customer!\",\"sentiment\":\"Negative\"},{\"review\":\"ExpressWay Logistics is my go-to for all my shipping needs. Whether it\\'s a small package or a large shipment, they always deliver on time and with a smile. Thanks for the great service, ExpressWay Logistics!\",\"sentiment\":\"Positive\"},{\"review\":\"The attention to detail ExpressWay Logistics puts into packaging materials is truly remarkable. When I received my shipment, I was impressed by the sturdy and secure packaging that ensured the safety of my items during transit. Their use of high-quality materials not only protected my goods from damage but also reflected their commitment to delivering a superior shipping experience. With ExpressWay Logistics, I can trust that my packages will be handled with care from start to finish.\",\"sentiment\":\"Positive\"},{\"review\":\"ExpressWay Logistics\\' incompetence resulted in a major inconvenience when my package was delivered to the wrong recipient. Despite providing accurate delivery information, the package ended up in the hands of someone else, and efforts to retrieve it were unsuccessful. When I contacted customer service for assistance, I was met with apathy and a lack of urgency. Their failure to rectify the situation in a timely manner is unacceptable, and I will be avoiding their services at all costs.\",\"sentiment\":\"Negative\"},{\"review\":\"ExpressWay Logistics failed to meet my expectations. The delivery was delayed, and the packaging was damaged, resulting in the loss of valuable items.I suffered a lot and will definitely not be a repeat customer.\",\"sentiment\":\"Negative\"},{\"review\":\"ExpressWay Logistics\\' delivery drivers have repeatedly left packages in unsafe and unsecured locations, putting them at risk of theft or damage. Despite specific instructions to leave packages in a designated area, they have ignored these requests and left them exposed to the elements or in plain view of passersby. The lack of professionalism and regard for customer property from ExpressWay Logistics\\' drivers is unacceptable, and I\\'m deeply disappointed by their disregard for basic security protocols.\",\"sentiment\":\"Negative\"},{\"review\":\"ExpressWay Logistics seamlessly manages the complexities of international shipping, making it easy for businesses like mine to expand globally. Their expertise in navigating customs regulations and optimizing shipping routes has saved us time and money. With ExpressWay Logistics, we can confidently serve customers around the world, knowing that our shipments are in capable hands.\",\"sentiment\":\"Positive\"}]'"
            ]
          },
          "execution_count": 16,
          "metadata": {},
          "output_type": "execute_result"
        }
      ],
      "source": [
        "gold_examples"
      ]
    },
    {
      "cell_type": "code",
      "execution_count": 17,
      "metadata": {
        "colab": {
          "base_uri": "https://localhost:8080/"
        },
        "id": "r8J58KMMM95s",
        "outputId": "50d72cc3-6bf6-456a-827c-1cd4411de322"
      },
      "outputs": [
        {
          "data": {
            "text/plain": [
              "{'review': 'I was impressed by the speed of delivery offered by ExpressWay Logistics, as my package arrived sooner than expected. The prompt service exceeded my expectations and demonstrated their commitment to timely deliveries.However, upon receiving the package, I discovered that an item was missing from the shipment. Despite contacting customer service to address the issue, I encountered difficulty in obtaining a resolution, leaving me dissatisfied with the overall experience.',\n",
              " 'sentiment': 'Negative'}"
            ]
          },
          "execution_count": 17,
          "metadata": {},
          "output_type": "execute_result"
        }
      ],
      "source": [
        "json.loads(gold_examples)[0]     #Json format"
      ]
    },
    {
      "cell_type": "markdown",
      "metadata": {
        "id": "ZPsU-h8FPaht"
      },
      "source": [
        "##**Step 3: Derive Prompt (12 Marks)**\n",
        "\n",
        "(A) Write Zero Shot System Message (3 Marks)\n",
        "\n",
        "(B) Create Zero Shot Prompt (2 Marks)\n",
        "\n",
        "(C) Write Few Shot System Message (3 Marks)\n",
        "\n",
        "(D) Create Examples For Few shot prompte (2 Marks)\n",
        "\n",
        "(E) Create Few Shot Prompt (2 Marks)"
      ]
    },
    {
      "cell_type": "code",
      "execution_count": 18,
      "metadata": {
        "id": "NfDUKbCgPahu"
      },
      "outputs": [],
      "source": [
        "user_message_template = \"\"\"```{courier_service_review}```\"\"\""
      ]
    },
    {
      "cell_type": "markdown",
      "metadata": {
        "id": "X3uS8NWfNqBG"
      },
      "source": [
        "**(A) Write Zero Shot System Message (3 Marks)**"
      ]
    },
    {
      "cell_type": "code",
      "execution_count": 44,
      "metadata": {
        "id": "J79_IaxHJdY2"
      },
      "outputs": [],
      "source": [
        "zero_shot_system_message = \"\"\"You are customer review sentiment classifier assistant. You will be provided with a customer review. Each review will be enclosed by triple backticks.\n",
        "You need to read the review and then classify it into one of the below 2 types: \n",
        "A) 'Positive'\n",
        "B) 'Negative'\n",
        "Classify the review in the above 2 sentiments only. DO NOT use any other sentiment. Sentiments like Neutral and Mixed are Unacceptable.\n",
        "If the review contains both positive and negative sentiment, still classify into one of them and this will be our FINAL SENTIMENT. Now this FINAL SENTIMENT should be the output.\n",
        "These 2 sentiments - 'Positive' and 'Negative' are the only acceptable answeres.\n",
        "Compulsary - Answer should only contain one word mentioning FINAL SENTIMENT - either 'Positive' or 'Negative'. DO NOT Explain your answer.\n",
        "I Repeat, unacceptable responses - Neutral and Mixed. Every review is compulsary to be only and only 'Positive' or 'Negative'\n",
        "\"\"\"\n",
        "# Write zero shot system message here"
      ]
    },
    {
      "cell_type": "markdown",
      "metadata": {
        "id": "46AWalvrLTxs"
      },
      "source": [
        "**(B) Create Zero Shot Prompt (2 Marks)**"
      ]
    },
    {
      "cell_type": "code",
      "execution_count": 45,
      "metadata": {
        "id": "t8cjNjiJJpzc"
      },
      "outputs": [],
      "source": [
        "zero_shot_prompt = [{'role':'system', 'content': zero_shot_system_message}]\n",
        "# Create zero shot prompt to be input ready for completion function"
      ]
    },
    {
      "cell_type": "code",
      "execution_count": 46,
      "metadata": {},
      "outputs": [
        {
          "data": {
            "text/plain": [
              "id                                                           1\n",
              "review       ExpressWay Logistics' commitment to transparen...\n",
              "sentiment                                             Positive\n",
              "Name: 0, dtype: object"
            ]
          },
          "execution_count": 46,
          "metadata": {},
          "output_type": "execute_result"
        }
      ],
      "source": [
        "cs_reviews_df.iloc[0,:]"
      ]
    },
    {
      "cell_type": "code",
      "execution_count": 48,
      "metadata": {},
      "outputs": [],
      "source": [
        "input_description = cs_reviews_df.iloc[0,0]\n",
        "\n",
        "user_input = [\n",
        "    {\n",
        "        'role':'user',\n",
        "        'content': user_message_template.format(courier_service_review = input_description)\n",
        "    }\n",
        "]"
      ]
    },
    {
      "cell_type": "code",
      "execution_count": 35,
      "metadata": {},
      "outputs": [
        {
          "data": {
            "text/plain": [
              "203"
            ]
          },
          "execution_count": 35,
          "metadata": {},
          "output_type": "execute_result"
        }
      ],
      "source": [
        "num_tokens_from_messages(zero_shot_prompt)"
      ]
    },
    {
      "cell_type": "markdown",
      "metadata": {
        "id": "48bF42gAyQ7Q"
      },
      "source": [
        "**(C) Write Few Shot System Message (3 Marks)**"
      ]
    },
    {
      "cell_type": "code",
      "execution_count": 36,
      "metadata": {
        "id": "2nrW4jzGLdce"
      },
      "outputs": [],
      "source": [
        "few_shot_system_message = \"\"\"You are customer review sentiment classifier assistant. You will be provided with a customer review. Each review will be enclosed by triple backticks.\n",
        "You need to read the review and then classify it into one of the below 2 types: \n",
        "A) 'Positive'\n",
        "B) 'Negative'\n",
        "Classify the review in the above 2 sentiments only. DO NOT use any other sentiment. Sentiments like Neutral and Mixed are Unacceptable.\n",
        "If the review contains both positive and negative sentiment, still classify into one of them and this will be our FINAL SENTIMENT. Now this FINAL SENTIMENT should be the output.\n",
        "These 2 sentiments - 'Positive' and 'Negative' are the only acceptable answeres.\n",
        "Compulsary - Answer should only contain one word mentioning FINAL SENTIMENT - either 'Positive' or 'Negative'. DO NOT Explain your answer.\n",
        "I Repeat, unacceptable responses - Neutral and Mixed. Every review is compulsary to be only and only 'Positive' or 'Negative'\n",
        "\"\"\""
      ]
    },
    {
      "cell_type": "markdown",
      "metadata": {
        "id": "d3ExNtgPRDhJ"
      },
      "source": [
        "Merely selecting random samples from the polarity subsets is not enough because the examples included in a prompt are prone to a set of known biases such as:\n",
        " - Majority label bias (frequent answers in predictions)\n",
        " - Recency bias (examples near the end of the prompt)\n"
      ]
    },
    {
      "cell_type": "markdown",
      "metadata": {
        "id": "bEA_Ab2FRrYB"
      },
      "source": [
        "To avoid these biases, it is important to have a balanced set of examples that are arranged in random order. Let us create a Python function that generates bias-free examples:"
      ]
    },
    {
      "cell_type": "code",
      "execution_count": 37,
      "metadata": {
        "id": "Qb0mLtE9R7ZA"
      },
      "outputs": [],
      "source": [
        "def create_examples(dataset, n=4):\n",
        "\n",
        "    \"\"\"\n",
        "    Return a JSON list of randomized examples of size 2n with two classes.\n",
        "    Create subsets of each class, choose random samples from the subsets,\n",
        "    merge and randomize the order of samples in the merged list.\n",
        "    Each run of this function creates a different random sample of examples\n",
        "    chosen from the training data.\n",
        "\n",
        "    Args:\n",
        "        dataset (DataFrame): A DataFrame with examples (review + label)\n",
        "        n (int): number of examples of each class to be selected\n",
        "\n",
        "    Output:\n",
        "        randomized_examples (JSON): A JSON with examples in random order\n",
        "    \"\"\"\n",
        "\n",
        "    positive_reviews = (dataset.sentiment == 'Positive')\n",
        "    negative_reviews = (dataset.sentiment == 'Negative')\n",
        "    columns_to_select = ['review', 'sentiment']\n",
        "\n",
        "    positive_examples = dataset.loc[positive_reviews, columns_to_select].sample(n)\n",
        "    negative_examples = dataset.loc[negative_reviews, columns_to_select].sample(n)\n",
        "\n",
        "    examples = pd.concat([positive_examples, negative_examples])\n",
        "\n",
        "    # sampling without replacement is equivalent to random shuffling\n",
        "\n",
        "    randomized_examples = examples.sample(2*n, replace=False)\n",
        "\n",
        "    return randomized_examples.to_json(orient='records')"
      ]
    },
    {
      "cell_type": "markdown",
      "metadata": {
        "id": "vHhPExVTyO93"
      },
      "source": [
        "**(D) Create Examples For Few shot prompte (2 Marks)**"
      ]
    },
    {
      "cell_type": "code",
      "execution_count": 26,
      "metadata": {
        "id": "jb1VpSgZPaht"
      },
      "outputs": [],
      "source": [
        "examples = create_examples(cs_examples_df,2)\n",
        "# Create Examples"
      ]
    },
    {
      "cell_type": "code",
      "execution_count": 27,
      "metadata": {},
      "outputs": [
        {
          "data": {
            "text/plain": [
              "[{'review': \"I was initially impressed by ExpressWay Logistics' promise of reliability and affordability, but my recent encounters have been less than satisfactory. Their website is so irritating and their drivers are too harsh, the repeated delays in delivery have been frustrating. Additionally, the discovery of hidden fees within their pricing structure has left me feeling misled. In addition to these challenges, their customer service team has been inattentive and disrespectful, which has degraded the overall experience.Not at all recommend! \",\n",
              "  'sentiment': 'Negative'},\n",
              " {'review': \"ExpressWay Logistics' customer service representatives are polite but lack the authority to resolve issues effectively. Dealing with them feels like hitting a dead end, with problems often left unresolved.\",\n",
              "  'sentiment': 'Negative'},\n",
              " {'review': \"I had a sensitive legal document that needed to be delivered to a client across the country, and ExpressWay Logistics' secure courier service ensured that it reached its destination confidentially and on time. Their commitment to confidentiality and professionalism exceeded my expectations.\",\n",
              "  'sentiment': 'Positive'},\n",
              " {'review': 'The tracking system used by ExpressWay Logistics is too reliable, providing accurate updates on the status of my parcels throughout the delivery process.I am impressed with their efforts to provide such excellent services inspite of many challenges!',\n",
              "  'sentiment': 'Positive'}]"
            ]
          },
          "execution_count": 27,
          "metadata": {},
          "output_type": "execute_result"
        }
      ],
      "source": [
        "json.loads(examples)"
      ]
    },
    {
      "cell_type": "markdown",
      "metadata": {
        "id": "PEnNkOzJSwTk"
      },
      "source": [
        "With the examples in place, we can now assemble a few-shot prompt. Since we will be using the few-shot prompt several times during evaluation, let us write a function to create a few-shot prompt (the logic of this function is depicted below)."
      ]
    },
    {
      "cell_type": "code",
      "execution_count": 38,
      "metadata": {
        "id": "mFK2WQOgS8ey"
      },
      "outputs": [],
      "source": [
        "def create_prompt(system_message, examples, user_message_template):\n",
        "\n",
        "    \"\"\"\n",
        "    Return a prompt message in the format expected by the Open AI API.\n",
        "    Loop through the examples and parse them as user message and assistant\n",
        "    message.\n",
        "\n",
        "    Args:\n",
        "        system_message (str): system message with instructions for sentiment analysis\n",
        "        examples (str): JSON string with list of examples\n",
        "        user_message_template (str): string with a placeholder for courier service reviews\n",
        "\n",
        "    Output:\n",
        "        few_shot_prompt (List): A list of dictionaries in the Open AI prompt format\n",
        "    \"\"\"\n",
        "\n",
        "    few_shot_prompt = [{'role':'system', 'content': system_message}]\n",
        "\n",
        "    for example in json.loads(examples):\n",
        "        example_review = example['review']\n",
        "        example_sentiment = example['sentiment']\n",
        "\n",
        "        few_shot_prompt.append(\n",
        "            {\n",
        "                'role': 'user',\n",
        "                'content': user_message_template.format(\n",
        "                    courier_service_review=example_review\n",
        "                )\n",
        "            }\n",
        "        )\n",
        "\n",
        "        few_shot_prompt.append(\n",
        "            {'role': 'assistant', 'content': f\"{example_sentiment}\"}\n",
        "        )\n",
        "\n",
        "    return few_shot_prompt"
      ]
    },
    {
      "cell_type": "markdown",
      "metadata": {
        "id": "5YN0Zt1dyZ3X"
      },
      "source": [
        "**(E) Create Few Shot Prompt (2 Marks)**"
      ]
    },
    {
      "cell_type": "code",
      "execution_count": 39,
      "metadata": {
        "id": "QoO1lCFtTBUV"
      },
      "outputs": [],
      "source": [
        "few_shot_prompt = create_prompt(few_shot_system_message,\n",
        "    examples,\n",
        "    user_message_template\n",
        "    )\n",
        "# Create Few shot prompt"
      ]
    },
    {
      "cell_type": "code",
      "execution_count": 40,
      "metadata": {},
      "outputs": [
        {
          "data": {
            "text/plain": [
              "[{'role': 'system',\n",
              "  'content': \"You are customer review sentiment classifier assistant. You will be provided with a customer review. Each review will be enclosed by triple backticks.\\nYou need to read the review and then classify it into one of the below 2 types: \\nA) 'Positive'\\nB) 'Negative'\\nClassify the review in the above 2 sentiments only. DO NOT use any other sentiment. Sentiments like Neutral and Mixed are Unacceptable.\\nIf the review contains both positive and negative sentiment, still classify into one of them and this will be our FINAL SENTIMENT. Now this FINAL SENTIMENT should be the output.\\nThese 2 sentiments - 'Positive' and 'Negative' are the only acceptable answeres.\\nCompulsary - Answer should only contain one word mentioning FINAL SENTIMENT - either 'Positive' or 'Negative'. DO NOT Explain your answer.\\nI Repeat, unacceptable responses - Neutral and Mixed. Every review is compulsary to be only and only 'Positive' or 'Negative'\\n\"},\n",
              " {'role': 'user',\n",
              "  'content': \"```I was initially impressed by ExpressWay Logistics' promise of reliability and affordability, but my recent encounters have been less than satisfactory. Their website is so irritating and their drivers are too harsh, the repeated delays in delivery have been frustrating. Additionally, the discovery of hidden fees within their pricing structure has left me feeling misled. In addition to these challenges, their customer service team has been inattentive and disrespectful, which has degraded the overall experience.Not at all recommend! ```\"},\n",
              " {'role': 'assistant', 'content': 'Negative'},\n",
              " {'role': 'user',\n",
              "  'content': \"```ExpressWay Logistics' customer service representatives are polite but lack the authority to resolve issues effectively. Dealing with them feels like hitting a dead end, with problems often left unresolved.```\"},\n",
              " {'role': 'assistant', 'content': 'Negative'},\n",
              " {'role': 'user',\n",
              "  'content': \"```I had a sensitive legal document that needed to be delivered to a client across the country, and ExpressWay Logistics' secure courier service ensured that it reached its destination confidentially and on time. Their commitment to confidentiality and professionalism exceeded my expectations.```\"},\n",
              " {'role': 'assistant', 'content': 'Positive'},\n",
              " {'role': 'user',\n",
              "  'content': '```The tracking system used by ExpressWay Logistics is too reliable, providing accurate updates on the status of my parcels throughout the delivery process.I am impressed with their efforts to provide such excellent services inspite of many challenges!```'},\n",
              " {'role': 'assistant', 'content': 'Positive'}]"
            ]
          },
          "execution_count": 40,
          "metadata": {},
          "output_type": "execute_result"
        }
      ],
      "source": [
        "few_shot_prompt"
      ]
    },
    {
      "cell_type": "code",
      "execution_count": 41,
      "metadata": {
        "colab": {
          "base_uri": "https://localhost:8080/"
        },
        "id": "ItFH6zLJMnb9",
        "outputId": "da60acbc-bd6a-421f-cf28-0056f2b5c8ac"
      },
      "outputs": [
        {
          "data": {
            "text/plain": [
              "465"
            ]
          },
          "execution_count": 41,
          "metadata": {},
          "output_type": "execute_result"
        }
      ],
      "source": [
        "num_tokens_from_messages(few_shot_prompt)"
      ]
    },
    {
      "cell_type": "markdown",
      "metadata": {
        "id": "mcI8oyIcPfPW"
      },
      "source": [
        "##**Step 4: Evaluate prompts (8 Marks)**\n",
        "\n",
        "(A) Evaluate Zero Shot Prompt (2 Marks)\n",
        "\n",
        "(B) Evaluate Few Shot Prompt (2 marks)\n",
        "\n",
        "(C) Calculate Mean and Standard Deviation for Zero Shot Prompt and Few Shot Prompt (4 Marks)"
      ]
    },
    {
      "cell_type": "markdown",
      "metadata": {
        "id": "2BWfjbiFUCSp"
      },
      "source": [
        "Now we have two sets of prompts that we need to evaluate using gold labels. Since the few-shot prompt depends on the sample of examples that was drawn to make up the prompt, we expect some variability in evaluation. Hence, we evaluate each prompt multiple times to get a sense of the average and the variation around the average.\n",
        "\n",
        "To reiterate, a choice on the prompt should account for variability due to the choice of the random sample. To aid repeated evaluation, we assemble an evaluation function ."
      ]
    },
    {
      "cell_type": "code",
      "execution_count": 75,
      "metadata": {
        "id": "yWpWWcLAzgGY"
      },
      "outputs": [],
      "source": [
        "def evaluate_prompt(prompt, gold_examples, user_message_template):\n",
        "\n",
        "    \"\"\"\n",
        "    Return the micro-F1 score for predictions on gold examples.\n",
        "    For each example, we make a prediction using the prompt. Gold labels and\n",
        "    model predictions are aggregated into lists and compared to compute the\n",
        "    F1 score.\n",
        "\n",
        "    Args:\n",
        "        prompt (List): list of messages in the Open AI prompt format\n",
        "        gold_examples (str): JSON string with list of gold examples\n",
        "        user_message_template (str): string with a placeholder for courier service review\n",
        "\n",
        "    Output:\n",
        "        micro_f1_score (float): Micro-F1 score computed by comparing model predictions\n",
        "                                with ground truth\n",
        "    \"\"\"\n",
        "\n",
        "    model_predictions, ground_truths, review_texts = [], [], []\n",
        "\n",
        "    for example in json.loads(gold_examples):\n",
        "        gold_input = example['review']\n",
        "        user_input = [\n",
        "            {\n",
        "                'role':'user',\n",
        "                'content': user_message_template.format(courier_service_review=gold_input)\n",
        "            }\n",
        "        ]\n",
        "\n",
        "        try:\n",
        "            response = client.chat.completions.create(\n",
        "                model=chat_model_id,\n",
        "                messages=prompt+user_input,\n",
        "                temperature=0, # <- Note the low temperature (For a deterministic response)\n",
        "                max_tokens=2 # <- Note how we restrict the output to not more than 2 tokens\n",
        "            )\n",
        "\n",
        "            prediction = response.choices[0].message.content\n",
        "            # response = openai.ChatCompletion.create(\n",
        "            #     deployment_id=chat_model_id,\n",
        "            #     messages=prompt+user_input,\n",
        "            #     temperature=0, # <- Note the low temperature(For a deterministic response)\n",
        "            #     # max_tokens=2 # <- Note how we restrict the output to not more than 2 tokens\n",
        "            # )\n",
        "\n",
        "            # prediction = response['choices'][0]['message']['content']\n",
        "            model_predictions.append(prediction.strip()) # <- removes extraneous white spaces\n",
        "            ground_truths.append(example['sentiment'])\n",
        "            review_texts.append(gold_input)\n",
        "\n",
        "        except Exception as e:\n",
        "            continue\n",
        "\n",
        "    micro_f1_score = f1_score(ground_truths, model_predictions, average=\"micro\")\n",
        "\n",
        "    table_data = [[text, pred, truth] for text, pred, truth in zip(review_texts, model_predictions, ground_truths)]\n",
        "    headers = [\"Review\", \"Model Prediction\", \"Ground Truth\"]\n",
        "    print(tabulate(table_data, headers=headers, tablefmt=\"grid\"))\n",
        "\n",
        "    return micro_f1_score\n"
      ]
    },
    {
      "cell_type": "markdown",
      "metadata": {
        "id": "XpmEiVPIZUBl",
        "nteract": {
          "transient": {
            "deleting": false
          }
        }
      },
      "source": [
        "**(A) Evaluate zero shot prompt (2 Marks)**"
      ]
    },
    {
      "cell_type": "code",
      "execution_count": 76,
      "metadata": {
        "id": "Kar164F4nd9x"
      },
      "outputs": [
        {
          "name": "stdout",
          "output_type": "stream",
          "text": [
            "+----------------------------------------------------------------------------------------------------------------------------------------------------------------------------------------------------------------------------------------------------------------------------------------------------------------------------------------------------------------------------------------------------------------------------------------------------------------------------------------------------------------------------+--------------------+----------------+\n",
            "| Review                                                                                                                                                                                                                                                                                                                                                                                                                                                                                                                     | Model Prediction   | Ground Truth   |\n",
            "+============================================================================================================================================================================================================================================================================================================================================================================================================================================================================================================================+====================+================+\n",
            "| I was impressed by the speed of delivery offered by ExpressWay Logistics, as my package arrived sooner than expected. The prompt service exceeded my expectations and demonstrated their commitment to timely deliveries.However, upon receiving the package, I discovered that an item was missing from the shipment. Despite contacting customer service to address the issue, I encountered difficulty in obtaining a resolution, leaving me dissatisfied with the overall experience.                                  | Negative           | Negative       |\n",
            "+----------------------------------------------------------------------------------------------------------------------------------------------------------------------------------------------------------------------------------------------------------------------------------------------------------------------------------------------------------------------------------------------------------------------------------------------------------------------------------------------------------------------------+--------------------+----------------+\n",
            "| I was promised to be updated with courier partner's contact details.Nothing happened as said and I faced difficulty finding the contact details and keep a track of my goods.I was scared if I was scammed and thought of raising a support ticket but ended up with a frustrating experience as there was no platform to do so.                                                                                                                                                                                           | Negative           | Negative       |\n",
            "+----------------------------------------------------------------------------------------------------------------------------------------------------------------------------------------------------------------------------------------------------------------------------------------------------------------------------------------------------------------------------------------------------------------------------------------------------------------------------------------------------------------------------+--------------------+----------------+\n",
            "| ExpressWay Logistics' proactive approach to problem-solving sets them apart from other logistics providers. They anticipate potential issues and take proactive steps to mitigate them, ensuring that our shipments arrive on time and in perfect condition. With ExpressWay Logistics, we have a partner we can rely on, no matter what challenges arise.                                                                                                                                                                 | Positive           | Positive       |\n",
            "+----------------------------------------------------------------------------------------------------------------------------------------------------------------------------------------------------------------------------------------------------------------------------------------------------------------------------------------------------------------------------------------------------------------------------------------------------------------------------------------------------------------------------+--------------------+----------------+\n",
            "| What I love most about ExpressWay Logistics is their seamless communication. Whether it's providing updates on the status of my shipment or addressing any concerns I may have, they always keep me informed every step of the way.                                                                                                                                                                                                                                                                                        | Positive           | Positive       |\n",
            "+----------------------------------------------------------------------------------------------------------------------------------------------------------------------------------------------------------------------------------------------------------------------------------------------------------------------------------------------------------------------------------------------------------------------------------------------------------------------------------------------------------------------------+--------------------+----------------+\n",
            "| ExpressWay Logistics' lack of attention to detail is concerning. Simple requests like fragile handling instructions are frequently ignored, resulting in damaged goods upon arrival. It's unacceptable.                                                                                                                                                                                                                                                                                                                    | Negative           | Negative       |\n",
            "+----------------------------------------------------------------------------------------------------------------------------------------------------------------------------------------------------------------------------------------------------------------------------------------------------------------------------------------------------------------------------------------------------------------------------------------------------------------------------------------------------------------------------+--------------------+----------------+\n",
            "| I had a last-minute change to my shipping address, and I was worried it would cause delays. However, ExpressWay Logistics quickly updated the information and ensured that my package arrived at the new location on time.                                                                                                                                                                                                                                                                                                 | Positive           | Positive       |\n",
            "+----------------------------------------------------------------------------------------------------------------------------------------------------------------------------------------------------------------------------------------------------------------------------------------------------------------------------------------------------------------------------------------------------------------------------------------------------------------------------------------------------------------------------+--------------------+----------------+\n",
            "| The customer support team at ExpressWay Logistics was unprofessional and unhelpful when I contacted them regarding a missing parcel. I was left feeling frustrated and disappointed.                                                                                                                                                                                                                                                                                                                                       | Negative           | Negative       |\n",
            "+----------------------------------------------------------------------------------------------------------------------------------------------------------------------------------------------------------------------------------------------------------------------------------------------------------------------------------------------------------------------------------------------------------------------------------------------------------------------------------------------------------------------------+--------------------+----------------+\n",
            "| ExpressWay Logistics is unreliable and untrustworthy. They failed to deliver my parcel on time, and the customer support team was unapologetic and unwilling to assist me in resolving the issue.                                                                                                                                                                                                                                                                                                                          | Negative           | Negative       |\n",
            "+----------------------------------------------------------------------------------------------------------------------------------------------------------------------------------------------------------------------------------------------------------------------------------------------------------------------------------------------------------------------------------------------------------------------------------------------------------------------------------------------------------------------------+--------------------+----------------+\n",
            "| When it comes to packaging materials, ExpressWay Logistics prioritizes quality and durability. I was impressed by the sturdy packaging used to protect my items during transit. Their attention to detail in selecting the right materials for each package ensured that my goods arrived in perfect condition. With ExpressWay Logistics, I can trust that my shipments will be handled with care and arrive safely at their destination.                                                                                 | Positive           | Positive       |\n",
            "+----------------------------------------------------------------------------------------------------------------------------------------------------------------------------------------------------------------------------------------------------------------------------------------------------------------------------------------------------------------------------------------------------------------------------------------------------------------------------------------------------------------------------+--------------------+----------------+\n",
            "| I appreciate the attention to detail that ExpressWay Logistics puts into every aspect of their service, from packaging to delivery to customer support and the promised door to door deliveries.Overall a satisfied service!                                                                                                                                                                                                                                                                                               | Positive           | Positive       |\n",
            "+----------------------------------------------------------------------------------------------------------------------------------------------------------------------------------------------------------------------------------------------------------------------------------------------------------------------------------------------------------------------------------------------------------------------------------------------------------------------------------------------------------------------------+--------------------+----------------+\n",
            "| ExpressWay Logistics' delivery drivers seem to have no regard for punctuality. Despite paying for expedited shipping, my packages are consistently delayed, causing major inconvenience. It's time for them to step up their game.                                                                                                                                                                                                                                                                                         | Negative           | Negative       |\n",
            "+----------------------------------------------------------------------------------------------------------------------------------------------------------------------------------------------------------------------------------------------------------------------------------------------------------------------------------------------------------------------------------------------------------------------------------------------------------------------------------------------------------------------------+--------------------+----------------+\n",
            "| The customer support team at ExpressWay Logistics was unprofessional and unhelpful when I contacted them regarding a missing parcel. I was left feeling frustrated and disappointed as the support team communicated with me that all the items were delivered to me and blamed me for claiming for missing items.                                                                                                                                                                                                         | Negative           | Negative       |\n",
            "+----------------------------------------------------------------------------------------------------------------------------------------------------------------------------------------------------------------------------------------------------------------------------------------------------------------------------------------------------------------------------------------------------------------------------------------------------------------------------------------------------------------------------+--------------------+----------------+\n",
            "| I am extremely disappointed with the service provided by ExpressWay Logistics. My parcel was delivered late, and the packaging was damaged, resulting in the loss of valuable items.                                                                                                                                                                                                                                                                                                                                       | Negative           | Negative       |\n",
            "+----------------------------------------------------------------------------------------------------------------------------------------------------------------------------------------------------------------------------------------------------------------------------------------------------------------------------------------------------------------------------------------------------------------------------------------------------------------------------------------------------------------------------+--------------------+----------------+\n",
            "| As a frequent traveler, I often use ExpressWay Logistics to ship luggage and personal belongings ahead of time. Their door-to-door service and reliable tracking make traveling a breeze.                                                                                                                                                                                                                                                                                                                                  | Positive           | Positive       |\n",
            "+----------------------------------------------------------------------------------------------------------------------------------------------------------------------------------------------------------------------------------------------------------------------------------------------------------------------------------------------------------------------------------------------------------------------------------------------------------------------------------------------------------------------------+--------------------+----------------+\n",
            "| I've been using ExpressWay Logistics for years, but lately, their service quality has declined significantly. Late deliveries and poor communication have become the norm, making me reconsider my loyalty to this company.I am dissatisfied by this level of service provided.Cannot trust again..Overall a disappointed customer!                                                                                                                                                                                        | Negative           | Negative       |\n",
            "+----------------------------------------------------------------------------------------------------------------------------------------------------------------------------------------------------------------------------------------------------------------------------------------------------------------------------------------------------------------------------------------------------------------------------------------------------------------------------------------------------------------------------+--------------------+----------------+\n",
            "| ExpressWay Logistics is my go-to for all my shipping needs. Whether it's a small package or a large shipment, they always deliver on time and with a smile. Thanks for the great service, ExpressWay Logistics!                                                                                                                                                                                                                                                                                                            | Positive           | Positive       |\n",
            "+----------------------------------------------------------------------------------------------------------------------------------------------------------------------------------------------------------------------------------------------------------------------------------------------------------------------------------------------------------------------------------------------------------------------------------------------------------------------------------------------------------------------------+--------------------+----------------+\n",
            "| The attention to detail ExpressWay Logistics puts into packaging materials is truly remarkable. When I received my shipment, I was impressed by the sturdy and secure packaging that ensured the safety of my items during transit. Their use of high-quality materials not only protected my goods from damage but also reflected their commitment to delivering a superior shipping experience. With ExpressWay Logistics, I can trust that my packages will be handled with care from start to finish.                  | Positive           | Positive       |\n",
            "+----------------------------------------------------------------------------------------------------------------------------------------------------------------------------------------------------------------------------------------------------------------------------------------------------------------------------------------------------------------------------------------------------------------------------------------------------------------------------------------------------------------------------+--------------------+----------------+\n",
            "| ExpressWay Logistics' incompetence resulted in a major inconvenience when my package was delivered to the wrong recipient. Despite providing accurate delivery information, the package ended up in the hands of someone else, and efforts to retrieve it were unsuccessful. When I contacted customer service for assistance, I was met with apathy and a lack of urgency. Their failure to rectify the situation in a timely manner is unacceptable, and I will be avoiding their services at all costs.                 | Negative           | Negative       |\n",
            "+----------------------------------------------------------------------------------------------------------------------------------------------------------------------------------------------------------------------------------------------------------------------------------------------------------------------------------------------------------------------------------------------------------------------------------------------------------------------------------------------------------------------------+--------------------+----------------+\n",
            "| ExpressWay Logistics failed to meet my expectations. The delivery was delayed, and the packaging was damaged, resulting in the loss of valuable items.I suffered a lot and will definitely not be a repeat customer.                                                                                                                                                                                                                                                                                                       | Negative           | Negative       |\n",
            "+----------------------------------------------------------------------------------------------------------------------------------------------------------------------------------------------------------------------------------------------------------------------------------------------------------------------------------------------------------------------------------------------------------------------------------------------------------------------------------------------------------------------------+--------------------+----------------+\n",
            "| ExpressWay Logistics' delivery drivers have repeatedly left packages in unsafe and unsecured locations, putting them at risk of theft or damage. Despite specific instructions to leave packages in a designated area, they have ignored these requests and left them exposed to the elements or in plain view of passersby. The lack of professionalism and regard for customer property from ExpressWay Logistics' drivers is unacceptable, and I'm deeply disappointed by their disregard for basic security protocols. | Negative           | Negative       |\n",
            "+----------------------------------------------------------------------------------------------------------------------------------------------------------------------------------------------------------------------------------------------------------------------------------------------------------------------------------------------------------------------------------------------------------------------------------------------------------------------------------------------------------------------------+--------------------+----------------+\n",
            "| ExpressWay Logistics seamlessly manages the complexities of international shipping, making it easy for businesses like mine to expand globally. Their expertise in navigating customs regulations and optimizing shipping routes has saved us time and money. With ExpressWay Logistics, we can confidently serve customers around the world, knowing that our shipments are in capable hands.                                                                                                                             | Positive           | Positive       |\n",
            "+----------------------------------------------------------------------------------------------------------------------------------------------------------------------------------------------------------------------------------------------------------------------------------------------------------------------------------------------------------------------------------------------------------------------------------------------------------------------------------------------------------------------------+--------------------+----------------+\n"
          ]
        },
        {
          "data": {
            "text/plain": [
              "1.0"
            ]
          },
          "execution_count": 76,
          "metadata": {},
          "output_type": "execute_result"
        }
      ],
      "source": [
        "evaluate_prompt(zero_shot_prompt, gold_examples, user_message_template)"
      ]
    },
    {
      "cell_type": "markdown",
      "metadata": {
        "id": "ya73XdatZUBl",
        "nteract": {
          "transient": {
            "deleting": false
          }
        }
      },
      "source": [
        "**(B) Evaluate few shot prompt (2 Marks)**"
      ]
    },
    {
      "cell_type": "code",
      "execution_count": 77,
      "metadata": {
        "id": "tqQTgKUkZUBl",
        "jupyter": {
          "outputs_hidden": false,
          "source_hidden": false
        },
        "nteract": {
          "transient": {
            "deleting": false
          }
        }
      },
      "outputs": [
        {
          "name": "stdout",
          "output_type": "stream",
          "text": [
            "+----------------------------------------------------------------------------------------------------------------------------------------------------------------------------------------------------------------------------------------------------------------------------------------------------------------------------------------------------------------------------------------------------------------------------------------------------------------------------------------------------------------------------+--------------------+----------------+\n",
            "| Review                                                                                                                                                                                                                                                                                                                                                                                                                                                                                                                     | Model Prediction   | Ground Truth   |\n",
            "+============================================================================================================================================================================================================================================================================================================================================================================================================================================================================================================================+====================+================+\n",
            "| I was impressed by the speed of delivery offered by ExpressWay Logistics, as my package arrived sooner than expected. The prompt service exceeded my expectations and demonstrated their commitment to timely deliveries.However, upon receiving the package, I discovered that an item was missing from the shipment. Despite contacting customer service to address the issue, I encountered difficulty in obtaining a resolution, leaving me dissatisfied with the overall experience.                                  | Negative           | Negative       |\n",
            "+----------------------------------------------------------------------------------------------------------------------------------------------------------------------------------------------------------------------------------------------------------------------------------------------------------------------------------------------------------------------------------------------------------------------------------------------------------------------------------------------------------------------------+--------------------+----------------+\n",
            "| I was promised to be updated with courier partner's contact details.Nothing happened as said and I faced difficulty finding the contact details and keep a track of my goods.I was scared if I was scammed and thought of raising a support ticket but ended up with a frustrating experience as there was no platform to do so.                                                                                                                                                                                           | Negative           | Negative       |\n",
            "+----------------------------------------------------------------------------------------------------------------------------------------------------------------------------------------------------------------------------------------------------------------------------------------------------------------------------------------------------------------------------------------------------------------------------------------------------------------------------------------------------------------------------+--------------------+----------------+\n",
            "| ExpressWay Logistics' proactive approach to problem-solving sets them apart from other logistics providers. They anticipate potential issues and take proactive steps to mitigate them, ensuring that our shipments arrive on time and in perfect condition. With ExpressWay Logistics, we have a partner we can rely on, no matter what challenges arise.                                                                                                                                                                 | Positive           | Positive       |\n",
            "+----------------------------------------------------------------------------------------------------------------------------------------------------------------------------------------------------------------------------------------------------------------------------------------------------------------------------------------------------------------------------------------------------------------------------------------------------------------------------------------------------------------------------+--------------------+----------------+\n",
            "| What I love most about ExpressWay Logistics is their seamless communication. Whether it's providing updates on the status of my shipment or addressing any concerns I may have, they always keep me informed every step of the way.                                                                                                                                                                                                                                                                                        | Positive           | Positive       |\n",
            "+----------------------------------------------------------------------------------------------------------------------------------------------------------------------------------------------------------------------------------------------------------------------------------------------------------------------------------------------------------------------------------------------------------------------------------------------------------------------------------------------------------------------------+--------------------+----------------+\n",
            "| ExpressWay Logistics' lack of attention to detail is concerning. Simple requests like fragile handling instructions are frequently ignored, resulting in damaged goods upon arrival. It's unacceptable.                                                                                                                                                                                                                                                                                                                    | Negative           | Negative       |\n",
            "+----------------------------------------------------------------------------------------------------------------------------------------------------------------------------------------------------------------------------------------------------------------------------------------------------------------------------------------------------------------------------------------------------------------------------------------------------------------------------------------------------------------------------+--------------------+----------------+\n",
            "| I had a last-minute change to my shipping address, and I was worried it would cause delays. However, ExpressWay Logistics quickly updated the information and ensured that my package arrived at the new location on time.                                                                                                                                                                                                                                                                                                 | Positive           | Positive       |\n",
            "+----------------------------------------------------------------------------------------------------------------------------------------------------------------------------------------------------------------------------------------------------------------------------------------------------------------------------------------------------------------------------------------------------------------------------------------------------------------------------------------------------------------------------+--------------------+----------------+\n",
            "| The customer support team at ExpressWay Logistics was unprofessional and unhelpful when I contacted them regarding a missing parcel. I was left feeling frustrated and disappointed.                                                                                                                                                                                                                                                                                                                                       | Negative           | Negative       |\n",
            "+----------------------------------------------------------------------------------------------------------------------------------------------------------------------------------------------------------------------------------------------------------------------------------------------------------------------------------------------------------------------------------------------------------------------------------------------------------------------------------------------------------------------------+--------------------+----------------+\n",
            "| ExpressWay Logistics is unreliable and untrustworthy. They failed to deliver my parcel on time, and the customer support team was unapologetic and unwilling to assist me in resolving the issue.                                                                                                                                                                                                                                                                                                                          | Negative           | Negative       |\n",
            "+----------------------------------------------------------------------------------------------------------------------------------------------------------------------------------------------------------------------------------------------------------------------------------------------------------------------------------------------------------------------------------------------------------------------------------------------------------------------------------------------------------------------------+--------------------+----------------+\n",
            "| When it comes to packaging materials, ExpressWay Logistics prioritizes quality and durability. I was impressed by the sturdy packaging used to protect my items during transit. Their attention to detail in selecting the right materials for each package ensured that my goods arrived in perfect condition. With ExpressWay Logistics, I can trust that my shipments will be handled with care and arrive safely at their destination.                                                                                 | Positive           | Positive       |\n",
            "+----------------------------------------------------------------------------------------------------------------------------------------------------------------------------------------------------------------------------------------------------------------------------------------------------------------------------------------------------------------------------------------------------------------------------------------------------------------------------------------------------------------------------+--------------------+----------------+\n",
            "| I appreciate the attention to detail that ExpressWay Logistics puts into every aspect of their service, from packaging to delivery to customer support and the promised door to door deliveries.Overall a satisfied service!                                                                                                                                                                                                                                                                                               | Positive           | Positive       |\n",
            "+----------------------------------------------------------------------------------------------------------------------------------------------------------------------------------------------------------------------------------------------------------------------------------------------------------------------------------------------------------------------------------------------------------------------------------------------------------------------------------------------------------------------------+--------------------+----------------+\n",
            "| ExpressWay Logistics' delivery drivers seem to have no regard for punctuality. Despite paying for expedited shipping, my packages are consistently delayed, causing major inconvenience. It's time for them to step up their game.                                                                                                                                                                                                                                                                                         | Negative           | Negative       |\n",
            "+----------------------------------------------------------------------------------------------------------------------------------------------------------------------------------------------------------------------------------------------------------------------------------------------------------------------------------------------------------------------------------------------------------------------------------------------------------------------------------------------------------------------------+--------------------+----------------+\n",
            "| The customer support team at ExpressWay Logistics was unprofessional and unhelpful when I contacted them regarding a missing parcel. I was left feeling frustrated and disappointed as the support team communicated with me that all the items were delivered to me and blamed me for claiming for missing items.                                                                                                                                                                                                         | Negative           | Negative       |\n",
            "+----------------------------------------------------------------------------------------------------------------------------------------------------------------------------------------------------------------------------------------------------------------------------------------------------------------------------------------------------------------------------------------------------------------------------------------------------------------------------------------------------------------------------+--------------------+----------------+\n",
            "| I am extremely disappointed with the service provided by ExpressWay Logistics. My parcel was delivered late, and the packaging was damaged, resulting in the loss of valuable items.                                                                                                                                                                                                                                                                                                                                       | Negative           | Negative       |\n",
            "+----------------------------------------------------------------------------------------------------------------------------------------------------------------------------------------------------------------------------------------------------------------------------------------------------------------------------------------------------------------------------------------------------------------------------------------------------------------------------------------------------------------------------+--------------------+----------------+\n",
            "| As a frequent traveler, I often use ExpressWay Logistics to ship luggage and personal belongings ahead of time. Their door-to-door service and reliable tracking make traveling a breeze.                                                                                                                                                                                                                                                                                                                                  | Positive           | Positive       |\n",
            "+----------------------------------------------------------------------------------------------------------------------------------------------------------------------------------------------------------------------------------------------------------------------------------------------------------------------------------------------------------------------------------------------------------------------------------------------------------------------------------------------------------------------------+--------------------+----------------+\n",
            "| I've been using ExpressWay Logistics for years, but lately, their service quality has declined significantly. Late deliveries and poor communication have become the norm, making me reconsider my loyalty to this company.I am dissatisfied by this level of service provided.Cannot trust again..Overall a disappointed customer!                                                                                                                                                                                        | Negative           | Negative       |\n",
            "+----------------------------------------------------------------------------------------------------------------------------------------------------------------------------------------------------------------------------------------------------------------------------------------------------------------------------------------------------------------------------------------------------------------------------------------------------------------------------------------------------------------------------+--------------------+----------------+\n",
            "| ExpressWay Logistics is my go-to for all my shipping needs. Whether it's a small package or a large shipment, they always deliver on time and with a smile. Thanks for the great service, ExpressWay Logistics!                                                                                                                                                                                                                                                                                                            | Positive           | Positive       |\n",
            "+----------------------------------------------------------------------------------------------------------------------------------------------------------------------------------------------------------------------------------------------------------------------------------------------------------------------------------------------------------------------------------------------------------------------------------------------------------------------------------------------------------------------------+--------------------+----------------+\n",
            "| The attention to detail ExpressWay Logistics puts into packaging materials is truly remarkable. When I received my shipment, I was impressed by the sturdy and secure packaging that ensured the safety of my items during transit. Their use of high-quality materials not only protected my goods from damage but also reflected their commitment to delivering a superior shipping experience. With ExpressWay Logistics, I can trust that my packages will be handled with care from start to finish.                  | Positive           | Positive       |\n",
            "+----------------------------------------------------------------------------------------------------------------------------------------------------------------------------------------------------------------------------------------------------------------------------------------------------------------------------------------------------------------------------------------------------------------------------------------------------------------------------------------------------------------------------+--------------------+----------------+\n",
            "| ExpressWay Logistics' incompetence resulted in a major inconvenience when my package was delivered to the wrong recipient. Despite providing accurate delivery information, the package ended up in the hands of someone else, and efforts to retrieve it were unsuccessful. When I contacted customer service for assistance, I was met with apathy and a lack of urgency. Their failure to rectify the situation in a timely manner is unacceptable, and I will be avoiding their services at all costs.                 | Negative           | Negative       |\n",
            "+----------------------------------------------------------------------------------------------------------------------------------------------------------------------------------------------------------------------------------------------------------------------------------------------------------------------------------------------------------------------------------------------------------------------------------------------------------------------------------------------------------------------------+--------------------+----------------+\n",
            "| ExpressWay Logistics failed to meet my expectations. The delivery was delayed, and the packaging was damaged, resulting in the loss of valuable items.I suffered a lot and will definitely not be a repeat customer.                                                                                                                                                                                                                                                                                                       | Negative           | Negative       |\n",
            "+----------------------------------------------------------------------------------------------------------------------------------------------------------------------------------------------------------------------------------------------------------------------------------------------------------------------------------------------------------------------------------------------------------------------------------------------------------------------------------------------------------------------------+--------------------+----------------+\n",
            "| ExpressWay Logistics' delivery drivers have repeatedly left packages in unsafe and unsecured locations, putting them at risk of theft or damage. Despite specific instructions to leave packages in a designated area, they have ignored these requests and left them exposed to the elements or in plain view of passersby. The lack of professionalism and regard for customer property from ExpressWay Logistics' drivers is unacceptable, and I'm deeply disappointed by their disregard for basic security protocols. | Negative           | Negative       |\n",
            "+----------------------------------------------------------------------------------------------------------------------------------------------------------------------------------------------------------------------------------------------------------------------------------------------------------------------------------------------------------------------------------------------------------------------------------------------------------------------------------------------------------------------------+--------------------+----------------+\n",
            "| ExpressWay Logistics seamlessly manages the complexities of international shipping, making it easy for businesses like mine to expand globally. Their expertise in navigating customs regulations and optimizing shipping routes has saved us time and money. With ExpressWay Logistics, we can confidently serve customers around the world, knowing that our shipments are in capable hands.                                                                                                                             | Positive           | Positive       |\n",
            "+----------------------------------------------------------------------------------------------------------------------------------------------------------------------------------------------------------------------------------------------------------------------------------------------------------------------------------------------------------------------------------------------------------------------------------------------------------------------------------------------------------------------------+--------------------+----------------+\n"
          ]
        },
        {
          "data": {
            "text/plain": [
              "1.0"
            ]
          },
          "execution_count": 77,
          "metadata": {},
          "output_type": "execute_result"
        }
      ],
      "source": [
        "evaluate_prompt(few_shot_prompt, gold_examples, user_message_template)"
      ]
    },
    {
      "cell_type": "markdown",
      "metadata": {
        "id": "IUYn7f-LVzs-"
      },
      "source": [
        "However, this is just *one* choice of examples. We will need to run these evaluations with multiple choices of examples to get a sense of variability in F1 score for the few-shot prompt. As an example, let us run evaluations for the few-shot prompt 5 times."
      ]
    },
    {
      "cell_type": "code",
      "execution_count": 78,
      "metadata": {
        "id": "GTXUDXYy7dku"
      },
      "outputs": [],
      "source": [
        "num_eval_runs = 5"
      ]
    },
    {
      "cell_type": "code",
      "execution_count": 79,
      "metadata": {
        "id": "n6pQkocytqG_"
      },
      "outputs": [],
      "source": [
        "zero_shot_performance = []\n",
        "few_shot_performance = []"
      ]
    },
    {
      "cell_type": "code",
      "execution_count": 80,
      "metadata": {
        "colab": {
          "base_uri": "https://localhost:8080/"
        },
        "id": "BdUaodX3tseE",
        "outputId": "f7405ffa-5d80-4532-a758-8d75e8140cb7"
      },
      "outputs": [
        {
          "name": "stderr",
          "output_type": "stream",
          "text": [
            "  0%|          | 0/5 [00:00<?, ?it/s]"
          ]
        },
        {
          "name": "stdout",
          "output_type": "stream",
          "text": [
            "+----------------------------------------------------------------------------------------------------------------------------------------------------------------------------------------------------------------------------------------------------------------------------------------------------------------------------------------------------------------------------------------------------------------------------------------------------------------------------------------------------------------------------+--------------------+----------------+\n",
            "| Review                                                                                                                                                                                                                                                                                                                                                                                                                                                                                                                     | Model Prediction   | Ground Truth   |\n",
            "+============================================================================================================================================================================================================================================================================================================================================================================================================================================================================================================================+====================+================+\n",
            "| I was impressed by the speed of delivery offered by ExpressWay Logistics, as my package arrived sooner than expected. The prompt service exceeded my expectations and demonstrated their commitment to timely deliveries.However, upon receiving the package, I discovered that an item was missing from the shipment. Despite contacting customer service to address the issue, I encountered difficulty in obtaining a resolution, leaving me dissatisfied with the overall experience.                                  | Negative           | Negative       |\n",
            "+----------------------------------------------------------------------------------------------------------------------------------------------------------------------------------------------------------------------------------------------------------------------------------------------------------------------------------------------------------------------------------------------------------------------------------------------------------------------------------------------------------------------------+--------------------+----------------+\n",
            "| I was promised to be updated with courier partner's contact details.Nothing happened as said and I faced difficulty finding the contact details and keep a track of my goods.I was scared if I was scammed and thought of raising a support ticket but ended up with a frustrating experience as there was no platform to do so.                                                                                                                                                                                           | Negative           | Negative       |\n",
            "+----------------------------------------------------------------------------------------------------------------------------------------------------------------------------------------------------------------------------------------------------------------------------------------------------------------------------------------------------------------------------------------------------------------------------------------------------------------------------------------------------------------------------+--------------------+----------------+\n",
            "| ExpressWay Logistics' proactive approach to problem-solving sets them apart from other logistics providers. They anticipate potential issues and take proactive steps to mitigate them, ensuring that our shipments arrive on time and in perfect condition. With ExpressWay Logistics, we have a partner we can rely on, no matter what challenges arise.                                                                                                                                                                 | Positive           | Positive       |\n",
            "+----------------------------------------------------------------------------------------------------------------------------------------------------------------------------------------------------------------------------------------------------------------------------------------------------------------------------------------------------------------------------------------------------------------------------------------------------------------------------------------------------------------------------+--------------------+----------------+\n",
            "| What I love most about ExpressWay Logistics is their seamless communication. Whether it's providing updates on the status of my shipment or addressing any concerns I may have, they always keep me informed every step of the way.                                                                                                                                                                                                                                                                                        | Positive           | Positive       |\n",
            "+----------------------------------------------------------------------------------------------------------------------------------------------------------------------------------------------------------------------------------------------------------------------------------------------------------------------------------------------------------------------------------------------------------------------------------------------------------------------------------------------------------------------------+--------------------+----------------+\n",
            "| ExpressWay Logistics' lack of attention to detail is concerning. Simple requests like fragile handling instructions are frequently ignored, resulting in damaged goods upon arrival. It's unacceptable.                                                                                                                                                                                                                                                                                                                    | Negative           | Negative       |\n",
            "+----------------------------------------------------------------------------------------------------------------------------------------------------------------------------------------------------------------------------------------------------------------------------------------------------------------------------------------------------------------------------------------------------------------------------------------------------------------------------------------------------------------------------+--------------------+----------------+\n",
            "| I had a last-minute change to my shipping address, and I was worried it would cause delays. However, ExpressWay Logistics quickly updated the information and ensured that my package arrived at the new location on time.                                                                                                                                                                                                                                                                                                 | Positive           | Positive       |\n",
            "+----------------------------------------------------------------------------------------------------------------------------------------------------------------------------------------------------------------------------------------------------------------------------------------------------------------------------------------------------------------------------------------------------------------------------------------------------------------------------------------------------------------------------+--------------------+----------------+\n",
            "| The customer support team at ExpressWay Logistics was unprofessional and unhelpful when I contacted them regarding a missing parcel. I was left feeling frustrated and disappointed.                                                                                                                                                                                                                                                                                                                                       | Negative           | Negative       |\n",
            "+----------------------------------------------------------------------------------------------------------------------------------------------------------------------------------------------------------------------------------------------------------------------------------------------------------------------------------------------------------------------------------------------------------------------------------------------------------------------------------------------------------------------------+--------------------+----------------+\n",
            "| ExpressWay Logistics is unreliable and untrustworthy. They failed to deliver my parcel on time, and the customer support team was unapologetic and unwilling to assist me in resolving the issue.                                                                                                                                                                                                                                                                                                                          | Negative           | Negative       |\n",
            "+----------------------------------------------------------------------------------------------------------------------------------------------------------------------------------------------------------------------------------------------------------------------------------------------------------------------------------------------------------------------------------------------------------------------------------------------------------------------------------------------------------------------------+--------------------+----------------+\n",
            "| When it comes to packaging materials, ExpressWay Logistics prioritizes quality and durability. I was impressed by the sturdy packaging used to protect my items during transit. Their attention to detail in selecting the right materials for each package ensured that my goods arrived in perfect condition. With ExpressWay Logistics, I can trust that my shipments will be handled with care and arrive safely at their destination.                                                                                 | Positive           | Positive       |\n",
            "+----------------------------------------------------------------------------------------------------------------------------------------------------------------------------------------------------------------------------------------------------------------------------------------------------------------------------------------------------------------------------------------------------------------------------------------------------------------------------------------------------------------------------+--------------------+----------------+\n",
            "| I appreciate the attention to detail that ExpressWay Logistics puts into every aspect of their service, from packaging to delivery to customer support and the promised door to door deliveries.Overall a satisfied service!                                                                                                                                                                                                                                                                                               | Positive           | Positive       |\n",
            "+----------------------------------------------------------------------------------------------------------------------------------------------------------------------------------------------------------------------------------------------------------------------------------------------------------------------------------------------------------------------------------------------------------------------------------------------------------------------------------------------------------------------------+--------------------+----------------+\n",
            "| ExpressWay Logistics' delivery drivers seem to have no regard for punctuality. Despite paying for expedited shipping, my packages are consistently delayed, causing major inconvenience. It's time for them to step up their game.                                                                                                                                                                                                                                                                                         | Negative           | Negative       |\n",
            "+----------------------------------------------------------------------------------------------------------------------------------------------------------------------------------------------------------------------------------------------------------------------------------------------------------------------------------------------------------------------------------------------------------------------------------------------------------------------------------------------------------------------------+--------------------+----------------+\n",
            "| The customer support team at ExpressWay Logistics was unprofessional and unhelpful when I contacted them regarding a missing parcel. I was left feeling frustrated and disappointed as the support team communicated with me that all the items were delivered to me and blamed me for claiming for missing items.                                                                                                                                                                                                         | Negative           | Negative       |\n",
            "+----------------------------------------------------------------------------------------------------------------------------------------------------------------------------------------------------------------------------------------------------------------------------------------------------------------------------------------------------------------------------------------------------------------------------------------------------------------------------------------------------------------------------+--------------------+----------------+\n",
            "| I am extremely disappointed with the service provided by ExpressWay Logistics. My parcel was delivered late, and the packaging was damaged, resulting in the loss of valuable items.                                                                                                                                                                                                                                                                                                                                       | Negative           | Negative       |\n",
            "+----------------------------------------------------------------------------------------------------------------------------------------------------------------------------------------------------------------------------------------------------------------------------------------------------------------------------------------------------------------------------------------------------------------------------------------------------------------------------------------------------------------------------+--------------------+----------------+\n",
            "| As a frequent traveler, I often use ExpressWay Logistics to ship luggage and personal belongings ahead of time. Their door-to-door service and reliable tracking make traveling a breeze.                                                                                                                                                                                                                                                                                                                                  | Positive           | Positive       |\n",
            "+----------------------------------------------------------------------------------------------------------------------------------------------------------------------------------------------------------------------------------------------------------------------------------------------------------------------------------------------------------------------------------------------------------------------------------------------------------------------------------------------------------------------------+--------------------+----------------+\n",
            "| I've been using ExpressWay Logistics for years, but lately, their service quality has declined significantly. Late deliveries and poor communication have become the norm, making me reconsider my loyalty to this company.I am dissatisfied by this level of service provided.Cannot trust again..Overall a disappointed customer!                                                                                                                                                                                        | Negative           | Negative       |\n",
            "+----------------------------------------------------------------------------------------------------------------------------------------------------------------------------------------------------------------------------------------------------------------------------------------------------------------------------------------------------------------------------------------------------------------------------------------------------------------------------------------------------------------------------+--------------------+----------------+\n",
            "| ExpressWay Logistics is my go-to for all my shipping needs. Whether it's a small package or a large shipment, they always deliver on time and with a smile. Thanks for the great service, ExpressWay Logistics!                                                                                                                                                                                                                                                                                                            | Positive           | Positive       |\n",
            "+----------------------------------------------------------------------------------------------------------------------------------------------------------------------------------------------------------------------------------------------------------------------------------------------------------------------------------------------------------------------------------------------------------------------------------------------------------------------------------------------------------------------------+--------------------+----------------+\n",
            "| The attention to detail ExpressWay Logistics puts into packaging materials is truly remarkable. When I received my shipment, I was impressed by the sturdy and secure packaging that ensured the safety of my items during transit. Their use of high-quality materials not only protected my goods from damage but also reflected their commitment to delivering a superior shipping experience. With ExpressWay Logistics, I can trust that my packages will be handled with care from start to finish.                  | Positive           | Positive       |\n",
            "+----------------------------------------------------------------------------------------------------------------------------------------------------------------------------------------------------------------------------------------------------------------------------------------------------------------------------------------------------------------------------------------------------------------------------------------------------------------------------------------------------------------------------+--------------------+----------------+\n",
            "| ExpressWay Logistics' incompetence resulted in a major inconvenience when my package was delivered to the wrong recipient. Despite providing accurate delivery information, the package ended up in the hands of someone else, and efforts to retrieve it were unsuccessful. When I contacted customer service for assistance, I was met with apathy and a lack of urgency. Their failure to rectify the situation in a timely manner is unacceptable, and I will be avoiding their services at all costs.                 | Negative           | Negative       |\n",
            "+----------------------------------------------------------------------------------------------------------------------------------------------------------------------------------------------------------------------------------------------------------------------------------------------------------------------------------------------------------------------------------------------------------------------------------------------------------------------------------------------------------------------------+--------------------+----------------+\n",
            "| ExpressWay Logistics failed to meet my expectations. The delivery was delayed, and the packaging was damaged, resulting in the loss of valuable items.I suffered a lot and will definitely not be a repeat customer.                                                                                                                                                                                                                                                                                                       | Negative           | Negative       |\n",
            "+----------------------------------------------------------------------------------------------------------------------------------------------------------------------------------------------------------------------------------------------------------------------------------------------------------------------------------------------------------------------------------------------------------------------------------------------------------------------------------------------------------------------------+--------------------+----------------+\n",
            "| ExpressWay Logistics' delivery drivers have repeatedly left packages in unsafe and unsecured locations, putting them at risk of theft or damage. Despite specific instructions to leave packages in a designated area, they have ignored these requests and left them exposed to the elements or in plain view of passersby. The lack of professionalism and regard for customer property from ExpressWay Logistics' drivers is unacceptable, and I'm deeply disappointed by their disregard for basic security protocols. | Negative           | Negative       |\n",
            "+----------------------------------------------------------------------------------------------------------------------------------------------------------------------------------------------------------------------------------------------------------------------------------------------------------------------------------------------------------------------------------------------------------------------------------------------------------------------------------------------------------------------------+--------------------+----------------+\n",
            "| ExpressWay Logistics seamlessly manages the complexities of international shipping, making it easy for businesses like mine to expand globally. Their expertise in navigating customs regulations and optimizing shipping routes has saved us time and money. With ExpressWay Logistics, we can confidently serve customers around the world, knowing that our shipments are in capable hands.                                                                                                                             | Positive           | Positive       |\n",
            "+----------------------------------------------------------------------------------------------------------------------------------------------------------------------------------------------------------------------------------------------------------------------------------------------------------------------------------------------------------------------------------------------------------------------------------------------------------------------------------------------------------------------------+--------------------+----------------+\n"
          ]
        },
        {
          "name": "stderr",
          "output_type": "stream",
          "text": [
            " 20%|██        | 1/5 [00:23<01:33, 23.27s/it]"
          ]
        },
        {
          "name": "stdout",
          "output_type": "stream",
          "text": [
            "+----------------------------------------------------------------------------------------------------------------------------------------------------------------------------------------------------------------------------------------------------------------------------------------------------------------------------------------------------------------------------------------------------------------------------------------------------------------------------------------------------------------------------+--------------------+----------------+\n",
            "| Review                                                                                                                                                                                                                                                                                                                                                                                                                                                                                                                     | Model Prediction   | Ground Truth   |\n",
            "+============================================================================================================================================================================================================================================================================================================================================================================================================================================================================================================================+====================+================+\n",
            "| I was impressed by the speed of delivery offered by ExpressWay Logistics, as my package arrived sooner than expected. The prompt service exceeded my expectations and demonstrated their commitment to timely deliveries.However, upon receiving the package, I discovered that an item was missing from the shipment. Despite contacting customer service to address the issue, I encountered difficulty in obtaining a resolution, leaving me dissatisfied with the overall experience.                                  | Negative           | Negative       |\n",
            "+----------------------------------------------------------------------------------------------------------------------------------------------------------------------------------------------------------------------------------------------------------------------------------------------------------------------------------------------------------------------------------------------------------------------------------------------------------------------------------------------------------------------------+--------------------+----------------+\n",
            "| I was promised to be updated with courier partner's contact details.Nothing happened as said and I faced difficulty finding the contact details and keep a track of my goods.I was scared if I was scammed and thought of raising a support ticket but ended up with a frustrating experience as there was no platform to do so.                                                                                                                                                                                           | Negative           | Negative       |\n",
            "+----------------------------------------------------------------------------------------------------------------------------------------------------------------------------------------------------------------------------------------------------------------------------------------------------------------------------------------------------------------------------------------------------------------------------------------------------------------------------------------------------------------------------+--------------------+----------------+\n",
            "| ExpressWay Logistics' proactive approach to problem-solving sets them apart from other logistics providers. They anticipate potential issues and take proactive steps to mitigate them, ensuring that our shipments arrive on time and in perfect condition. With ExpressWay Logistics, we have a partner we can rely on, no matter what challenges arise.                                                                                                                                                                 | Positive           | Positive       |\n",
            "+----------------------------------------------------------------------------------------------------------------------------------------------------------------------------------------------------------------------------------------------------------------------------------------------------------------------------------------------------------------------------------------------------------------------------------------------------------------------------------------------------------------------------+--------------------+----------------+\n",
            "| What I love most about ExpressWay Logistics is their seamless communication. Whether it's providing updates on the status of my shipment or addressing any concerns I may have, they always keep me informed every step of the way.                                                                                                                                                                                                                                                                                        | Positive           | Positive       |\n",
            "+----------------------------------------------------------------------------------------------------------------------------------------------------------------------------------------------------------------------------------------------------------------------------------------------------------------------------------------------------------------------------------------------------------------------------------------------------------------------------------------------------------------------------+--------------------+----------------+\n",
            "| ExpressWay Logistics' lack of attention to detail is concerning. Simple requests like fragile handling instructions are frequently ignored, resulting in damaged goods upon arrival. It's unacceptable.                                                                                                                                                                                                                                                                                                                    | Negative           | Negative       |\n",
            "+----------------------------------------------------------------------------------------------------------------------------------------------------------------------------------------------------------------------------------------------------------------------------------------------------------------------------------------------------------------------------------------------------------------------------------------------------------------------------------------------------------------------------+--------------------+----------------+\n",
            "| I had a last-minute change to my shipping address, and I was worried it would cause delays. However, ExpressWay Logistics quickly updated the information and ensured that my package arrived at the new location on time.                                                                                                                                                                                                                                                                                                 | Positive           | Positive       |\n",
            "+----------------------------------------------------------------------------------------------------------------------------------------------------------------------------------------------------------------------------------------------------------------------------------------------------------------------------------------------------------------------------------------------------------------------------------------------------------------------------------------------------------------------------+--------------------+----------------+\n",
            "| The customer support team at ExpressWay Logistics was unprofessional and unhelpful when I contacted them regarding a missing parcel. I was left feeling frustrated and disappointed.                                                                                                                                                                                                                                                                                                                                       | Negative           | Negative       |\n",
            "+----------------------------------------------------------------------------------------------------------------------------------------------------------------------------------------------------------------------------------------------------------------------------------------------------------------------------------------------------------------------------------------------------------------------------------------------------------------------------------------------------------------------------+--------------------+----------------+\n",
            "| ExpressWay Logistics is unreliable and untrustworthy. They failed to deliver my parcel on time, and the customer support team was unapologetic and unwilling to assist me in resolving the issue.                                                                                                                                                                                                                                                                                                                          | Negative           | Negative       |\n",
            "+----------------------------------------------------------------------------------------------------------------------------------------------------------------------------------------------------------------------------------------------------------------------------------------------------------------------------------------------------------------------------------------------------------------------------------------------------------------------------------------------------------------------------+--------------------+----------------+\n",
            "| When it comes to packaging materials, ExpressWay Logistics prioritizes quality and durability. I was impressed by the sturdy packaging used to protect my items during transit. Their attention to detail in selecting the right materials for each package ensured that my goods arrived in perfect condition. With ExpressWay Logistics, I can trust that my shipments will be handled with care and arrive safely at their destination.                                                                                 | Positive           | Positive       |\n",
            "+----------------------------------------------------------------------------------------------------------------------------------------------------------------------------------------------------------------------------------------------------------------------------------------------------------------------------------------------------------------------------------------------------------------------------------------------------------------------------------------------------------------------------+--------------------+----------------+\n",
            "| I appreciate the attention to detail that ExpressWay Logistics puts into every aspect of their service, from packaging to delivery to customer support and the promised door to door deliveries.Overall a satisfied service!                                                                                                                                                                                                                                                                                               | Positive           | Positive       |\n",
            "+----------------------------------------------------------------------------------------------------------------------------------------------------------------------------------------------------------------------------------------------------------------------------------------------------------------------------------------------------------------------------------------------------------------------------------------------------------------------------------------------------------------------------+--------------------+----------------+\n",
            "| ExpressWay Logistics' delivery drivers seem to have no regard for punctuality. Despite paying for expedited shipping, my packages are consistently delayed, causing major inconvenience. It's time for them to step up their game.                                                                                                                                                                                                                                                                                         | Negative           | Negative       |\n",
            "+----------------------------------------------------------------------------------------------------------------------------------------------------------------------------------------------------------------------------------------------------------------------------------------------------------------------------------------------------------------------------------------------------------------------------------------------------------------------------------------------------------------------------+--------------------+----------------+\n",
            "| The customer support team at ExpressWay Logistics was unprofessional and unhelpful when I contacted them regarding a missing parcel. I was left feeling frustrated and disappointed as the support team communicated with me that all the items were delivered to me and blamed me for claiming for missing items.                                                                                                                                                                                                         | Negative           | Negative       |\n",
            "+----------------------------------------------------------------------------------------------------------------------------------------------------------------------------------------------------------------------------------------------------------------------------------------------------------------------------------------------------------------------------------------------------------------------------------------------------------------------------------------------------------------------------+--------------------+----------------+\n",
            "| I am extremely disappointed with the service provided by ExpressWay Logistics. My parcel was delivered late, and the packaging was damaged, resulting in the loss of valuable items.                                                                                                                                                                                                                                                                                                                                       | Negative           | Negative       |\n",
            "+----------------------------------------------------------------------------------------------------------------------------------------------------------------------------------------------------------------------------------------------------------------------------------------------------------------------------------------------------------------------------------------------------------------------------------------------------------------------------------------------------------------------------+--------------------+----------------+\n",
            "| As a frequent traveler, I often use ExpressWay Logistics to ship luggage and personal belongings ahead of time. Their door-to-door service and reliable tracking make traveling a breeze.                                                                                                                                                                                                                                                                                                                                  | Positive           | Positive       |\n",
            "+----------------------------------------------------------------------------------------------------------------------------------------------------------------------------------------------------------------------------------------------------------------------------------------------------------------------------------------------------------------------------------------------------------------------------------------------------------------------------------------------------------------------------+--------------------+----------------+\n",
            "| I've been using ExpressWay Logistics for years, but lately, their service quality has declined significantly. Late deliveries and poor communication have become the norm, making me reconsider my loyalty to this company.I am dissatisfied by this level of service provided.Cannot trust again..Overall a disappointed customer!                                                                                                                                                                                        | Negative           | Negative       |\n",
            "+----------------------------------------------------------------------------------------------------------------------------------------------------------------------------------------------------------------------------------------------------------------------------------------------------------------------------------------------------------------------------------------------------------------------------------------------------------------------------------------------------------------------------+--------------------+----------------+\n",
            "| ExpressWay Logistics is my go-to for all my shipping needs. Whether it's a small package or a large shipment, they always deliver on time and with a smile. Thanks for the great service, ExpressWay Logistics!                                                                                                                                                                                                                                                                                                            | Positive           | Positive       |\n",
            "+----------------------------------------------------------------------------------------------------------------------------------------------------------------------------------------------------------------------------------------------------------------------------------------------------------------------------------------------------------------------------------------------------------------------------------------------------------------------------------------------------------------------------+--------------------+----------------+\n",
            "| The attention to detail ExpressWay Logistics puts into packaging materials is truly remarkable. When I received my shipment, I was impressed by the sturdy and secure packaging that ensured the safety of my items during transit. Their use of high-quality materials not only protected my goods from damage but also reflected their commitment to delivering a superior shipping experience. With ExpressWay Logistics, I can trust that my packages will be handled with care from start to finish.                  | Positive           | Positive       |\n",
            "+----------------------------------------------------------------------------------------------------------------------------------------------------------------------------------------------------------------------------------------------------------------------------------------------------------------------------------------------------------------------------------------------------------------------------------------------------------------------------------------------------------------------------+--------------------+----------------+\n",
            "| ExpressWay Logistics' incompetence resulted in a major inconvenience when my package was delivered to the wrong recipient. Despite providing accurate delivery information, the package ended up in the hands of someone else, and efforts to retrieve it were unsuccessful. When I contacted customer service for assistance, I was met with apathy and a lack of urgency. Their failure to rectify the situation in a timely manner is unacceptable, and I will be avoiding their services at all costs.                 | Negative           | Negative       |\n",
            "+----------------------------------------------------------------------------------------------------------------------------------------------------------------------------------------------------------------------------------------------------------------------------------------------------------------------------------------------------------------------------------------------------------------------------------------------------------------------------------------------------------------------------+--------------------+----------------+\n",
            "| ExpressWay Logistics failed to meet my expectations. The delivery was delayed, and the packaging was damaged, resulting in the loss of valuable items.I suffered a lot and will definitely not be a repeat customer.                                                                                                                                                                                                                                                                                                       | Negative           | Negative       |\n",
            "+----------------------------------------------------------------------------------------------------------------------------------------------------------------------------------------------------------------------------------------------------------------------------------------------------------------------------------------------------------------------------------------------------------------------------------------------------------------------------------------------------------------------------+--------------------+----------------+\n",
            "| ExpressWay Logistics' delivery drivers have repeatedly left packages in unsafe and unsecured locations, putting them at risk of theft or damage. Despite specific instructions to leave packages in a designated area, they have ignored these requests and left them exposed to the elements or in plain view of passersby. The lack of professionalism and regard for customer property from ExpressWay Logistics' drivers is unacceptable, and I'm deeply disappointed by their disregard for basic security protocols. | Negative           | Negative       |\n",
            "+----------------------------------------------------------------------------------------------------------------------------------------------------------------------------------------------------------------------------------------------------------------------------------------------------------------------------------------------------------------------------------------------------------------------------------------------------------------------------------------------------------------------------+--------------------+----------------+\n",
            "| ExpressWay Logistics seamlessly manages the complexities of international shipping, making it easy for businesses like mine to expand globally. Their expertise in navigating customs regulations and optimizing shipping routes has saved us time and money. With ExpressWay Logistics, we can confidently serve customers around the world, knowing that our shipments are in capable hands.                                                                                                                             | Positive           | Positive       |\n",
            "+----------------------------------------------------------------------------------------------------------------------------------------------------------------------------------------------------------------------------------------------------------------------------------------------------------------------------------------------------------------------------------------------------------------------------------------------------------------------------------------------------------------------------+--------------------+----------------+\n",
            "+----------------------------------------------------------------------------------------------------------------------------------------------------------------------------------------------------------------------------------------------------------------------------------------------------------------------------------------------------------------------------------------------------------------------------------------------------------------------------------------------------------------------------+--------------------+----------------+\n",
            "| Review                                                                                                                                                                                                                                                                                                                                                                                                                                                                                                                     | Model Prediction   | Ground Truth   |\n",
            "+============================================================================================================================================================================================================================================================================================================================================================================================================================================================================================================================+====================+================+\n",
            "| I was impressed by the speed of delivery offered by ExpressWay Logistics, as my package arrived sooner than expected. The prompt service exceeded my expectations and demonstrated their commitment to timely deliveries.However, upon receiving the package, I discovered that an item was missing from the shipment. Despite contacting customer service to address the issue, I encountered difficulty in obtaining a resolution, leaving me dissatisfied with the overall experience.                                  | Negative           | Negative       |\n",
            "+----------------------------------------------------------------------------------------------------------------------------------------------------------------------------------------------------------------------------------------------------------------------------------------------------------------------------------------------------------------------------------------------------------------------------------------------------------------------------------------------------------------------------+--------------------+----------------+\n",
            "| I was promised to be updated with courier partner's contact details.Nothing happened as said and I faced difficulty finding the contact details and keep a track of my goods.I was scared if I was scammed and thought of raising a support ticket but ended up with a frustrating experience as there was no platform to do so.                                                                                                                                                                                           | Negative           | Negative       |\n",
            "+----------------------------------------------------------------------------------------------------------------------------------------------------------------------------------------------------------------------------------------------------------------------------------------------------------------------------------------------------------------------------------------------------------------------------------------------------------------------------------------------------------------------------+--------------------+----------------+\n",
            "| ExpressWay Logistics' proactive approach to problem-solving sets them apart from other logistics providers. They anticipate potential issues and take proactive steps to mitigate them, ensuring that our shipments arrive on time and in perfect condition. With ExpressWay Logistics, we have a partner we can rely on, no matter what challenges arise.                                                                                                                                                                 | Positive           | Positive       |\n",
            "+----------------------------------------------------------------------------------------------------------------------------------------------------------------------------------------------------------------------------------------------------------------------------------------------------------------------------------------------------------------------------------------------------------------------------------------------------------------------------------------------------------------------------+--------------------+----------------+\n",
            "| What I love most about ExpressWay Logistics is their seamless communication. Whether it's providing updates on the status of my shipment or addressing any concerns I may have, they always keep me informed every step of the way.                                                                                                                                                                                                                                                                                        | Positive           | Positive       |\n",
            "+----------------------------------------------------------------------------------------------------------------------------------------------------------------------------------------------------------------------------------------------------------------------------------------------------------------------------------------------------------------------------------------------------------------------------------------------------------------------------------------------------------------------------+--------------------+----------------+\n",
            "| ExpressWay Logistics' lack of attention to detail is concerning. Simple requests like fragile handling instructions are frequently ignored, resulting in damaged goods upon arrival. It's unacceptable.                                                                                                                                                                                                                                                                                                                    | Negative           | Negative       |\n",
            "+----------------------------------------------------------------------------------------------------------------------------------------------------------------------------------------------------------------------------------------------------------------------------------------------------------------------------------------------------------------------------------------------------------------------------------------------------------------------------------------------------------------------------+--------------------+----------------+\n",
            "| I had a last-minute change to my shipping address, and I was worried it would cause delays. However, ExpressWay Logistics quickly updated the information and ensured that my package arrived at the new location on time.                                                                                                                                                                                                                                                                                                 | Positive           | Positive       |\n",
            "+----------------------------------------------------------------------------------------------------------------------------------------------------------------------------------------------------------------------------------------------------------------------------------------------------------------------------------------------------------------------------------------------------------------------------------------------------------------------------------------------------------------------------+--------------------+----------------+\n",
            "| The customer support team at ExpressWay Logistics was unprofessional and unhelpful when I contacted them regarding a missing parcel. I was left feeling frustrated and disappointed.                                                                                                                                                                                                                                                                                                                                       | Negative           | Negative       |\n",
            "+----------------------------------------------------------------------------------------------------------------------------------------------------------------------------------------------------------------------------------------------------------------------------------------------------------------------------------------------------------------------------------------------------------------------------------------------------------------------------------------------------------------------------+--------------------+----------------+\n",
            "| ExpressWay Logistics is unreliable and untrustworthy. They failed to deliver my parcel on time, and the customer support team was unapologetic and unwilling to assist me in resolving the issue.                                                                                                                                                                                                                                                                                                                          | Negative           | Negative       |\n",
            "+----------------------------------------------------------------------------------------------------------------------------------------------------------------------------------------------------------------------------------------------------------------------------------------------------------------------------------------------------------------------------------------------------------------------------------------------------------------------------------------------------------------------------+--------------------+----------------+\n",
            "| When it comes to packaging materials, ExpressWay Logistics prioritizes quality and durability. I was impressed by the sturdy packaging used to protect my items during transit. Their attention to detail in selecting the right materials for each package ensured that my goods arrived in perfect condition. With ExpressWay Logistics, I can trust that my shipments will be handled with care and arrive safely at their destination.                                                                                 | Positive           | Positive       |\n",
            "+----------------------------------------------------------------------------------------------------------------------------------------------------------------------------------------------------------------------------------------------------------------------------------------------------------------------------------------------------------------------------------------------------------------------------------------------------------------------------------------------------------------------------+--------------------+----------------+\n",
            "| I appreciate the attention to detail that ExpressWay Logistics puts into every aspect of their service, from packaging to delivery to customer support and the promised door to door deliveries.Overall a satisfied service!                                                                                                                                                                                                                                                                                               | Positive           | Positive       |\n",
            "+----------------------------------------------------------------------------------------------------------------------------------------------------------------------------------------------------------------------------------------------------------------------------------------------------------------------------------------------------------------------------------------------------------------------------------------------------------------------------------------------------------------------------+--------------------+----------------+\n",
            "| ExpressWay Logistics' delivery drivers seem to have no regard for punctuality. Despite paying for expedited shipping, my packages are consistently delayed, causing major inconvenience. It's time for them to step up their game.                                                                                                                                                                                                                                                                                         | Negative           | Negative       |\n",
            "+----------------------------------------------------------------------------------------------------------------------------------------------------------------------------------------------------------------------------------------------------------------------------------------------------------------------------------------------------------------------------------------------------------------------------------------------------------------------------------------------------------------------------+--------------------+----------------+\n",
            "| The customer support team at ExpressWay Logistics was unprofessional and unhelpful when I contacted them regarding a missing parcel. I was left feeling frustrated and disappointed as the support team communicated with me that all the items were delivered to me and blamed me for claiming for missing items.                                                                                                                                                                                                         | Negative           | Negative       |\n",
            "+----------------------------------------------------------------------------------------------------------------------------------------------------------------------------------------------------------------------------------------------------------------------------------------------------------------------------------------------------------------------------------------------------------------------------------------------------------------------------------------------------------------------------+--------------------+----------------+\n",
            "| I am extremely disappointed with the service provided by ExpressWay Logistics. My parcel was delivered late, and the packaging was damaged, resulting in the loss of valuable items.                                                                                                                                                                                                                                                                                                                                       | Negative           | Negative       |\n",
            "+----------------------------------------------------------------------------------------------------------------------------------------------------------------------------------------------------------------------------------------------------------------------------------------------------------------------------------------------------------------------------------------------------------------------------------------------------------------------------------------------------------------------------+--------------------+----------------+\n",
            "| As a frequent traveler, I often use ExpressWay Logistics to ship luggage and personal belongings ahead of time. Their door-to-door service and reliable tracking make traveling a breeze.                                                                                                                                                                                                                                                                                                                                  | Positive           | Positive       |\n",
            "+----------------------------------------------------------------------------------------------------------------------------------------------------------------------------------------------------------------------------------------------------------------------------------------------------------------------------------------------------------------------------------------------------------------------------------------------------------------------------------------------------------------------------+--------------------+----------------+\n",
            "| I've been using ExpressWay Logistics for years, but lately, their service quality has declined significantly. Late deliveries and poor communication have become the norm, making me reconsider my loyalty to this company.I am dissatisfied by this level of service provided.Cannot trust again..Overall a disappointed customer!                                                                                                                                                                                        | Negative           | Negative       |\n",
            "+----------------------------------------------------------------------------------------------------------------------------------------------------------------------------------------------------------------------------------------------------------------------------------------------------------------------------------------------------------------------------------------------------------------------------------------------------------------------------------------------------------------------------+--------------------+----------------+\n",
            "| ExpressWay Logistics is my go-to for all my shipping needs. Whether it's a small package or a large shipment, they always deliver on time and with a smile. Thanks for the great service, ExpressWay Logistics!                                                                                                                                                                                                                                                                                                            | Positive           | Positive       |\n",
            "+----------------------------------------------------------------------------------------------------------------------------------------------------------------------------------------------------------------------------------------------------------------------------------------------------------------------------------------------------------------------------------------------------------------------------------------------------------------------------------------------------------------------------+--------------------+----------------+\n",
            "| The attention to detail ExpressWay Logistics puts into packaging materials is truly remarkable. When I received my shipment, I was impressed by the sturdy and secure packaging that ensured the safety of my items during transit. Their use of high-quality materials not only protected my goods from damage but also reflected their commitment to delivering a superior shipping experience. With ExpressWay Logistics, I can trust that my packages will be handled with care from start to finish.                  | Positive           | Positive       |\n",
            "+----------------------------------------------------------------------------------------------------------------------------------------------------------------------------------------------------------------------------------------------------------------------------------------------------------------------------------------------------------------------------------------------------------------------------------------------------------------------------------------------------------------------------+--------------------+----------------+\n",
            "| ExpressWay Logistics' incompetence resulted in a major inconvenience when my package was delivered to the wrong recipient. Despite providing accurate delivery information, the package ended up in the hands of someone else, and efforts to retrieve it were unsuccessful. When I contacted customer service for assistance, I was met with apathy and a lack of urgency. Their failure to rectify the situation in a timely manner is unacceptable, and I will be avoiding their services at all costs.                 | Negative           | Negative       |\n",
            "+----------------------------------------------------------------------------------------------------------------------------------------------------------------------------------------------------------------------------------------------------------------------------------------------------------------------------------------------------------------------------------------------------------------------------------------------------------------------------------------------------------------------------+--------------------+----------------+\n",
            "| ExpressWay Logistics failed to meet my expectations. The delivery was delayed, and the packaging was damaged, resulting in the loss of valuable items.I suffered a lot and will definitely not be a repeat customer.                                                                                                                                                                                                                                                                                                       | Negative           | Negative       |\n",
            "+----------------------------------------------------------------------------------------------------------------------------------------------------------------------------------------------------------------------------------------------------------------------------------------------------------------------------------------------------------------------------------------------------------------------------------------------------------------------------------------------------------------------------+--------------------+----------------+\n",
            "| ExpressWay Logistics' delivery drivers have repeatedly left packages in unsafe and unsecured locations, putting them at risk of theft or damage. Despite specific instructions to leave packages in a designated area, they have ignored these requests and left them exposed to the elements or in plain view of passersby. The lack of professionalism and regard for customer property from ExpressWay Logistics' drivers is unacceptable, and I'm deeply disappointed by their disregard for basic security protocols. | Negative           | Negative       |\n",
            "+----------------------------------------------------------------------------------------------------------------------------------------------------------------------------------------------------------------------------------------------------------------------------------------------------------------------------------------------------------------------------------------------------------------------------------------------------------------------------------------------------------------------------+--------------------+----------------+\n",
            "| ExpressWay Logistics seamlessly manages the complexities of international shipping, making it easy for businesses like mine to expand globally. Their expertise in navigating customs regulations and optimizing shipping routes has saved us time and money. With ExpressWay Logistics, we can confidently serve customers around the world, knowing that our shipments are in capable hands.                                                                                                                             | Positive           | Positive       |\n",
            "+----------------------------------------------------------------------------------------------------------------------------------------------------------------------------------------------------------------------------------------------------------------------------------------------------------------------------------------------------------------------------------------------------------------------------------------------------------------------------------------------------------------------------+--------------------+----------------+\n"
          ]
        },
        {
          "name": "stderr",
          "output_type": "stream",
          "text": [
            " 40%|████      | 2/5 [00:57<01:28, 29.48s/it]"
          ]
        },
        {
          "name": "stdout",
          "output_type": "stream",
          "text": [
            "+----------------------------------------------------------------------------------------------------------------------------------------------------------------------------------------------------------------------------------------------------------------------------------------------------------------------------------------------------------------------------------------------------------------------------------------------------------------------------------------------------------------------------+--------------------+----------------+\n",
            "| Review                                                                                                                                                                                                                                                                                                                                                                                                                                                                                                                     | Model Prediction   | Ground Truth   |\n",
            "+============================================================================================================================================================================================================================================================================================================================================================================================================================================================================================================================+====================+================+\n",
            "| I was impressed by the speed of delivery offered by ExpressWay Logistics, as my package arrived sooner than expected. The prompt service exceeded my expectations and demonstrated their commitment to timely deliveries.However, upon receiving the package, I discovered that an item was missing from the shipment. Despite contacting customer service to address the issue, I encountered difficulty in obtaining a resolution, leaving me dissatisfied with the overall experience.                                  | Negative           | Negative       |\n",
            "+----------------------------------------------------------------------------------------------------------------------------------------------------------------------------------------------------------------------------------------------------------------------------------------------------------------------------------------------------------------------------------------------------------------------------------------------------------------------------------------------------------------------------+--------------------+----------------+\n",
            "| I was promised to be updated with courier partner's contact details.Nothing happened as said and I faced difficulty finding the contact details and keep a track of my goods.I was scared if I was scammed and thought of raising a support ticket but ended up with a frustrating experience as there was no platform to do so.                                                                                                                                                                                           | Negative           | Negative       |\n",
            "+----------------------------------------------------------------------------------------------------------------------------------------------------------------------------------------------------------------------------------------------------------------------------------------------------------------------------------------------------------------------------------------------------------------------------------------------------------------------------------------------------------------------------+--------------------+----------------+\n",
            "| ExpressWay Logistics' proactive approach to problem-solving sets them apart from other logistics providers. They anticipate potential issues and take proactive steps to mitigate them, ensuring that our shipments arrive on time and in perfect condition. With ExpressWay Logistics, we have a partner we can rely on, no matter what challenges arise.                                                                                                                                                                 | Positive           | Positive       |\n",
            "+----------------------------------------------------------------------------------------------------------------------------------------------------------------------------------------------------------------------------------------------------------------------------------------------------------------------------------------------------------------------------------------------------------------------------------------------------------------------------------------------------------------------------+--------------------+----------------+\n",
            "| What I love most about ExpressWay Logistics is their seamless communication. Whether it's providing updates on the status of my shipment or addressing any concerns I may have, they always keep me informed every step of the way.                                                                                                                                                                                                                                                                                        | Positive           | Positive       |\n",
            "+----------------------------------------------------------------------------------------------------------------------------------------------------------------------------------------------------------------------------------------------------------------------------------------------------------------------------------------------------------------------------------------------------------------------------------------------------------------------------------------------------------------------------+--------------------+----------------+\n",
            "| ExpressWay Logistics' lack of attention to detail is concerning. Simple requests like fragile handling instructions are frequently ignored, resulting in damaged goods upon arrival. It's unacceptable.                                                                                                                                                                                                                                                                                                                    | Negative           | Negative       |\n",
            "+----------------------------------------------------------------------------------------------------------------------------------------------------------------------------------------------------------------------------------------------------------------------------------------------------------------------------------------------------------------------------------------------------------------------------------------------------------------------------------------------------------------------------+--------------------+----------------+\n",
            "| I had a last-minute change to my shipping address, and I was worried it would cause delays. However, ExpressWay Logistics quickly updated the information and ensured that my package arrived at the new location on time.                                                                                                                                                                                                                                                                                                 | Positive           | Positive       |\n",
            "+----------------------------------------------------------------------------------------------------------------------------------------------------------------------------------------------------------------------------------------------------------------------------------------------------------------------------------------------------------------------------------------------------------------------------------------------------------------------------------------------------------------------------+--------------------+----------------+\n",
            "| The customer support team at ExpressWay Logistics was unprofessional and unhelpful when I contacted them regarding a missing parcel. I was left feeling frustrated and disappointed.                                                                                                                                                                                                                                                                                                                                       | Negative           | Negative       |\n",
            "+----------------------------------------------------------------------------------------------------------------------------------------------------------------------------------------------------------------------------------------------------------------------------------------------------------------------------------------------------------------------------------------------------------------------------------------------------------------------------------------------------------------------------+--------------------+----------------+\n",
            "| ExpressWay Logistics is unreliable and untrustworthy. They failed to deliver my parcel on time, and the customer support team was unapologetic and unwilling to assist me in resolving the issue.                                                                                                                                                                                                                                                                                                                          | Negative           | Negative       |\n",
            "+----------------------------------------------------------------------------------------------------------------------------------------------------------------------------------------------------------------------------------------------------------------------------------------------------------------------------------------------------------------------------------------------------------------------------------------------------------------------------------------------------------------------------+--------------------+----------------+\n",
            "| When it comes to packaging materials, ExpressWay Logistics prioritizes quality and durability. I was impressed by the sturdy packaging used to protect my items during transit. Their attention to detail in selecting the right materials for each package ensured that my goods arrived in perfect condition. With ExpressWay Logistics, I can trust that my shipments will be handled with care and arrive safely at their destination.                                                                                 | Positive           | Positive       |\n",
            "+----------------------------------------------------------------------------------------------------------------------------------------------------------------------------------------------------------------------------------------------------------------------------------------------------------------------------------------------------------------------------------------------------------------------------------------------------------------------------------------------------------------------------+--------------------+----------------+\n",
            "| I appreciate the attention to detail that ExpressWay Logistics puts into every aspect of their service, from packaging to delivery to customer support and the promised door to door deliveries.Overall a satisfied service!                                                                                                                                                                                                                                                                                               | Positive           | Positive       |\n",
            "+----------------------------------------------------------------------------------------------------------------------------------------------------------------------------------------------------------------------------------------------------------------------------------------------------------------------------------------------------------------------------------------------------------------------------------------------------------------------------------------------------------------------------+--------------------+----------------+\n",
            "| ExpressWay Logistics' delivery drivers seem to have no regard for punctuality. Despite paying for expedited shipping, my packages are consistently delayed, causing major inconvenience. It's time for them to step up their game.                                                                                                                                                                                                                                                                                         | Negative           | Negative       |\n",
            "+----------------------------------------------------------------------------------------------------------------------------------------------------------------------------------------------------------------------------------------------------------------------------------------------------------------------------------------------------------------------------------------------------------------------------------------------------------------------------------------------------------------------------+--------------------+----------------+\n",
            "| The customer support team at ExpressWay Logistics was unprofessional and unhelpful when I contacted them regarding a missing parcel. I was left feeling frustrated and disappointed as the support team communicated with me that all the items were delivered to me and blamed me for claiming for missing items.                                                                                                                                                                                                         | Negative           | Negative       |\n",
            "+----------------------------------------------------------------------------------------------------------------------------------------------------------------------------------------------------------------------------------------------------------------------------------------------------------------------------------------------------------------------------------------------------------------------------------------------------------------------------------------------------------------------------+--------------------+----------------+\n",
            "| I am extremely disappointed with the service provided by ExpressWay Logistics. My parcel was delivered late, and the packaging was damaged, resulting in the loss of valuable items.                                                                                                                                                                                                                                                                                                                                       | Negative           | Negative       |\n",
            "+----------------------------------------------------------------------------------------------------------------------------------------------------------------------------------------------------------------------------------------------------------------------------------------------------------------------------------------------------------------------------------------------------------------------------------------------------------------------------------------------------------------------------+--------------------+----------------+\n",
            "| As a frequent traveler, I often use ExpressWay Logistics to ship luggage and personal belongings ahead of time. Their door-to-door service and reliable tracking make traveling a breeze.                                                                                                                                                                                                                                                                                                                                  | Positive           | Positive       |\n",
            "+----------------------------------------------------------------------------------------------------------------------------------------------------------------------------------------------------------------------------------------------------------------------------------------------------------------------------------------------------------------------------------------------------------------------------------------------------------------------------------------------------------------------------+--------------------+----------------+\n",
            "| I've been using ExpressWay Logistics for years, but lately, their service quality has declined significantly. Late deliveries and poor communication have become the norm, making me reconsider my loyalty to this company.I am dissatisfied by this level of service provided.Cannot trust again..Overall a disappointed customer!                                                                                                                                                                                        | Negative           | Negative       |\n",
            "+----------------------------------------------------------------------------------------------------------------------------------------------------------------------------------------------------------------------------------------------------------------------------------------------------------------------------------------------------------------------------------------------------------------------------------------------------------------------------------------------------------------------------+--------------------+----------------+\n",
            "| ExpressWay Logistics is my go-to for all my shipping needs. Whether it's a small package or a large shipment, they always deliver on time and with a smile. Thanks for the great service, ExpressWay Logistics!                                                                                                                                                                                                                                                                                                            | Positive           | Positive       |\n",
            "+----------------------------------------------------------------------------------------------------------------------------------------------------------------------------------------------------------------------------------------------------------------------------------------------------------------------------------------------------------------------------------------------------------------------------------------------------------------------------------------------------------------------------+--------------------+----------------+\n",
            "| The attention to detail ExpressWay Logistics puts into packaging materials is truly remarkable. When I received my shipment, I was impressed by the sturdy and secure packaging that ensured the safety of my items during transit. Their use of high-quality materials not only protected my goods from damage but also reflected their commitment to delivering a superior shipping experience. With ExpressWay Logistics, I can trust that my packages will be handled with care from start to finish.                  | Positive           | Positive       |\n",
            "+----------------------------------------------------------------------------------------------------------------------------------------------------------------------------------------------------------------------------------------------------------------------------------------------------------------------------------------------------------------------------------------------------------------------------------------------------------------------------------------------------------------------------+--------------------+----------------+\n",
            "| ExpressWay Logistics' incompetence resulted in a major inconvenience when my package was delivered to the wrong recipient. Despite providing accurate delivery information, the package ended up in the hands of someone else, and efforts to retrieve it were unsuccessful. When I contacted customer service for assistance, I was met with apathy and a lack of urgency. Their failure to rectify the situation in a timely manner is unacceptable, and I will be avoiding their services at all costs.                 | Negative           | Negative       |\n",
            "+----------------------------------------------------------------------------------------------------------------------------------------------------------------------------------------------------------------------------------------------------------------------------------------------------------------------------------------------------------------------------------------------------------------------------------------------------------------------------------------------------------------------------+--------------------+----------------+\n",
            "| ExpressWay Logistics failed to meet my expectations. The delivery was delayed, and the packaging was damaged, resulting in the loss of valuable items.I suffered a lot and will definitely not be a repeat customer.                                                                                                                                                                                                                                                                                                       | Negative           | Negative       |\n",
            "+----------------------------------------------------------------------------------------------------------------------------------------------------------------------------------------------------------------------------------------------------------------------------------------------------------------------------------------------------------------------------------------------------------------------------------------------------------------------------------------------------------------------------+--------------------+----------------+\n",
            "| ExpressWay Logistics' delivery drivers have repeatedly left packages in unsafe and unsecured locations, putting them at risk of theft or damage. Despite specific instructions to leave packages in a designated area, they have ignored these requests and left them exposed to the elements or in plain view of passersby. The lack of professionalism and regard for customer property from ExpressWay Logistics' drivers is unacceptable, and I'm deeply disappointed by their disregard for basic security protocols. | Negative           | Negative       |\n",
            "+----------------------------------------------------------------------------------------------------------------------------------------------------------------------------------------------------------------------------------------------------------------------------------------------------------------------------------------------------------------------------------------------------------------------------------------------------------------------------------------------------------------------------+--------------------+----------------+\n",
            "| ExpressWay Logistics seamlessly manages the complexities of international shipping, making it easy for businesses like mine to expand globally. Their expertise in navigating customs regulations and optimizing shipping routes has saved us time and money. With ExpressWay Logistics, we can confidently serve customers around the world, knowing that our shipments are in capable hands.                                                                                                                             | Positive           | Positive       |\n",
            "+----------------------------------------------------------------------------------------------------------------------------------------------------------------------------------------------------------------------------------------------------------------------------------------------------------------------------------------------------------------------------------------------------------------------------------------------------------------------------------------------------------------------------+--------------------+----------------+\n",
            "+----------------------------------------------------------------------------------------------------------------------------------------------------------------------------------------------------------------------------------------------------------------------------------------------------------------------------------------------------------------------------------------------------------------------------------------------------------------------------------------------------------------------------+--------------------+----------------+\n",
            "| Review                                                                                                                                                                                                                                                                                                                                                                                                                                                                                                                     | Model Prediction   | Ground Truth   |\n",
            "+============================================================================================================================================================================================================================================================================================================================================================================================================================================================================================================================+====================+================+\n",
            "| I was impressed by the speed of delivery offered by ExpressWay Logistics, as my package arrived sooner than expected. The prompt service exceeded my expectations and demonstrated their commitment to timely deliveries.However, upon receiving the package, I discovered that an item was missing from the shipment. Despite contacting customer service to address the issue, I encountered difficulty in obtaining a resolution, leaving me dissatisfied with the overall experience.                                  | Negative           | Negative       |\n",
            "+----------------------------------------------------------------------------------------------------------------------------------------------------------------------------------------------------------------------------------------------------------------------------------------------------------------------------------------------------------------------------------------------------------------------------------------------------------------------------------------------------------------------------+--------------------+----------------+\n",
            "| I was promised to be updated with courier partner's contact details.Nothing happened as said and I faced difficulty finding the contact details and keep a track of my goods.I was scared if I was scammed and thought of raising a support ticket but ended up with a frustrating experience as there was no platform to do so.                                                                                                                                                                                           | Negative           | Negative       |\n",
            "+----------------------------------------------------------------------------------------------------------------------------------------------------------------------------------------------------------------------------------------------------------------------------------------------------------------------------------------------------------------------------------------------------------------------------------------------------------------------------------------------------------------------------+--------------------+----------------+\n",
            "| ExpressWay Logistics' proactive approach to problem-solving sets them apart from other logistics providers. They anticipate potential issues and take proactive steps to mitigate them, ensuring that our shipments arrive on time and in perfect condition. With ExpressWay Logistics, we have a partner we can rely on, no matter what challenges arise.                                                                                                                                                                 | Positive           | Positive       |\n",
            "+----------------------------------------------------------------------------------------------------------------------------------------------------------------------------------------------------------------------------------------------------------------------------------------------------------------------------------------------------------------------------------------------------------------------------------------------------------------------------------------------------------------------------+--------------------+----------------+\n",
            "| What I love most about ExpressWay Logistics is their seamless communication. Whether it's providing updates on the status of my shipment or addressing any concerns I may have, they always keep me informed every step of the way.                                                                                                                                                                                                                                                                                        | Positive           | Positive       |\n",
            "+----------------------------------------------------------------------------------------------------------------------------------------------------------------------------------------------------------------------------------------------------------------------------------------------------------------------------------------------------------------------------------------------------------------------------------------------------------------------------------------------------------------------------+--------------------+----------------+\n",
            "| ExpressWay Logistics' lack of attention to detail is concerning. Simple requests like fragile handling instructions are frequently ignored, resulting in damaged goods upon arrival. It's unacceptable.                                                                                                                                                                                                                                                                                                                    | Negative           | Negative       |\n",
            "+----------------------------------------------------------------------------------------------------------------------------------------------------------------------------------------------------------------------------------------------------------------------------------------------------------------------------------------------------------------------------------------------------------------------------------------------------------------------------------------------------------------------------+--------------------+----------------+\n",
            "| I had a last-minute change to my shipping address, and I was worried it would cause delays. However, ExpressWay Logistics quickly updated the information and ensured that my package arrived at the new location on time.                                                                                                                                                                                                                                                                                                 | Positive           | Positive       |\n",
            "+----------------------------------------------------------------------------------------------------------------------------------------------------------------------------------------------------------------------------------------------------------------------------------------------------------------------------------------------------------------------------------------------------------------------------------------------------------------------------------------------------------------------------+--------------------+----------------+\n",
            "| The customer support team at ExpressWay Logistics was unprofessional and unhelpful when I contacted them regarding a missing parcel. I was left feeling frustrated and disappointed.                                                                                                                                                                                                                                                                                                                                       | Negative           | Negative       |\n",
            "+----------------------------------------------------------------------------------------------------------------------------------------------------------------------------------------------------------------------------------------------------------------------------------------------------------------------------------------------------------------------------------------------------------------------------------------------------------------------------------------------------------------------------+--------------------+----------------+\n",
            "| ExpressWay Logistics is unreliable and untrustworthy. They failed to deliver my parcel on time, and the customer support team was unapologetic and unwilling to assist me in resolving the issue.                                                                                                                                                                                                                                                                                                                          | Negative           | Negative       |\n",
            "+----------------------------------------------------------------------------------------------------------------------------------------------------------------------------------------------------------------------------------------------------------------------------------------------------------------------------------------------------------------------------------------------------------------------------------------------------------------------------------------------------------------------------+--------------------+----------------+\n",
            "| When it comes to packaging materials, ExpressWay Logistics prioritizes quality and durability. I was impressed by the sturdy packaging used to protect my items during transit. Their attention to detail in selecting the right materials for each package ensured that my goods arrived in perfect condition. With ExpressWay Logistics, I can trust that my shipments will be handled with care and arrive safely at their destination.                                                                                 | Positive           | Positive       |\n",
            "+----------------------------------------------------------------------------------------------------------------------------------------------------------------------------------------------------------------------------------------------------------------------------------------------------------------------------------------------------------------------------------------------------------------------------------------------------------------------------------------------------------------------------+--------------------+----------------+\n",
            "| I appreciate the attention to detail that ExpressWay Logistics puts into every aspect of their service, from packaging to delivery to customer support and the promised door to door deliveries.Overall a satisfied service!                                                                                                                                                                                                                                                                                               | Positive           | Positive       |\n",
            "+----------------------------------------------------------------------------------------------------------------------------------------------------------------------------------------------------------------------------------------------------------------------------------------------------------------------------------------------------------------------------------------------------------------------------------------------------------------------------------------------------------------------------+--------------------+----------------+\n",
            "| ExpressWay Logistics' delivery drivers seem to have no regard for punctuality. Despite paying for expedited shipping, my packages are consistently delayed, causing major inconvenience. It's time for them to step up their game.                                                                                                                                                                                                                                                                                         | Negative           | Negative       |\n",
            "+----------------------------------------------------------------------------------------------------------------------------------------------------------------------------------------------------------------------------------------------------------------------------------------------------------------------------------------------------------------------------------------------------------------------------------------------------------------------------------------------------------------------------+--------------------+----------------+\n",
            "| The customer support team at ExpressWay Logistics was unprofessional and unhelpful when I contacted them regarding a missing parcel. I was left feeling frustrated and disappointed as the support team communicated with me that all the items were delivered to me and blamed me for claiming for missing items.                                                                                                                                                                                                         | Negative           | Negative       |\n",
            "+----------------------------------------------------------------------------------------------------------------------------------------------------------------------------------------------------------------------------------------------------------------------------------------------------------------------------------------------------------------------------------------------------------------------------------------------------------------------------------------------------------------------------+--------------------+----------------+\n",
            "| I am extremely disappointed with the service provided by ExpressWay Logistics. My parcel was delivered late, and the packaging was damaged, resulting in the loss of valuable items.                                                                                                                                                                                                                                                                                                                                       | Negative           | Negative       |\n",
            "+----------------------------------------------------------------------------------------------------------------------------------------------------------------------------------------------------------------------------------------------------------------------------------------------------------------------------------------------------------------------------------------------------------------------------------------------------------------------------------------------------------------------------+--------------------+----------------+\n",
            "| As a frequent traveler, I often use ExpressWay Logistics to ship luggage and personal belongings ahead of time. Their door-to-door service and reliable tracking make traveling a breeze.                                                                                                                                                                                                                                                                                                                                  | Positive           | Positive       |\n",
            "+----------------------------------------------------------------------------------------------------------------------------------------------------------------------------------------------------------------------------------------------------------------------------------------------------------------------------------------------------------------------------------------------------------------------------------------------------------------------------------------------------------------------------+--------------------+----------------+\n",
            "| I've been using ExpressWay Logistics for years, but lately, their service quality has declined significantly. Late deliveries and poor communication have become the norm, making me reconsider my loyalty to this company.I am dissatisfied by this level of service provided.Cannot trust again..Overall a disappointed customer!                                                                                                                                                                                        | Negative           | Negative       |\n",
            "+----------------------------------------------------------------------------------------------------------------------------------------------------------------------------------------------------------------------------------------------------------------------------------------------------------------------------------------------------------------------------------------------------------------------------------------------------------------------------------------------------------------------------+--------------------+----------------+\n",
            "| ExpressWay Logistics is my go-to for all my shipping needs. Whether it's a small package or a large shipment, they always deliver on time and with a smile. Thanks for the great service, ExpressWay Logistics!                                                                                                                                                                                                                                                                                                            | Positive           | Positive       |\n",
            "+----------------------------------------------------------------------------------------------------------------------------------------------------------------------------------------------------------------------------------------------------------------------------------------------------------------------------------------------------------------------------------------------------------------------------------------------------------------------------------------------------------------------------+--------------------+----------------+\n",
            "| The attention to detail ExpressWay Logistics puts into packaging materials is truly remarkable. When I received my shipment, I was impressed by the sturdy and secure packaging that ensured the safety of my items during transit. Their use of high-quality materials not only protected my goods from damage but also reflected their commitment to delivering a superior shipping experience. With ExpressWay Logistics, I can trust that my packages will be handled with care from start to finish.                  | Positive           | Positive       |\n",
            "+----------------------------------------------------------------------------------------------------------------------------------------------------------------------------------------------------------------------------------------------------------------------------------------------------------------------------------------------------------------------------------------------------------------------------------------------------------------------------------------------------------------------------+--------------------+----------------+\n",
            "| ExpressWay Logistics' incompetence resulted in a major inconvenience when my package was delivered to the wrong recipient. Despite providing accurate delivery information, the package ended up in the hands of someone else, and efforts to retrieve it were unsuccessful. When I contacted customer service for assistance, I was met with apathy and a lack of urgency. Their failure to rectify the situation in a timely manner is unacceptable, and I will be avoiding their services at all costs.                 | Negative           | Negative       |\n",
            "+----------------------------------------------------------------------------------------------------------------------------------------------------------------------------------------------------------------------------------------------------------------------------------------------------------------------------------------------------------------------------------------------------------------------------------------------------------------------------------------------------------------------------+--------------------+----------------+\n",
            "| ExpressWay Logistics failed to meet my expectations. The delivery was delayed, and the packaging was damaged, resulting in the loss of valuable items.I suffered a lot and will definitely not be a repeat customer.                                                                                                                                                                                                                                                                                                       | Negative           | Negative       |\n",
            "+----------------------------------------------------------------------------------------------------------------------------------------------------------------------------------------------------------------------------------------------------------------------------------------------------------------------------------------------------------------------------------------------------------------------------------------------------------------------------------------------------------------------------+--------------------+----------------+\n",
            "| ExpressWay Logistics' delivery drivers have repeatedly left packages in unsafe and unsecured locations, putting them at risk of theft or damage. Despite specific instructions to leave packages in a designated area, they have ignored these requests and left them exposed to the elements or in plain view of passersby. The lack of professionalism and regard for customer property from ExpressWay Logistics' drivers is unacceptable, and I'm deeply disappointed by their disregard for basic security protocols. | Negative           | Negative       |\n",
            "+----------------------------------------------------------------------------------------------------------------------------------------------------------------------------------------------------------------------------------------------------------------------------------------------------------------------------------------------------------------------------------------------------------------------------------------------------------------------------------------------------------------------------+--------------------+----------------+\n",
            "| ExpressWay Logistics seamlessly manages the complexities of international shipping, making it easy for businesses like mine to expand globally. Their expertise in navigating customs regulations and optimizing shipping routes has saved us time and money. With ExpressWay Logistics, we can confidently serve customers around the world, knowing that our shipments are in capable hands.                                                                                                                             | Positive           | Positive       |\n",
            "+----------------------------------------------------------------------------------------------------------------------------------------------------------------------------------------------------------------------------------------------------------------------------------------------------------------------------------------------------------------------------------------------------------------------------------------------------------------------------------------------------------------------------+--------------------+----------------+\n"
          ]
        },
        {
          "name": "stderr",
          "output_type": "stream",
          "text": [
            " 60%|██████    | 3/5 [01:26<00:58, 29.39s/it]"
          ]
        },
        {
          "name": "stdout",
          "output_type": "stream",
          "text": [
            "+----------------------------------------------------------------------------------------------------------------------------------------------------------------------------------------------------------------------------------------------------------------------------------------------------------------------------------------------------------------------------------------------------------------------------------------------------------------------------------------------------------------------------+--------------------+----------------+\n",
            "| Review                                                                                                                                                                                                                                                                                                                                                                                                                                                                                                                     | Model Prediction   | Ground Truth   |\n",
            "+============================================================================================================================================================================================================================================================================================================================================================================================================================================================================================================================+====================+================+\n",
            "| I was impressed by the speed of delivery offered by ExpressWay Logistics, as my package arrived sooner than expected. The prompt service exceeded my expectations and demonstrated their commitment to timely deliveries.However, upon receiving the package, I discovered that an item was missing from the shipment. Despite contacting customer service to address the issue, I encountered difficulty in obtaining a resolution, leaving me dissatisfied with the overall experience.                                  | Negative           | Negative       |\n",
            "+----------------------------------------------------------------------------------------------------------------------------------------------------------------------------------------------------------------------------------------------------------------------------------------------------------------------------------------------------------------------------------------------------------------------------------------------------------------------------------------------------------------------------+--------------------+----------------+\n",
            "| I was promised to be updated with courier partner's contact details.Nothing happened as said and I faced difficulty finding the contact details and keep a track of my goods.I was scared if I was scammed and thought of raising a support ticket but ended up with a frustrating experience as there was no platform to do so.                                                                                                                                                                                           | Negative           | Negative       |\n",
            "+----------------------------------------------------------------------------------------------------------------------------------------------------------------------------------------------------------------------------------------------------------------------------------------------------------------------------------------------------------------------------------------------------------------------------------------------------------------------------------------------------------------------------+--------------------+----------------+\n",
            "| ExpressWay Logistics' proactive approach to problem-solving sets them apart from other logistics providers. They anticipate potential issues and take proactive steps to mitigate them, ensuring that our shipments arrive on time and in perfect condition. With ExpressWay Logistics, we have a partner we can rely on, no matter what challenges arise.                                                                                                                                                                 | Positive           | Positive       |\n",
            "+----------------------------------------------------------------------------------------------------------------------------------------------------------------------------------------------------------------------------------------------------------------------------------------------------------------------------------------------------------------------------------------------------------------------------------------------------------------------------------------------------------------------------+--------------------+----------------+\n",
            "| What I love most about ExpressWay Logistics is their seamless communication. Whether it's providing updates on the status of my shipment or addressing any concerns I may have, they always keep me informed every step of the way.                                                                                                                                                                                                                                                                                        | Positive           | Positive       |\n",
            "+----------------------------------------------------------------------------------------------------------------------------------------------------------------------------------------------------------------------------------------------------------------------------------------------------------------------------------------------------------------------------------------------------------------------------------------------------------------------------------------------------------------------------+--------------------+----------------+\n",
            "| ExpressWay Logistics' lack of attention to detail is concerning. Simple requests like fragile handling instructions are frequently ignored, resulting in damaged goods upon arrival. It's unacceptable.                                                                                                                                                                                                                                                                                                                    | Negative           | Negative       |\n",
            "+----------------------------------------------------------------------------------------------------------------------------------------------------------------------------------------------------------------------------------------------------------------------------------------------------------------------------------------------------------------------------------------------------------------------------------------------------------------------------------------------------------------------------+--------------------+----------------+\n",
            "| I had a last-minute change to my shipping address, and I was worried it would cause delays. However, ExpressWay Logistics quickly updated the information and ensured that my package arrived at the new location on time.                                                                                                                                                                                                                                                                                                 | Positive           | Positive       |\n",
            "+----------------------------------------------------------------------------------------------------------------------------------------------------------------------------------------------------------------------------------------------------------------------------------------------------------------------------------------------------------------------------------------------------------------------------------------------------------------------------------------------------------------------------+--------------------+----------------+\n",
            "| The customer support team at ExpressWay Logistics was unprofessional and unhelpful when I contacted them regarding a missing parcel. I was left feeling frustrated and disappointed.                                                                                                                                                                                                                                                                                                                                       | Negative           | Negative       |\n",
            "+----------------------------------------------------------------------------------------------------------------------------------------------------------------------------------------------------------------------------------------------------------------------------------------------------------------------------------------------------------------------------------------------------------------------------------------------------------------------------------------------------------------------------+--------------------+----------------+\n",
            "| ExpressWay Logistics is unreliable and untrustworthy. They failed to deliver my parcel on time, and the customer support team was unapologetic and unwilling to assist me in resolving the issue.                                                                                                                                                                                                                                                                                                                          | Negative           | Negative       |\n",
            "+----------------------------------------------------------------------------------------------------------------------------------------------------------------------------------------------------------------------------------------------------------------------------------------------------------------------------------------------------------------------------------------------------------------------------------------------------------------------------------------------------------------------------+--------------------+----------------+\n",
            "| When it comes to packaging materials, ExpressWay Logistics prioritizes quality and durability. I was impressed by the sturdy packaging used to protect my items during transit. Their attention to detail in selecting the right materials for each package ensured that my goods arrived in perfect condition. With ExpressWay Logistics, I can trust that my shipments will be handled with care and arrive safely at their destination.                                                                                 | Positive           | Positive       |\n",
            "+----------------------------------------------------------------------------------------------------------------------------------------------------------------------------------------------------------------------------------------------------------------------------------------------------------------------------------------------------------------------------------------------------------------------------------------------------------------------------------------------------------------------------+--------------------+----------------+\n",
            "| I appreciate the attention to detail that ExpressWay Logistics puts into every aspect of their service, from packaging to delivery to customer support and the promised door to door deliveries.Overall a satisfied service!                                                                                                                                                                                                                                                                                               | Positive           | Positive       |\n",
            "+----------------------------------------------------------------------------------------------------------------------------------------------------------------------------------------------------------------------------------------------------------------------------------------------------------------------------------------------------------------------------------------------------------------------------------------------------------------------------------------------------------------------------+--------------------+----------------+\n",
            "| ExpressWay Logistics' delivery drivers seem to have no regard for punctuality. Despite paying for expedited shipping, my packages are consistently delayed, causing major inconvenience. It's time for them to step up their game.                                                                                                                                                                                                                                                                                         | Negative           | Negative       |\n",
            "+----------------------------------------------------------------------------------------------------------------------------------------------------------------------------------------------------------------------------------------------------------------------------------------------------------------------------------------------------------------------------------------------------------------------------------------------------------------------------------------------------------------------------+--------------------+----------------+\n",
            "| The customer support team at ExpressWay Logistics was unprofessional and unhelpful when I contacted them regarding a missing parcel. I was left feeling frustrated and disappointed as the support team communicated with me that all the items were delivered to me and blamed me for claiming for missing items.                                                                                                                                                                                                         | Negative           | Negative       |\n",
            "+----------------------------------------------------------------------------------------------------------------------------------------------------------------------------------------------------------------------------------------------------------------------------------------------------------------------------------------------------------------------------------------------------------------------------------------------------------------------------------------------------------------------------+--------------------+----------------+\n",
            "| I am extremely disappointed with the service provided by ExpressWay Logistics. My parcel was delivered late, and the packaging was damaged, resulting in the loss of valuable items.                                                                                                                                                                                                                                                                                                                                       | Negative           | Negative       |\n",
            "+----------------------------------------------------------------------------------------------------------------------------------------------------------------------------------------------------------------------------------------------------------------------------------------------------------------------------------------------------------------------------------------------------------------------------------------------------------------------------------------------------------------------------+--------------------+----------------+\n",
            "| As a frequent traveler, I often use ExpressWay Logistics to ship luggage and personal belongings ahead of time. Their door-to-door service and reliable tracking make traveling a breeze.                                                                                                                                                                                                                                                                                                                                  | Positive           | Positive       |\n",
            "+----------------------------------------------------------------------------------------------------------------------------------------------------------------------------------------------------------------------------------------------------------------------------------------------------------------------------------------------------------------------------------------------------------------------------------------------------------------------------------------------------------------------------+--------------------+----------------+\n",
            "| I've been using ExpressWay Logistics for years, but lately, their service quality has declined significantly. Late deliveries and poor communication have become the norm, making me reconsider my loyalty to this company.I am dissatisfied by this level of service provided.Cannot trust again..Overall a disappointed customer!                                                                                                                                                                                        | Negative           | Negative       |\n",
            "+----------------------------------------------------------------------------------------------------------------------------------------------------------------------------------------------------------------------------------------------------------------------------------------------------------------------------------------------------------------------------------------------------------------------------------------------------------------------------------------------------------------------------+--------------------+----------------+\n",
            "| ExpressWay Logistics is my go-to for all my shipping needs. Whether it's a small package or a large shipment, they always deliver on time and with a smile. Thanks for the great service, ExpressWay Logistics!                                                                                                                                                                                                                                                                                                            | Positive           | Positive       |\n",
            "+----------------------------------------------------------------------------------------------------------------------------------------------------------------------------------------------------------------------------------------------------------------------------------------------------------------------------------------------------------------------------------------------------------------------------------------------------------------------------------------------------------------------------+--------------------+----------------+\n",
            "| The attention to detail ExpressWay Logistics puts into packaging materials is truly remarkable. When I received my shipment, I was impressed by the sturdy and secure packaging that ensured the safety of my items during transit. Their use of high-quality materials not only protected my goods from damage but also reflected their commitment to delivering a superior shipping experience. With ExpressWay Logistics, I can trust that my packages will be handled with care from start to finish.                  | Positive           | Positive       |\n",
            "+----------------------------------------------------------------------------------------------------------------------------------------------------------------------------------------------------------------------------------------------------------------------------------------------------------------------------------------------------------------------------------------------------------------------------------------------------------------------------------------------------------------------------+--------------------+----------------+\n",
            "| ExpressWay Logistics' incompetence resulted in a major inconvenience when my package was delivered to the wrong recipient. Despite providing accurate delivery information, the package ended up in the hands of someone else, and efforts to retrieve it were unsuccessful. When I contacted customer service for assistance, I was met with apathy and a lack of urgency. Their failure to rectify the situation in a timely manner is unacceptable, and I will be avoiding their services at all costs.                 | Negative           | Negative       |\n",
            "+----------------------------------------------------------------------------------------------------------------------------------------------------------------------------------------------------------------------------------------------------------------------------------------------------------------------------------------------------------------------------------------------------------------------------------------------------------------------------------------------------------------------------+--------------------+----------------+\n",
            "| ExpressWay Logistics failed to meet my expectations. The delivery was delayed, and the packaging was damaged, resulting in the loss of valuable items.I suffered a lot and will definitely not be a repeat customer.                                                                                                                                                                                                                                                                                                       | Negative           | Negative       |\n",
            "+----------------------------------------------------------------------------------------------------------------------------------------------------------------------------------------------------------------------------------------------------------------------------------------------------------------------------------------------------------------------------------------------------------------------------------------------------------------------------------------------------------------------------+--------------------+----------------+\n",
            "| ExpressWay Logistics' delivery drivers have repeatedly left packages in unsafe and unsecured locations, putting them at risk of theft or damage. Despite specific instructions to leave packages in a designated area, they have ignored these requests and left them exposed to the elements or in plain view of passersby. The lack of professionalism and regard for customer property from ExpressWay Logistics' drivers is unacceptable, and I'm deeply disappointed by their disregard for basic security protocols. | Negative           | Negative       |\n",
            "+----------------------------------------------------------------------------------------------------------------------------------------------------------------------------------------------------------------------------------------------------------------------------------------------------------------------------------------------------------------------------------------------------------------------------------------------------------------------------------------------------------------------------+--------------------+----------------+\n",
            "| ExpressWay Logistics seamlessly manages the complexities of international shipping, making it easy for businesses like mine to expand globally. Their expertise in navigating customs regulations and optimizing shipping routes has saved us time and money. With ExpressWay Logistics, we can confidently serve customers around the world, knowing that our shipments are in capable hands.                                                                                                                             | Positive           | Positive       |\n",
            "+----------------------------------------------------------------------------------------------------------------------------------------------------------------------------------------------------------------------------------------------------------------------------------------------------------------------------------------------------------------------------------------------------------------------------------------------------------------------------------------------------------------------------+--------------------+----------------+\n",
            "+----------------------------------------------------------------------------------------------------------------------------------------------------------------------------------------------------------------------------------------------------------------------------------------------------------------------------------------------------------------------------------------------------------------------------------------------------------------------------------------------------------------------------+--------------------+----------------+\n",
            "| Review                                                                                                                                                                                                                                                                                                                                                                                                                                                                                                                     | Model Prediction   | Ground Truth   |\n",
            "+============================================================================================================================================================================================================================================================================================================================================================================================================================================================================================================================+====================+================+\n",
            "| I was impressed by the speed of delivery offered by ExpressWay Logistics, as my package arrived sooner than expected. The prompt service exceeded my expectations and demonstrated their commitment to timely deliveries.However, upon receiving the package, I discovered that an item was missing from the shipment. Despite contacting customer service to address the issue, I encountered difficulty in obtaining a resolution, leaving me dissatisfied with the overall experience.                                  | Negative           | Negative       |\n",
            "+----------------------------------------------------------------------------------------------------------------------------------------------------------------------------------------------------------------------------------------------------------------------------------------------------------------------------------------------------------------------------------------------------------------------------------------------------------------------------------------------------------------------------+--------------------+----------------+\n",
            "| I was promised to be updated with courier partner's contact details.Nothing happened as said and I faced difficulty finding the contact details and keep a track of my goods.I was scared if I was scammed and thought of raising a support ticket but ended up with a frustrating experience as there was no platform to do so.                                                                                                                                                                                           | Negative           | Negative       |\n",
            "+----------------------------------------------------------------------------------------------------------------------------------------------------------------------------------------------------------------------------------------------------------------------------------------------------------------------------------------------------------------------------------------------------------------------------------------------------------------------------------------------------------------------------+--------------------+----------------+\n",
            "| ExpressWay Logistics' proactive approach to problem-solving sets them apart from other logistics providers. They anticipate potential issues and take proactive steps to mitigate them, ensuring that our shipments arrive on time and in perfect condition. With ExpressWay Logistics, we have a partner we can rely on, no matter what challenges arise.                                                                                                                                                                 | Positive           | Positive       |\n",
            "+----------------------------------------------------------------------------------------------------------------------------------------------------------------------------------------------------------------------------------------------------------------------------------------------------------------------------------------------------------------------------------------------------------------------------------------------------------------------------------------------------------------------------+--------------------+----------------+\n",
            "| What I love most about ExpressWay Logistics is their seamless communication. Whether it's providing updates on the status of my shipment or addressing any concerns I may have, they always keep me informed every step of the way.                                                                                                                                                                                                                                                                                        | Positive           | Positive       |\n",
            "+----------------------------------------------------------------------------------------------------------------------------------------------------------------------------------------------------------------------------------------------------------------------------------------------------------------------------------------------------------------------------------------------------------------------------------------------------------------------------------------------------------------------------+--------------------+----------------+\n",
            "| ExpressWay Logistics' lack of attention to detail is concerning. Simple requests like fragile handling instructions are frequently ignored, resulting in damaged goods upon arrival. It's unacceptable.                                                                                                                                                                                                                                                                                                                    | Negative           | Negative       |\n",
            "+----------------------------------------------------------------------------------------------------------------------------------------------------------------------------------------------------------------------------------------------------------------------------------------------------------------------------------------------------------------------------------------------------------------------------------------------------------------------------------------------------------------------------+--------------------+----------------+\n",
            "| I had a last-minute change to my shipping address, and I was worried it would cause delays. However, ExpressWay Logistics quickly updated the information and ensured that my package arrived at the new location on time.                                                                                                                                                                                                                                                                                                 | Positive           | Positive       |\n",
            "+----------------------------------------------------------------------------------------------------------------------------------------------------------------------------------------------------------------------------------------------------------------------------------------------------------------------------------------------------------------------------------------------------------------------------------------------------------------------------------------------------------------------------+--------------------+----------------+\n",
            "| The customer support team at ExpressWay Logistics was unprofessional and unhelpful when I contacted them regarding a missing parcel. I was left feeling frustrated and disappointed.                                                                                                                                                                                                                                                                                                                                       | Negative           | Negative       |\n",
            "+----------------------------------------------------------------------------------------------------------------------------------------------------------------------------------------------------------------------------------------------------------------------------------------------------------------------------------------------------------------------------------------------------------------------------------------------------------------------------------------------------------------------------+--------------------+----------------+\n",
            "| ExpressWay Logistics is unreliable and untrustworthy. They failed to deliver my parcel on time, and the customer support team was unapologetic and unwilling to assist me in resolving the issue.                                                                                                                                                                                                                                                                                                                          | Negative           | Negative       |\n",
            "+----------------------------------------------------------------------------------------------------------------------------------------------------------------------------------------------------------------------------------------------------------------------------------------------------------------------------------------------------------------------------------------------------------------------------------------------------------------------------------------------------------------------------+--------------------+----------------+\n",
            "| When it comes to packaging materials, ExpressWay Logistics prioritizes quality and durability. I was impressed by the sturdy packaging used to protect my items during transit. Their attention to detail in selecting the right materials for each package ensured that my goods arrived in perfect condition. With ExpressWay Logistics, I can trust that my shipments will be handled with care and arrive safely at their destination.                                                                                 | Positive           | Positive       |\n",
            "+----------------------------------------------------------------------------------------------------------------------------------------------------------------------------------------------------------------------------------------------------------------------------------------------------------------------------------------------------------------------------------------------------------------------------------------------------------------------------------------------------------------------------+--------------------+----------------+\n",
            "| I appreciate the attention to detail that ExpressWay Logistics puts into every aspect of their service, from packaging to delivery to customer support and the promised door to door deliveries.Overall a satisfied service!                                                                                                                                                                                                                                                                                               | Positive           | Positive       |\n",
            "+----------------------------------------------------------------------------------------------------------------------------------------------------------------------------------------------------------------------------------------------------------------------------------------------------------------------------------------------------------------------------------------------------------------------------------------------------------------------------------------------------------------------------+--------------------+----------------+\n",
            "| ExpressWay Logistics' delivery drivers seem to have no regard for punctuality. Despite paying for expedited shipping, my packages are consistently delayed, causing major inconvenience. It's time for them to step up their game.                                                                                                                                                                                                                                                                                         | Negative           | Negative       |\n",
            "+----------------------------------------------------------------------------------------------------------------------------------------------------------------------------------------------------------------------------------------------------------------------------------------------------------------------------------------------------------------------------------------------------------------------------------------------------------------------------------------------------------------------------+--------------------+----------------+\n",
            "| The customer support team at ExpressWay Logistics was unprofessional and unhelpful when I contacted them regarding a missing parcel. I was left feeling frustrated and disappointed as the support team communicated with me that all the items were delivered to me and blamed me for claiming for missing items.                                                                                                                                                                                                         | Negative           | Negative       |\n",
            "+----------------------------------------------------------------------------------------------------------------------------------------------------------------------------------------------------------------------------------------------------------------------------------------------------------------------------------------------------------------------------------------------------------------------------------------------------------------------------------------------------------------------------+--------------------+----------------+\n",
            "| I am extremely disappointed with the service provided by ExpressWay Logistics. My parcel was delivered late, and the packaging was damaged, resulting in the loss of valuable items.                                                                                                                                                                                                                                                                                                                                       | Negative           | Negative       |\n",
            "+----------------------------------------------------------------------------------------------------------------------------------------------------------------------------------------------------------------------------------------------------------------------------------------------------------------------------------------------------------------------------------------------------------------------------------------------------------------------------------------------------------------------------+--------------------+----------------+\n",
            "| As a frequent traveler, I often use ExpressWay Logistics to ship luggage and personal belongings ahead of time. Their door-to-door service and reliable tracking make traveling a breeze.                                                                                                                                                                                                                                                                                                                                  | Positive           | Positive       |\n",
            "+----------------------------------------------------------------------------------------------------------------------------------------------------------------------------------------------------------------------------------------------------------------------------------------------------------------------------------------------------------------------------------------------------------------------------------------------------------------------------------------------------------------------------+--------------------+----------------+\n",
            "| I've been using ExpressWay Logistics for years, but lately, their service quality has declined significantly. Late deliveries and poor communication have become the norm, making me reconsider my loyalty to this company.I am dissatisfied by this level of service provided.Cannot trust again..Overall a disappointed customer!                                                                                                                                                                                        | Negative           | Negative       |\n",
            "+----------------------------------------------------------------------------------------------------------------------------------------------------------------------------------------------------------------------------------------------------------------------------------------------------------------------------------------------------------------------------------------------------------------------------------------------------------------------------------------------------------------------------+--------------------+----------------+\n",
            "| ExpressWay Logistics is my go-to for all my shipping needs. Whether it's a small package or a large shipment, they always deliver on time and with a smile. Thanks for the great service, ExpressWay Logistics!                                                                                                                                                                                                                                                                                                            | Positive           | Positive       |\n",
            "+----------------------------------------------------------------------------------------------------------------------------------------------------------------------------------------------------------------------------------------------------------------------------------------------------------------------------------------------------------------------------------------------------------------------------------------------------------------------------------------------------------------------------+--------------------+----------------+\n",
            "| The attention to detail ExpressWay Logistics puts into packaging materials is truly remarkable. When I received my shipment, I was impressed by the sturdy and secure packaging that ensured the safety of my items during transit. Their use of high-quality materials not only protected my goods from damage but also reflected their commitment to delivering a superior shipping experience. With ExpressWay Logistics, I can trust that my packages will be handled with care from start to finish.                  | Positive           | Positive       |\n",
            "+----------------------------------------------------------------------------------------------------------------------------------------------------------------------------------------------------------------------------------------------------------------------------------------------------------------------------------------------------------------------------------------------------------------------------------------------------------------------------------------------------------------------------+--------------------+----------------+\n",
            "| ExpressWay Logistics' incompetence resulted in a major inconvenience when my package was delivered to the wrong recipient. Despite providing accurate delivery information, the package ended up in the hands of someone else, and efforts to retrieve it were unsuccessful. When I contacted customer service for assistance, I was met with apathy and a lack of urgency. Their failure to rectify the situation in a timely manner is unacceptable, and I will be avoiding their services at all costs.                 | Negative           | Negative       |\n",
            "+----------------------------------------------------------------------------------------------------------------------------------------------------------------------------------------------------------------------------------------------------------------------------------------------------------------------------------------------------------------------------------------------------------------------------------------------------------------------------------------------------------------------------+--------------------+----------------+\n",
            "| ExpressWay Logistics failed to meet my expectations. The delivery was delayed, and the packaging was damaged, resulting in the loss of valuable items.I suffered a lot and will definitely not be a repeat customer.                                                                                                                                                                                                                                                                                                       | Negative           | Negative       |\n",
            "+----------------------------------------------------------------------------------------------------------------------------------------------------------------------------------------------------------------------------------------------------------------------------------------------------------------------------------------------------------------------------------------------------------------------------------------------------------------------------------------------------------------------------+--------------------+----------------+\n",
            "| ExpressWay Logistics' delivery drivers have repeatedly left packages in unsafe and unsecured locations, putting them at risk of theft or damage. Despite specific instructions to leave packages in a designated area, they have ignored these requests and left them exposed to the elements or in plain view of passersby. The lack of professionalism and regard for customer property from ExpressWay Logistics' drivers is unacceptable, and I'm deeply disappointed by their disregard for basic security protocols. | Negative           | Negative       |\n",
            "+----------------------------------------------------------------------------------------------------------------------------------------------------------------------------------------------------------------------------------------------------------------------------------------------------------------------------------------------------------------------------------------------------------------------------------------------------------------------------------------------------------------------------+--------------------+----------------+\n",
            "| ExpressWay Logistics seamlessly manages the complexities of international shipping, making it easy for businesses like mine to expand globally. Their expertise in navigating customs regulations and optimizing shipping routes has saved us time and money. With ExpressWay Logistics, we can confidently serve customers around the world, knowing that our shipments are in capable hands.                                                                                                                             | Positive           | Positive       |\n",
            "+----------------------------------------------------------------------------------------------------------------------------------------------------------------------------------------------------------------------------------------------------------------------------------------------------------------------------------------------------------------------------------------------------------------------------------------------------------------------------------------------------------------------------+--------------------+----------------+\n"
          ]
        },
        {
          "name": "stderr",
          "output_type": "stream",
          "text": [
            " 80%|████████  | 4/5 [01:46<00:25, 25.61s/it]"
          ]
        },
        {
          "name": "stdout",
          "output_type": "stream",
          "text": [
            "+----------------------------------------------------------------------------------------------------------------------------------------------------------------------------------------------------------------------------------------------------------------------------------------------------------------------------------------------------------------------------------------------------------------------------------------------------------------------------------------------------------------------------+--------------------+----------------+\n",
            "| Review                                                                                                                                                                                                                                                                                                                                                                                                                                                                                                                     | Model Prediction   | Ground Truth   |\n",
            "+============================================================================================================================================================================================================================================================================================================================================================================================================================================================================================================================+====================+================+\n",
            "| I was impressed by the speed of delivery offered by ExpressWay Logistics, as my package arrived sooner than expected. The prompt service exceeded my expectations and demonstrated their commitment to timely deliveries.However, upon receiving the package, I discovered that an item was missing from the shipment. Despite contacting customer service to address the issue, I encountered difficulty in obtaining a resolution, leaving me dissatisfied with the overall experience.                                  | Negative           | Negative       |\n",
            "+----------------------------------------------------------------------------------------------------------------------------------------------------------------------------------------------------------------------------------------------------------------------------------------------------------------------------------------------------------------------------------------------------------------------------------------------------------------------------------------------------------------------------+--------------------+----------------+\n",
            "| I was promised to be updated with courier partner's contact details.Nothing happened as said and I faced difficulty finding the contact details and keep a track of my goods.I was scared if I was scammed and thought of raising a support ticket but ended up with a frustrating experience as there was no platform to do so.                                                                                                                                                                                           | Negative           | Negative       |\n",
            "+----------------------------------------------------------------------------------------------------------------------------------------------------------------------------------------------------------------------------------------------------------------------------------------------------------------------------------------------------------------------------------------------------------------------------------------------------------------------------------------------------------------------------+--------------------+----------------+\n",
            "| ExpressWay Logistics' proactive approach to problem-solving sets them apart from other logistics providers. They anticipate potential issues and take proactive steps to mitigate them, ensuring that our shipments arrive on time and in perfect condition. With ExpressWay Logistics, we have a partner we can rely on, no matter what challenges arise.                                                                                                                                                                 | Positive           | Positive       |\n",
            "+----------------------------------------------------------------------------------------------------------------------------------------------------------------------------------------------------------------------------------------------------------------------------------------------------------------------------------------------------------------------------------------------------------------------------------------------------------------------------------------------------------------------------+--------------------+----------------+\n",
            "| What I love most about ExpressWay Logistics is their seamless communication. Whether it's providing updates on the status of my shipment or addressing any concerns I may have, they always keep me informed every step of the way.                                                                                                                                                                                                                                                                                        | Positive           | Positive       |\n",
            "+----------------------------------------------------------------------------------------------------------------------------------------------------------------------------------------------------------------------------------------------------------------------------------------------------------------------------------------------------------------------------------------------------------------------------------------------------------------------------------------------------------------------------+--------------------+----------------+\n",
            "| ExpressWay Logistics' lack of attention to detail is concerning. Simple requests like fragile handling instructions are frequently ignored, resulting in damaged goods upon arrival. It's unacceptable.                                                                                                                                                                                                                                                                                                                    | Negative           | Negative       |\n",
            "+----------------------------------------------------------------------------------------------------------------------------------------------------------------------------------------------------------------------------------------------------------------------------------------------------------------------------------------------------------------------------------------------------------------------------------------------------------------------------------------------------------------------------+--------------------+----------------+\n",
            "| I had a last-minute change to my shipping address, and I was worried it would cause delays. However, ExpressWay Logistics quickly updated the information and ensured that my package arrived at the new location on time.                                                                                                                                                                                                                                                                                                 | Positive           | Positive       |\n",
            "+----------------------------------------------------------------------------------------------------------------------------------------------------------------------------------------------------------------------------------------------------------------------------------------------------------------------------------------------------------------------------------------------------------------------------------------------------------------------------------------------------------------------------+--------------------+----------------+\n",
            "| The customer support team at ExpressWay Logistics was unprofessional and unhelpful when I contacted them regarding a missing parcel. I was left feeling frustrated and disappointed.                                                                                                                                                                                                                                                                                                                                       | Negative           | Negative       |\n",
            "+----------------------------------------------------------------------------------------------------------------------------------------------------------------------------------------------------------------------------------------------------------------------------------------------------------------------------------------------------------------------------------------------------------------------------------------------------------------------------------------------------------------------------+--------------------+----------------+\n",
            "| ExpressWay Logistics is unreliable and untrustworthy. They failed to deliver my parcel on time, and the customer support team was unapologetic and unwilling to assist me in resolving the issue.                                                                                                                                                                                                                                                                                                                          | Negative           | Negative       |\n",
            "+----------------------------------------------------------------------------------------------------------------------------------------------------------------------------------------------------------------------------------------------------------------------------------------------------------------------------------------------------------------------------------------------------------------------------------------------------------------------------------------------------------------------------+--------------------+----------------+\n",
            "| When it comes to packaging materials, ExpressWay Logistics prioritizes quality and durability. I was impressed by the sturdy packaging used to protect my items during transit. Their attention to detail in selecting the right materials for each package ensured that my goods arrived in perfect condition. With ExpressWay Logistics, I can trust that my shipments will be handled with care and arrive safely at their destination.                                                                                 | Positive           | Positive       |\n",
            "+----------------------------------------------------------------------------------------------------------------------------------------------------------------------------------------------------------------------------------------------------------------------------------------------------------------------------------------------------------------------------------------------------------------------------------------------------------------------------------------------------------------------------+--------------------+----------------+\n",
            "| I appreciate the attention to detail that ExpressWay Logistics puts into every aspect of their service, from packaging to delivery to customer support and the promised door to door deliveries.Overall a satisfied service!                                                                                                                                                                                                                                                                                               | Positive           | Positive       |\n",
            "+----------------------------------------------------------------------------------------------------------------------------------------------------------------------------------------------------------------------------------------------------------------------------------------------------------------------------------------------------------------------------------------------------------------------------------------------------------------------------------------------------------------------------+--------------------+----------------+\n",
            "| ExpressWay Logistics' delivery drivers seem to have no regard for punctuality. Despite paying for expedited shipping, my packages are consistently delayed, causing major inconvenience. It's time for them to step up their game.                                                                                                                                                                                                                                                                                         | Negative           | Negative       |\n",
            "+----------------------------------------------------------------------------------------------------------------------------------------------------------------------------------------------------------------------------------------------------------------------------------------------------------------------------------------------------------------------------------------------------------------------------------------------------------------------------------------------------------------------------+--------------------+----------------+\n",
            "| The customer support team at ExpressWay Logistics was unprofessional and unhelpful when I contacted them regarding a missing parcel. I was left feeling frustrated and disappointed as the support team communicated with me that all the items were delivered to me and blamed me for claiming for missing items.                                                                                                                                                                                                         | Negative           | Negative       |\n",
            "+----------------------------------------------------------------------------------------------------------------------------------------------------------------------------------------------------------------------------------------------------------------------------------------------------------------------------------------------------------------------------------------------------------------------------------------------------------------------------------------------------------------------------+--------------------+----------------+\n",
            "| I am extremely disappointed with the service provided by ExpressWay Logistics. My parcel was delivered late, and the packaging was damaged, resulting in the loss of valuable items.                                                                                                                                                                                                                                                                                                                                       | Negative           | Negative       |\n",
            "+----------------------------------------------------------------------------------------------------------------------------------------------------------------------------------------------------------------------------------------------------------------------------------------------------------------------------------------------------------------------------------------------------------------------------------------------------------------------------------------------------------------------------+--------------------+----------------+\n",
            "| As a frequent traveler, I often use ExpressWay Logistics to ship luggage and personal belongings ahead of time. Their door-to-door service and reliable tracking make traveling a breeze.                                                                                                                                                                                                                                                                                                                                  | Positive           | Positive       |\n",
            "+----------------------------------------------------------------------------------------------------------------------------------------------------------------------------------------------------------------------------------------------------------------------------------------------------------------------------------------------------------------------------------------------------------------------------------------------------------------------------------------------------------------------------+--------------------+----------------+\n",
            "| I've been using ExpressWay Logistics for years, but lately, their service quality has declined significantly. Late deliveries and poor communication have become the norm, making me reconsider my loyalty to this company.I am dissatisfied by this level of service provided.Cannot trust again..Overall a disappointed customer!                                                                                                                                                                                        | Negative           | Negative       |\n",
            "+----------------------------------------------------------------------------------------------------------------------------------------------------------------------------------------------------------------------------------------------------------------------------------------------------------------------------------------------------------------------------------------------------------------------------------------------------------------------------------------------------------------------------+--------------------+----------------+\n",
            "| ExpressWay Logistics is my go-to for all my shipping needs. Whether it's a small package or a large shipment, they always deliver on time and with a smile. Thanks for the great service, ExpressWay Logistics!                                                                                                                                                                                                                                                                                                            | Positive           | Positive       |\n",
            "+----------------------------------------------------------------------------------------------------------------------------------------------------------------------------------------------------------------------------------------------------------------------------------------------------------------------------------------------------------------------------------------------------------------------------------------------------------------------------------------------------------------------------+--------------------+----------------+\n",
            "| The attention to detail ExpressWay Logistics puts into packaging materials is truly remarkable. When I received my shipment, I was impressed by the sturdy and secure packaging that ensured the safety of my items during transit. Their use of high-quality materials not only protected my goods from damage but also reflected their commitment to delivering a superior shipping experience. With ExpressWay Logistics, I can trust that my packages will be handled with care from start to finish.                  | Positive           | Positive       |\n",
            "+----------------------------------------------------------------------------------------------------------------------------------------------------------------------------------------------------------------------------------------------------------------------------------------------------------------------------------------------------------------------------------------------------------------------------------------------------------------------------------------------------------------------------+--------------------+----------------+\n",
            "| ExpressWay Logistics' incompetence resulted in a major inconvenience when my package was delivered to the wrong recipient. Despite providing accurate delivery information, the package ended up in the hands of someone else, and efforts to retrieve it were unsuccessful. When I contacted customer service for assistance, I was met with apathy and a lack of urgency. Their failure to rectify the situation in a timely manner is unacceptable, and I will be avoiding their services at all costs.                 | Negative           | Negative       |\n",
            "+----------------------------------------------------------------------------------------------------------------------------------------------------------------------------------------------------------------------------------------------------------------------------------------------------------------------------------------------------------------------------------------------------------------------------------------------------------------------------------------------------------------------------+--------------------+----------------+\n",
            "| ExpressWay Logistics failed to meet my expectations. The delivery was delayed, and the packaging was damaged, resulting in the loss of valuable items.I suffered a lot and will definitely not be a repeat customer.                                                                                                                                                                                                                                                                                                       | Negative           | Negative       |\n",
            "+----------------------------------------------------------------------------------------------------------------------------------------------------------------------------------------------------------------------------------------------------------------------------------------------------------------------------------------------------------------------------------------------------------------------------------------------------------------------------------------------------------------------------+--------------------+----------------+\n",
            "| ExpressWay Logistics' delivery drivers have repeatedly left packages in unsafe and unsecured locations, putting them at risk of theft or damage. Despite specific instructions to leave packages in a designated area, they have ignored these requests and left them exposed to the elements or in plain view of passersby. The lack of professionalism and regard for customer property from ExpressWay Logistics' drivers is unacceptable, and I'm deeply disappointed by their disregard for basic security protocols. | Negative           | Negative       |\n",
            "+----------------------------------------------------------------------------------------------------------------------------------------------------------------------------------------------------------------------------------------------------------------------------------------------------------------------------------------------------------------------------------------------------------------------------------------------------------------------------------------------------------------------------+--------------------+----------------+\n",
            "| ExpressWay Logistics seamlessly manages the complexities of international shipping, making it easy for businesses like mine to expand globally. Their expertise in navigating customs regulations and optimizing shipping routes has saved us time and money. With ExpressWay Logistics, we can confidently serve customers around the world, knowing that our shipments are in capable hands.                                                                                                                             | Positive           | Positive       |\n",
            "+----------------------------------------------------------------------------------------------------------------------------------------------------------------------------------------------------------------------------------------------------------------------------------------------------------------------------------------------------------------------------------------------------------------------------------------------------------------------------------------------------------------------------+--------------------+----------------+\n",
            "+----------------------------------------------------------------------------------------------------------------------------------------------------------------------------------------------------------------------------------------------------------------------------------------------------------------------------------------------------------------------------------------------------------------------------------------------------------------------------------------------------------------------------+--------------------+----------------+\n",
            "| Review                                                                                                                                                                                                                                                                                                                                                                                                                                                                                                                     | Model Prediction   | Ground Truth   |\n",
            "+============================================================================================================================================================================================================================================================================================================================================================================================================================================================================================================================+====================+================+\n",
            "| I was impressed by the speed of delivery offered by ExpressWay Logistics, as my package arrived sooner than expected. The prompt service exceeded my expectations and demonstrated their commitment to timely deliveries.However, upon receiving the package, I discovered that an item was missing from the shipment. Despite contacting customer service to address the issue, I encountered difficulty in obtaining a resolution, leaving me dissatisfied with the overall experience.                                  | Negative           | Negative       |\n",
            "+----------------------------------------------------------------------------------------------------------------------------------------------------------------------------------------------------------------------------------------------------------------------------------------------------------------------------------------------------------------------------------------------------------------------------------------------------------------------------------------------------------------------------+--------------------+----------------+\n",
            "| I was promised to be updated with courier partner's contact details.Nothing happened as said and I faced difficulty finding the contact details and keep a track of my goods.I was scared if I was scammed and thought of raising a support ticket but ended up with a frustrating experience as there was no platform to do so.                                                                                                                                                                                           | Negative           | Negative       |\n",
            "+----------------------------------------------------------------------------------------------------------------------------------------------------------------------------------------------------------------------------------------------------------------------------------------------------------------------------------------------------------------------------------------------------------------------------------------------------------------------------------------------------------------------------+--------------------+----------------+\n",
            "| ExpressWay Logistics' proactive approach to problem-solving sets them apart from other logistics providers. They anticipate potential issues and take proactive steps to mitigate them, ensuring that our shipments arrive on time and in perfect condition. With ExpressWay Logistics, we have a partner we can rely on, no matter what challenges arise.                                                                                                                                                                 | Positive           | Positive       |\n",
            "+----------------------------------------------------------------------------------------------------------------------------------------------------------------------------------------------------------------------------------------------------------------------------------------------------------------------------------------------------------------------------------------------------------------------------------------------------------------------------------------------------------------------------+--------------------+----------------+\n",
            "| What I love most about ExpressWay Logistics is their seamless communication. Whether it's providing updates on the status of my shipment or addressing any concerns I may have, they always keep me informed every step of the way.                                                                                                                                                                                                                                                                                        | Positive           | Positive       |\n",
            "+----------------------------------------------------------------------------------------------------------------------------------------------------------------------------------------------------------------------------------------------------------------------------------------------------------------------------------------------------------------------------------------------------------------------------------------------------------------------------------------------------------------------------+--------------------+----------------+\n",
            "| ExpressWay Logistics' lack of attention to detail is concerning. Simple requests like fragile handling instructions are frequently ignored, resulting in damaged goods upon arrival. It's unacceptable.                                                                                                                                                                                                                                                                                                                    | Negative           | Negative       |\n",
            "+----------------------------------------------------------------------------------------------------------------------------------------------------------------------------------------------------------------------------------------------------------------------------------------------------------------------------------------------------------------------------------------------------------------------------------------------------------------------------------------------------------------------------+--------------------+----------------+\n",
            "| I had a last-minute change to my shipping address, and I was worried it would cause delays. However, ExpressWay Logistics quickly updated the information and ensured that my package arrived at the new location on time.                                                                                                                                                                                                                                                                                                 | Positive           | Positive       |\n",
            "+----------------------------------------------------------------------------------------------------------------------------------------------------------------------------------------------------------------------------------------------------------------------------------------------------------------------------------------------------------------------------------------------------------------------------------------------------------------------------------------------------------------------------+--------------------+----------------+\n",
            "| The customer support team at ExpressWay Logistics was unprofessional and unhelpful when I contacted them regarding a missing parcel. I was left feeling frustrated and disappointed.                                                                                                                                                                                                                                                                                                                                       | Negative           | Negative       |\n",
            "+----------------------------------------------------------------------------------------------------------------------------------------------------------------------------------------------------------------------------------------------------------------------------------------------------------------------------------------------------------------------------------------------------------------------------------------------------------------------------------------------------------------------------+--------------------+----------------+\n",
            "| ExpressWay Logistics is unreliable and untrustworthy. They failed to deliver my parcel on time, and the customer support team was unapologetic and unwilling to assist me in resolving the issue.                                                                                                                                                                                                                                                                                                                          | Negative           | Negative       |\n",
            "+----------------------------------------------------------------------------------------------------------------------------------------------------------------------------------------------------------------------------------------------------------------------------------------------------------------------------------------------------------------------------------------------------------------------------------------------------------------------------------------------------------------------------+--------------------+----------------+\n",
            "| When it comes to packaging materials, ExpressWay Logistics prioritizes quality and durability. I was impressed by the sturdy packaging used to protect my items during transit. Their attention to detail in selecting the right materials for each package ensured that my goods arrived in perfect condition. With ExpressWay Logistics, I can trust that my shipments will be handled with care and arrive safely at their destination.                                                                                 | Positive           | Positive       |\n",
            "+----------------------------------------------------------------------------------------------------------------------------------------------------------------------------------------------------------------------------------------------------------------------------------------------------------------------------------------------------------------------------------------------------------------------------------------------------------------------------------------------------------------------------+--------------------+----------------+\n",
            "| I appreciate the attention to detail that ExpressWay Logistics puts into every aspect of their service, from packaging to delivery to customer support and the promised door to door deliveries.Overall a satisfied service!                                                                                                                                                                                                                                                                                               | Positive           | Positive       |\n",
            "+----------------------------------------------------------------------------------------------------------------------------------------------------------------------------------------------------------------------------------------------------------------------------------------------------------------------------------------------------------------------------------------------------------------------------------------------------------------------------------------------------------------------------+--------------------+----------------+\n",
            "| ExpressWay Logistics' delivery drivers seem to have no regard for punctuality. Despite paying for expedited shipping, my packages are consistently delayed, causing major inconvenience. It's time for them to step up their game.                                                                                                                                                                                                                                                                                         | Negative           | Negative       |\n",
            "+----------------------------------------------------------------------------------------------------------------------------------------------------------------------------------------------------------------------------------------------------------------------------------------------------------------------------------------------------------------------------------------------------------------------------------------------------------------------------------------------------------------------------+--------------------+----------------+\n",
            "| The customer support team at ExpressWay Logistics was unprofessional and unhelpful when I contacted them regarding a missing parcel. I was left feeling frustrated and disappointed as the support team communicated with me that all the items were delivered to me and blamed me for claiming for missing items.                                                                                                                                                                                                         | Negative           | Negative       |\n",
            "+----------------------------------------------------------------------------------------------------------------------------------------------------------------------------------------------------------------------------------------------------------------------------------------------------------------------------------------------------------------------------------------------------------------------------------------------------------------------------------------------------------------------------+--------------------+----------------+\n",
            "| I am extremely disappointed with the service provided by ExpressWay Logistics. My parcel was delivered late, and the packaging was damaged, resulting in the loss of valuable items.                                                                                                                                                                                                                                                                                                                                       | Negative           | Negative       |\n",
            "+----------------------------------------------------------------------------------------------------------------------------------------------------------------------------------------------------------------------------------------------------------------------------------------------------------------------------------------------------------------------------------------------------------------------------------------------------------------------------------------------------------------------------+--------------------+----------------+\n",
            "| As a frequent traveler, I often use ExpressWay Logistics to ship luggage and personal belongings ahead of time. Their door-to-door service and reliable tracking make traveling a breeze.                                                                                                                                                                                                                                                                                                                                  | Positive           | Positive       |\n",
            "+----------------------------------------------------------------------------------------------------------------------------------------------------------------------------------------------------------------------------------------------------------------------------------------------------------------------------------------------------------------------------------------------------------------------------------------------------------------------------------------------------------------------------+--------------------+----------------+\n",
            "| I've been using ExpressWay Logistics for years, but lately, their service quality has declined significantly. Late deliveries and poor communication have become the norm, making me reconsider my loyalty to this company.I am dissatisfied by this level of service provided.Cannot trust again..Overall a disappointed customer!                                                                                                                                                                                        | Negative           | Negative       |\n",
            "+----------------------------------------------------------------------------------------------------------------------------------------------------------------------------------------------------------------------------------------------------------------------------------------------------------------------------------------------------------------------------------------------------------------------------------------------------------------------------------------------------------------------------+--------------------+----------------+\n",
            "| ExpressWay Logistics is my go-to for all my shipping needs. Whether it's a small package or a large shipment, they always deliver on time and with a smile. Thanks for the great service, ExpressWay Logistics!                                                                                                                                                                                                                                                                                                            | Positive           | Positive       |\n",
            "+----------------------------------------------------------------------------------------------------------------------------------------------------------------------------------------------------------------------------------------------------------------------------------------------------------------------------------------------------------------------------------------------------------------------------------------------------------------------------------------------------------------------------+--------------------+----------------+\n",
            "| The attention to detail ExpressWay Logistics puts into packaging materials is truly remarkable. When I received my shipment, I was impressed by the sturdy and secure packaging that ensured the safety of my items during transit. Their use of high-quality materials not only protected my goods from damage but also reflected their commitment to delivering a superior shipping experience. With ExpressWay Logistics, I can trust that my packages will be handled with care from start to finish.                  | Positive           | Positive       |\n",
            "+----------------------------------------------------------------------------------------------------------------------------------------------------------------------------------------------------------------------------------------------------------------------------------------------------------------------------------------------------------------------------------------------------------------------------------------------------------------------------------------------------------------------------+--------------------+----------------+\n",
            "| ExpressWay Logistics' incompetence resulted in a major inconvenience when my package was delivered to the wrong recipient. Despite providing accurate delivery information, the package ended up in the hands of someone else, and efforts to retrieve it were unsuccessful. When I contacted customer service for assistance, I was met with apathy and a lack of urgency. Their failure to rectify the situation in a timely manner is unacceptable, and I will be avoiding their services at all costs.                 | Negative           | Negative       |\n",
            "+----------------------------------------------------------------------------------------------------------------------------------------------------------------------------------------------------------------------------------------------------------------------------------------------------------------------------------------------------------------------------------------------------------------------------------------------------------------------------------------------------------------------------+--------------------+----------------+\n",
            "| ExpressWay Logistics failed to meet my expectations. The delivery was delayed, and the packaging was damaged, resulting in the loss of valuable items.I suffered a lot and will definitely not be a repeat customer.                                                                                                                                                                                                                                                                                                       | Negative           | Negative       |\n",
            "+----------------------------------------------------------------------------------------------------------------------------------------------------------------------------------------------------------------------------------------------------------------------------------------------------------------------------------------------------------------------------------------------------------------------------------------------------------------------------------------------------------------------------+--------------------+----------------+\n",
            "| ExpressWay Logistics' delivery drivers have repeatedly left packages in unsafe and unsecured locations, putting them at risk of theft or damage. Despite specific instructions to leave packages in a designated area, they have ignored these requests and left them exposed to the elements or in plain view of passersby. The lack of professionalism and regard for customer property from ExpressWay Logistics' drivers is unacceptable, and I'm deeply disappointed by their disregard for basic security protocols. | Negative           | Negative       |\n",
            "+----------------------------------------------------------------------------------------------------------------------------------------------------------------------------------------------------------------------------------------------------------------------------------------------------------------------------------------------------------------------------------------------------------------------------------------------------------------------------------------------------------------------------+--------------------+----------------+\n",
            "| ExpressWay Logistics seamlessly manages the complexities of international shipping, making it easy for businesses like mine to expand globally. Their expertise in navigating customs regulations and optimizing shipping routes has saved us time and money. With ExpressWay Logistics, we can confidently serve customers around the world, knowing that our shipments are in capable hands.                                                                                                                             | Positive           | Positive       |\n",
            "+----------------------------------------------------------------------------------------------------------------------------------------------------------------------------------------------------------------------------------------------------------------------------------------------------------------------------------------------------------------------------------------------------------------------------------------------------------------------------------------------------------------------------+--------------------+----------------+\n"
          ]
        },
        {
          "name": "stderr",
          "output_type": "stream",
          "text": [
            "100%|██████████| 5/5 [02:08<00:00, 25.66s/it]"
          ]
        },
        {
          "name": "stdout",
          "output_type": "stream",
          "text": [
            "+----------------------------------------------------------------------------------------------------------------------------------------------------------------------------------------------------------------------------------------------------------------------------------------------------------------------------------------------------------------------------------------------------------------------------------------------------------------------------------------------------------------------------+--------------------+----------------+\n",
            "| Review                                                                                                                                                                                                                                                                                                                                                                                                                                                                                                                     | Model Prediction   | Ground Truth   |\n",
            "+============================================================================================================================================================================================================================================================================================================================================================================================================================================================================================================================+====================+================+\n",
            "| I was impressed by the speed of delivery offered by ExpressWay Logistics, as my package arrived sooner than expected. The prompt service exceeded my expectations and demonstrated their commitment to timely deliveries.However, upon receiving the package, I discovered that an item was missing from the shipment. Despite contacting customer service to address the issue, I encountered difficulty in obtaining a resolution, leaving me dissatisfied with the overall experience.                                  | Negative           | Negative       |\n",
            "+----------------------------------------------------------------------------------------------------------------------------------------------------------------------------------------------------------------------------------------------------------------------------------------------------------------------------------------------------------------------------------------------------------------------------------------------------------------------------------------------------------------------------+--------------------+----------------+\n",
            "| I was promised to be updated with courier partner's contact details.Nothing happened as said and I faced difficulty finding the contact details and keep a track of my goods.I was scared if I was scammed and thought of raising a support ticket but ended up with a frustrating experience as there was no platform to do so.                                                                                                                                                                                           | Negative           | Negative       |\n",
            "+----------------------------------------------------------------------------------------------------------------------------------------------------------------------------------------------------------------------------------------------------------------------------------------------------------------------------------------------------------------------------------------------------------------------------------------------------------------------------------------------------------------------------+--------------------+----------------+\n",
            "| ExpressWay Logistics' proactive approach to problem-solving sets them apart from other logistics providers. They anticipate potential issues and take proactive steps to mitigate them, ensuring that our shipments arrive on time and in perfect condition. With ExpressWay Logistics, we have a partner we can rely on, no matter what challenges arise.                                                                                                                                                                 | Positive           | Positive       |\n",
            "+----------------------------------------------------------------------------------------------------------------------------------------------------------------------------------------------------------------------------------------------------------------------------------------------------------------------------------------------------------------------------------------------------------------------------------------------------------------------------------------------------------------------------+--------------------+----------------+\n",
            "| What I love most about ExpressWay Logistics is their seamless communication. Whether it's providing updates on the status of my shipment or addressing any concerns I may have, they always keep me informed every step of the way.                                                                                                                                                                                                                                                                                        | Positive           | Positive       |\n",
            "+----------------------------------------------------------------------------------------------------------------------------------------------------------------------------------------------------------------------------------------------------------------------------------------------------------------------------------------------------------------------------------------------------------------------------------------------------------------------------------------------------------------------------+--------------------+----------------+\n",
            "| ExpressWay Logistics' lack of attention to detail is concerning. Simple requests like fragile handling instructions are frequently ignored, resulting in damaged goods upon arrival. It's unacceptable.                                                                                                                                                                                                                                                                                                                    | Negative           | Negative       |\n",
            "+----------------------------------------------------------------------------------------------------------------------------------------------------------------------------------------------------------------------------------------------------------------------------------------------------------------------------------------------------------------------------------------------------------------------------------------------------------------------------------------------------------------------------+--------------------+----------------+\n",
            "| I had a last-minute change to my shipping address, and I was worried it would cause delays. However, ExpressWay Logistics quickly updated the information and ensured that my package arrived at the new location on time.                                                                                                                                                                                                                                                                                                 | Positive           | Positive       |\n",
            "+----------------------------------------------------------------------------------------------------------------------------------------------------------------------------------------------------------------------------------------------------------------------------------------------------------------------------------------------------------------------------------------------------------------------------------------------------------------------------------------------------------------------------+--------------------+----------------+\n",
            "| The customer support team at ExpressWay Logistics was unprofessional and unhelpful when I contacted them regarding a missing parcel. I was left feeling frustrated and disappointed.                                                                                                                                                                                                                                                                                                                                       | Negative           | Negative       |\n",
            "+----------------------------------------------------------------------------------------------------------------------------------------------------------------------------------------------------------------------------------------------------------------------------------------------------------------------------------------------------------------------------------------------------------------------------------------------------------------------------------------------------------------------------+--------------------+----------------+\n",
            "| ExpressWay Logistics is unreliable and untrustworthy. They failed to deliver my parcel on time, and the customer support team was unapologetic and unwilling to assist me in resolving the issue.                                                                                                                                                                                                                                                                                                                          | Negative           | Negative       |\n",
            "+----------------------------------------------------------------------------------------------------------------------------------------------------------------------------------------------------------------------------------------------------------------------------------------------------------------------------------------------------------------------------------------------------------------------------------------------------------------------------------------------------------------------------+--------------------+----------------+\n",
            "| When it comes to packaging materials, ExpressWay Logistics prioritizes quality and durability. I was impressed by the sturdy packaging used to protect my items during transit. Their attention to detail in selecting the right materials for each package ensured that my goods arrived in perfect condition. With ExpressWay Logistics, I can trust that my shipments will be handled with care and arrive safely at their destination.                                                                                 | Positive           | Positive       |\n",
            "+----------------------------------------------------------------------------------------------------------------------------------------------------------------------------------------------------------------------------------------------------------------------------------------------------------------------------------------------------------------------------------------------------------------------------------------------------------------------------------------------------------------------------+--------------------+----------------+\n",
            "| I appreciate the attention to detail that ExpressWay Logistics puts into every aspect of their service, from packaging to delivery to customer support and the promised door to door deliveries.Overall a satisfied service!                                                                                                                                                                                                                                                                                               | Positive           | Positive       |\n",
            "+----------------------------------------------------------------------------------------------------------------------------------------------------------------------------------------------------------------------------------------------------------------------------------------------------------------------------------------------------------------------------------------------------------------------------------------------------------------------------------------------------------------------------+--------------------+----------------+\n",
            "| ExpressWay Logistics' delivery drivers seem to have no regard for punctuality. Despite paying for expedited shipping, my packages are consistently delayed, causing major inconvenience. It's time for them to step up their game.                                                                                                                                                                                                                                                                                         | Negative           | Negative       |\n",
            "+----------------------------------------------------------------------------------------------------------------------------------------------------------------------------------------------------------------------------------------------------------------------------------------------------------------------------------------------------------------------------------------------------------------------------------------------------------------------------------------------------------------------------+--------------------+----------------+\n",
            "| The customer support team at ExpressWay Logistics was unprofessional and unhelpful when I contacted them regarding a missing parcel. I was left feeling frustrated and disappointed as the support team communicated with me that all the items were delivered to me and blamed me for claiming for missing items.                                                                                                                                                                                                         | Negative           | Negative       |\n",
            "+----------------------------------------------------------------------------------------------------------------------------------------------------------------------------------------------------------------------------------------------------------------------------------------------------------------------------------------------------------------------------------------------------------------------------------------------------------------------------------------------------------------------------+--------------------+----------------+\n",
            "| I am extremely disappointed with the service provided by ExpressWay Logistics. My parcel was delivered late, and the packaging was damaged, resulting in the loss of valuable items.                                                                                                                                                                                                                                                                                                                                       | Negative           | Negative       |\n",
            "+----------------------------------------------------------------------------------------------------------------------------------------------------------------------------------------------------------------------------------------------------------------------------------------------------------------------------------------------------------------------------------------------------------------------------------------------------------------------------------------------------------------------------+--------------------+----------------+\n",
            "| As a frequent traveler, I often use ExpressWay Logistics to ship luggage and personal belongings ahead of time. Their door-to-door service and reliable tracking make traveling a breeze.                                                                                                                                                                                                                                                                                                                                  | Positive           | Positive       |\n",
            "+----------------------------------------------------------------------------------------------------------------------------------------------------------------------------------------------------------------------------------------------------------------------------------------------------------------------------------------------------------------------------------------------------------------------------------------------------------------------------------------------------------------------------+--------------------+----------------+\n",
            "| I've been using ExpressWay Logistics for years, but lately, their service quality has declined significantly. Late deliveries and poor communication have become the norm, making me reconsider my loyalty to this company.I am dissatisfied by this level of service provided.Cannot trust again..Overall a disappointed customer!                                                                                                                                                                                        | Negative           | Negative       |\n",
            "+----------------------------------------------------------------------------------------------------------------------------------------------------------------------------------------------------------------------------------------------------------------------------------------------------------------------------------------------------------------------------------------------------------------------------------------------------------------------------------------------------------------------------+--------------------+----------------+\n",
            "| ExpressWay Logistics is my go-to for all my shipping needs. Whether it's a small package or a large shipment, they always deliver on time and with a smile. Thanks for the great service, ExpressWay Logistics!                                                                                                                                                                                                                                                                                                            | Positive           | Positive       |\n",
            "+----------------------------------------------------------------------------------------------------------------------------------------------------------------------------------------------------------------------------------------------------------------------------------------------------------------------------------------------------------------------------------------------------------------------------------------------------------------------------------------------------------------------------+--------------------+----------------+\n",
            "| The attention to detail ExpressWay Logistics puts into packaging materials is truly remarkable. When I received my shipment, I was impressed by the sturdy and secure packaging that ensured the safety of my items during transit. Their use of high-quality materials not only protected my goods from damage but also reflected their commitment to delivering a superior shipping experience. With ExpressWay Logistics, I can trust that my packages will be handled with care from start to finish.                  | Positive           | Positive       |\n",
            "+----------------------------------------------------------------------------------------------------------------------------------------------------------------------------------------------------------------------------------------------------------------------------------------------------------------------------------------------------------------------------------------------------------------------------------------------------------------------------------------------------------------------------+--------------------+----------------+\n",
            "| ExpressWay Logistics' incompetence resulted in a major inconvenience when my package was delivered to the wrong recipient. Despite providing accurate delivery information, the package ended up in the hands of someone else, and efforts to retrieve it were unsuccessful. When I contacted customer service for assistance, I was met with apathy and a lack of urgency. Their failure to rectify the situation in a timely manner is unacceptable, and I will be avoiding their services at all costs.                 | Negative           | Negative       |\n",
            "+----------------------------------------------------------------------------------------------------------------------------------------------------------------------------------------------------------------------------------------------------------------------------------------------------------------------------------------------------------------------------------------------------------------------------------------------------------------------------------------------------------------------------+--------------------+----------------+\n",
            "| ExpressWay Logistics failed to meet my expectations. The delivery was delayed, and the packaging was damaged, resulting in the loss of valuable items.I suffered a lot and will definitely not be a repeat customer.                                                                                                                                                                                                                                                                                                       | Negative           | Negative       |\n",
            "+----------------------------------------------------------------------------------------------------------------------------------------------------------------------------------------------------------------------------------------------------------------------------------------------------------------------------------------------------------------------------------------------------------------------------------------------------------------------------------------------------------------------------+--------------------+----------------+\n",
            "| ExpressWay Logistics' delivery drivers have repeatedly left packages in unsafe and unsecured locations, putting them at risk of theft or damage. Despite specific instructions to leave packages in a designated area, they have ignored these requests and left them exposed to the elements or in plain view of passersby. The lack of professionalism and regard for customer property from ExpressWay Logistics' drivers is unacceptable, and I'm deeply disappointed by their disregard for basic security protocols. | Negative           | Negative       |\n",
            "+----------------------------------------------------------------------------------------------------------------------------------------------------------------------------------------------------------------------------------------------------------------------------------------------------------------------------------------------------------------------------------------------------------------------------------------------------------------------------------------------------------------------------+--------------------+----------------+\n",
            "| ExpressWay Logistics seamlessly manages the complexities of international shipping, making it easy for businesses like mine to expand globally. Their expertise in navigating customs regulations and optimizing shipping routes has saved us time and money. With ExpressWay Logistics, we can confidently serve customers around the world, knowing that our shipments are in capable hands.                                                                                                                             | Positive           | Positive       |\n",
            "+----------------------------------------------------------------------------------------------------------------------------------------------------------------------------------------------------------------------------------------------------------------------------------------------------------------------------------------------------------------------------------------------------------------------------------------------------------------------------------------------------------------------------+--------------------+----------------+\n"
          ]
        },
        {
          "name": "stderr",
          "output_type": "stream",
          "text": [
            "\n"
          ]
        }
      ],
      "source": [
        "for _ in tqdm(range(num_eval_runs)):\n",
        "\n",
        "    # For each run create a new sample of examples\n",
        "    examples = create_examples(cs_examples_df)\n",
        "\n",
        "    # Assemble the zero shot prompt with these examples\n",
        "    zero_shot_prompt = [{'role':'system', 'content': zero_shot_system_message}]\n",
        "    # zero_shot_prompt = create_prompt(zero_shot_system_message, examples, user_message_template)\n",
        "\n",
        "    # Assemble the few shot prompt with these examples\n",
        "    few_shot_prompt = create_prompt(few_shot_system_message, examples, user_message_template)\n",
        "\n",
        "    # Evaluate zero shot prompt accuracy on gold examples\n",
        "    zero_shot_micro_f1 = evaluate_prompt(zero_shot_prompt, gold_examples, user_message_template)\n",
        "\n",
        "    # Evaluate few shot prompt accuracy on gold examples\n",
        "    few_shot_micro_f1 = evaluate_prompt(few_shot_prompt, gold_examples, user_message_template)\n",
        "\n",
        "    zero_shot_performance.append(zero_shot_micro_f1)\n",
        "    few_shot_performance.append(few_shot_micro_f1)"
      ]
    },
    {
      "cell_type": "markdown",
      "metadata": {
        "id": "4JSJzAeZZUBl",
        "nteract": {
          "transient": {
            "deleting": false
          }
        }
      },
      "source": [
        "**(C) Calculate Mean and Standard Deviation for Zero Shot Prompt and Few Shot Prompt (4 Marks)**\n",
        "\n",
        "Compute the average (mean) and measure the variability (standard deviation) of the evaluation scores for both zero shot and few shot prompts."
      ]
    },
    {
      "cell_type": "code",
      "execution_count": 81,
      "metadata": {
        "id": "Wlx7hRekacH2"
      },
      "outputs": [
        {
          "data": {
            "text/plain": [
              "(1.0, 0.0)"
            ]
          },
          "execution_count": 81,
          "metadata": {},
          "output_type": "execute_result"
        }
      ],
      "source": [
        "np.array(zero_shot_performance).mean(), np.array(zero_shot_performance).std()\n",
        "# Calculate for Zero Shot"
      ]
    },
    {
      "cell_type": "code",
      "execution_count": 82,
      "metadata": {
        "id": "aUt85F--aehR"
      },
      "outputs": [
        {
          "data": {
            "text/plain": [
              "(1.0, 0.0)"
            ]
          },
          "execution_count": 82,
          "metadata": {},
          "output_type": "execute_result"
        }
      ],
      "source": [
        "np.array(few_shot_performance).mean(), np.array(few_shot_performance).std()\n",
        "# Calculate for Few Shot"
      ]
    },
    {
      "cell_type": "markdown",
      "metadata": {
        "id": "P5bxwSR894YB"
      },
      "source": [
        "##**Step 5: Observation and Insights and Business perspective (3 Marks)**\n",
        "\n",
        "( Based on the projects, learner needs to share observations, learnings, insights and the business use case where these learnings can be beneficial.\n",
        "Provide a breakdown of the percentage of positive and negative reviews. Additionally, explain how this classification can assist ExpressWay Logistics in addressing the issues identified. )\n"
      ]
    },
    {
      "cell_type": "markdown",
      "metadata": {
        "id": "hJlhwUiT1kAn"
      },
      "source": [
        "### OBSERVATION(S):\n",
        "- The micro f1-score for both zero_shot and few_shot prompts are both 1.0 even after 5 evaluations. If this were a machine learning f1-score I would assume that the model is over-fitting. However, since this is not ML model training, but scoring of how each prompt's results compared to the gold-examples, I would say that the prompts are outstanding.  \n",
        "- Since the zero-shot-prompt has an average performance of 1.0 wich is perfect, we should NOT use the additional tokens needed for the few-shot-prompt. Few-shot is NOT adding any additional value while additional tokens are added cost.  \n",
        "\n",
        "### INSIGHTS:\n",
        "**Business Use Case**:  \n",
        "- These learnings can be useful to as they will give insoght into what their customers are saying about their services. The company states that they are committed to enhance their logistics and courier services and improve seamless connectivity for their customers. How will they know they are achieving this unless they survey responses from their customers, understand those sentiments, then take action where sentiment is negative.  \n",
        "- Through the application of prompt engineering methodologies and sentiment analysis, this will help them to gain those insights much faster than traditional NLP or more manual methods.  \n",
        "- In pratical application, these results are useless unless they are in a form that is digestible for stakeholders. As such, this application should be deployed and predictions perhaps transformed into an Excel file and piped to Azure Blob storage for consumption at the least.  \n",
        "\n",
        "**Breakdown of percentage of positive/negative reviews**:  \n",
        "There are 131 reviews in the data set. The breakdown is as such:  \n",
        "Positive    68  \n",
        "Negative    63  \n",
        "\n",
        "**How classification can assist Expressway Logistics in addressing the issues identified**:  \n",
        "I would propose using classification (text-to-label) to label each negative review based on 4 or 5 pre-determined labels such as late, slow, damaged, ect. Even in the case where there are no gold examples of lables, they can be inferred for a small sample, then tasked by the LLM to classify the remaining reviews. These labels can then be analyzed for more actionable insights that speak to customer pain points more so than standard 'positive/negative' sentiment.\n",
        "\n",
        "\n"
      ]
    }
  ],
  "metadata": {
    "colab": {
      "provenance": []
    },
    "kernelspec": {
      "display_name": "base",
      "language": "python",
      "name": "python3"
    },
    "language_info": {
      "codemirror_mode": {
        "name": "ipython",
        "version": 3
      },
      "file_extension": ".py",
      "mimetype": "text/x-python",
      "name": "python",
      "nbconvert_exporter": "python",
      "pygments_lexer": "ipython3",
      "version": "3.9.13"
    }
  },
  "nbformat": 4,
  "nbformat_minor": 0
}
